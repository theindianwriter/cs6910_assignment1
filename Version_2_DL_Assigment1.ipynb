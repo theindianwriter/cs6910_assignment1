{
  "nbformat": 4,
  "nbformat_minor": 0,
  "metadata": {
    "colab": {
      "name": "Version 2 DL_Assigment1.ipynb",
      "provenance": [],
      "authorship_tag": "ABX9TyNupfUoMPwxog1DCEaH4u2n",
      "include_colab_link": true
    },
    "kernelspec": {
      "display_name": "Python 3",
      "name": "python3"
    }
  },
  "cells": [
    {
      "cell_type": "markdown",
      "metadata": {
        "id": "view-in-github",
        "colab_type": "text"
      },
      "source": [
        "<a href=\"https://colab.research.google.com/github/theindianwriter/cs6910_assignment1/blob/main/Version_2_DL_Assigment1.ipynb\" target=\"_parent\"><img src=\"https://colab.research.google.com/assets/colab-badge.svg\" alt=\"Open In Colab\"/></a>"
      ]
    },
    {
      "cell_type": "code",
      "metadata": {
        "id": "r3dP-sp72KOC"
      },
      "source": [
        "import numpy as np\n",
        "import pandas as pd\n",
        "import matplotlib.pyplot as plt\n",
        "from tensorflow import keras\n",
        "from scipy.special import expit\n",
        "from sklearn.metrics import log_loss\n",
        "from sklearn.metrics import mean_squared_error"
      ],
      "execution_count": 9,
      "outputs": []
    },
    {
      "cell_type": "code",
      "metadata": {
        "id": "T4hRoteM6Gff"
      },
      "source": [
        "from keras.datasets import fashion_mnist"
      ],
      "execution_count": 10,
      "outputs": []
    },
    {
      "cell_type": "code",
      "metadata": {
        "colab": {
          "base_uri": "https://localhost:8080/"
        },
        "id": "_7xQF_HDnXs2",
        "outputId": "0d354d8c-d7db-4f39-ec85-fd462488a5f7"
      },
      "source": [
        "!pip install wandb -qqq\n",
        "import wandb\n",
        "wandb.login()"
      ],
      "execution_count": 11,
      "outputs": [
        {
          "output_type": "stream",
          "text": [
            "\u001b[34m\u001b[1mwandb\u001b[0m: \u001b[33mWARNING\u001b[0m Calling wandb.login() after wandb.init() has no effect.\n"
          ],
          "name": "stderr"
        },
        {
          "output_type": "execute_result",
          "data": {
            "text/plain": [
              "True"
            ]
          },
          "metadata": {
            "tags": []
          },
          "execution_count": 11
        }
      ]
    },
    {
      "cell_type": "code",
      "metadata": {
        "id": "XsO8ygJ-5X9f"
      },
      "source": [
        "def data_loader():\n",
        "    \n",
        "  (x_train,y_train),(x_test,y_test) = fashion_mnist.load_data()\n",
        "  num_of_train_data = x_train.shape[0]\n",
        "  combined_training_data = list(zip(x_train,y_train))\n",
        "  np.random.shuffle(combined_training_data)\n",
        "  (x_train,y_train) = zip(*combined_training_data)\n",
        "  x_train,y_train = np.array(x_train),np.array(y_train)\n",
        "  validation_size = int(0.1*num_of_train_data)\n",
        "  x_validation = x_train[:validation_size]\n",
        "  y_validation = y_train[:validation_size]\n",
        "  x_train = x_train[validation_size:]\n",
        "  y_train = y_train[validation_size:]\n",
        "  return x_train,y_train,x_validation,y_validation,x_test,y_test\n"
      ],
      "execution_count": 12,
      "outputs": []
    },
    {
      "cell_type": "code",
      "metadata": {
        "colab": {
          "base_uri": "https://localhost:8080/"
        },
        "id": "2s1_mbH28M6h",
        "outputId": "1433bc0d-8c51-4ae3-b49c-e04a4ca25739"
      },
      "source": [
        "x_train,y_train,x_validation,y_validation,x_test,y_test = data_loader()\n",
        "print(\"information regarding the training,validation and test dataset\")\n",
        "print(\"the size of training dataset is {},validation set is {},test set is {}\".format(x_train.shape[0],x_validation.shape[0],x_test.shape[0]))"
      ],
      "execution_count": 13,
      "outputs": [
        {
          "output_type": "stream",
          "text": [
            "information regarding the training,validation and test dataset\n",
            "the size of training dataset is 54000,validation set is 6000,test set is 10000\n"
          ],
          "name": "stdout"
        }
      ]
    },
    {
      "cell_type": "code",
      "metadata": {
        "id": "sA25XnEtFYjV"
      },
      "source": [
        "def vectorize(Y):\n",
        "  Y_vectorize = np.zeros((Y.shape[0],10))\n",
        "  for i in range(Y.shape[0]):\n",
        "      Y_vectorize[i][Y[i]] = 1.0\n",
        "  return Y_vectorize"
      ],
      "execution_count": 14,
      "outputs": []
    },
    {
      "cell_type": "code",
      "metadata": {
        "id": "XTyzvGeOBCBw"
      },
      "source": [
        "def prep_data(X,Y):\n",
        "    X_vector = np.array([np.reshape(x,(784))for x in X])\n",
        "    mean = np.mean(X_vector,axis = 0)\n",
        "    std = np.std(X_vector,axis = 0)\n",
        "    X_norm_vector = (X_vector - mean)/(std + 0.0001)\n",
        "    Y_vectorize = vectorize(Y)\n",
        "    return X_norm_vector,Y_vectorize"
      ],
      "execution_count": 15,
      "outputs": []
    },
    {
      "cell_type": "code",
      "metadata": {
        "id": "pQGgiWTjDh6s"
      },
      "source": [
        "class_label = ['T-shirt/top', \n",
        "           'Trousers', \n",
        "           'Pullover', \n",
        "           'Dress', 'Coat', \n",
        "           'Sandal', \n",
        "           'Shirt', \n",
        "           'Sneaker', \n",
        "           'Bag', \n",
        "           'Ankle boot']"
      ],
      "execution_count": 16,
      "outputs": []
    },
    {
      "cell_type": "code",
      "metadata": {
        "id": "8gG3CFQOFROJ"
      },
      "source": [
        "#Q1 plots one image of each class \n",
        "\n",
        "def plot_each_label(X,Y):\n",
        "  rows = 2\n",
        "  cols = 5\n",
        "  fig = plt.figure()\n",
        "  ax = []\n",
        "  j = 0\n",
        "  for i in range(1,rows*cols + 1):\n",
        "    ax.append(fig.add_subplot(rows,cols,i))\n",
        "    pos = np.where(Y == j)\n",
        "    plt.imshow(X[pos[0][0]])\n",
        "    plt.xticks([])\n",
        "    plt.yticks([])\n",
        "    ax[-1].set_title(class_label[j])\n",
        "    j += 1\n",
        "  plt.show()\n"
      ],
      "execution_count": 17,
      "outputs": []
    },
    {
      "cell_type": "code",
      "metadata": {
        "colab": {
          "base_uri": "https://localhost:8080/",
          "height": 227
        },
        "id": "KF-0eNsd_0oZ",
        "outputId": "4a9d2f77-0b52-4e17-d887-e534f8d12495"
      },
      "source": [
        "#Q1 calls and plots image of each class\n",
        "plot_each_label(x_train,y_train)"
      ],
      "execution_count": 18,
      "outputs": [
        {
          "output_type": "display_data",
          "data": {
            "image/png": "[encoded data removed]",
            "text/plain": [
              "<Figure size 432x288 with 10 Axes>"
            ]
          },
          "metadata": {
            "tags": []
          }
        }
      ]
    },
    {
      "cell_type": "code",
      "metadata": {
        "id": "Ehw2440wrtQ2"
      },
      "source": [
        "def softmax(X):\n",
        "    output = np.zeros(X.shape)\n",
        "    for col in range(X.shape[1]):\n",
        "        exps = np.exp(X[:,col] - np.max(X[:,col]))\n",
        "        output[:,col] = exps/exps.sum()\n",
        "\n",
        "    return output\n",
        "\n",
        "def sigmoid(X):\n",
        "    return expit(X) #to avoid overflow\n",
        "\n",
        "def sigmoid_derivative(x):\n",
        "  return sigmoid(x)*(1-sigmoid(x))\n",
        "\n",
        "def tanh(X):\n",
        "    return np.tanh(X)\n",
        "\n",
        "def relu(X,alpha = 0):\n",
        "    X = np.array(X,dtype=np.float64)\n",
        "    return np.where(X<0,0,X)\n",
        "\n",
        "def tanh_derivative(X):\n",
        "    return (1-np.square(tanh(X)))\n",
        "\n",
        "def relu_derivative(X):\n",
        "    X_relu = np.ones_like(X,dtype=np.float64)\n",
        "    X_relu[X < 0] = 0\n",
        "    return X_relu\n",
        "\n",
        "\n",
        "  "
      ],
      "execution_count": 19,
      "outputs": []
    },
    {
      "cell_type": "code",
      "metadata": {
        "id": "yPs0JWttc6ly"
      },
      "source": [
        "class Network:\n",
        "\n",
        "# ---------------------------------------START OF NETWORK INITIALIAZATION ---------------------------------------------\n",
        "#----------------------------------------------------------------------------------------------------------------------\n",
        "  #initialization of the network\n",
        "  def __init__(self,layers,weight_initilizer = \"random\"):\n",
        "    print(layers)\n",
        "    self.num_of_layers = len(layers)\n",
        "    self.layers = layers\n",
        "    self.num_of_steps = 0\n",
        "\n",
        "    #based on the methods the initilization would be done\n",
        "    if weight_initilizer == 'random':\n",
        "      self.random(layers)\n",
        "    elif weight_initilizer == 'Xavier':\n",
        "      self.Xavier(layers)\n",
        "    else:\n",
        "      print(\"ERROR\")\n",
        "\n",
        "    #used for mpmentum based gradient descent,adam and nadam\n",
        "    self.prev_update_biases = [np.zeros((x,1)) for x in layers[1:]]\n",
        "    self.prev_update_weights = [np.zeros((x,y)) for x,y in zip(layers[1:],layers[:-1])]\n",
        "    #used for adam,rmsprop and nadam\n",
        "    self.v_w = [np.zeros((x,y)) for x,y in zip(layers[1:],layers[:-1])]\n",
        "    self.v_b = [np.zeros((x,1)) for x in layers[1:]]\n",
        "\n",
        "#--------------------------------------END OF INITIALIZATION OF NETWORK------------------------------------------------\n",
        "#----------------------------------------------------------------------------------------------------------------------\n",
        "\n",
        "#-----------------------------------------START OF INITILIZATION OF WEIGHTS AND BIASES METHODS ------------------------------\n",
        "#---------------------------------------------------------------------------------------------------------------------------\n",
        "\n",
        "  def random(self,layers):\n",
        "    self.biases = [np.random.randn(x,1) for x in layers[1:]]\n",
        "    self.weights = [np.random.randn(x,y) for x,y in zip(layers[1:],layers[:-1])]\n",
        "\n",
        "  def Xavier(self,layers):\n",
        "    self.biases = [np.random.randn(x,1) for x in layers[1:]]\n",
        "    self.weights = [np.random.randn(x,y)*2/np.sqrt(y+x) for x,y in zip(layers[1:],layers[:-1])]\n",
        "\n",
        "#-------------------------------------------END OF INITIALIZATION OF WEIGHTS AND BIASES METHOD-------------------------------------\n",
        "#-----------------------------------------------------------------------------------------------------------------------------------\n",
        "\n",
        "\n",
        "#---------------------------------------------START OF CALCULATING LOSS FUNCTIONS ----------------------------------------------------\n",
        "#------------------------------------------------------------------------------------------------------------------------------------\n",
        "\n",
        "  def calculate_loss(self,Y,Y_predicted):\n",
        "    if self.loss == \"cross_entropy_loss\":\n",
        "        error = log_loss(Y,Y_predicted)\n",
        "        return error\n",
        "    elif self.loss == \"squared-error\":\n",
        "        error = mean_squared_error(Y,Y_predicted)\n",
        "        return error\n",
        "#--------------------------------------------------END OF CALCULATING LOSS FUNCTIONS------------------------------------------------\n",
        "#--------------------------------------------------------------------------------------------------------------------------------------\n",
        "\n",
        "#-----------------------------------------------------------START OF ACTIVATION FUNCTION METHODS ----------------------------------------\n",
        "#--------------------------------------------------------------------------------------------------------------------------------------\n",
        "\n",
        "  def perform_activation(self,A):\n",
        " \n",
        "    if self.activation == 'sigmoid':\n",
        "      return sigmoid(A)\n",
        "    elif self.activation == \"tanh\":\n",
        "      return tanh(A)\n",
        "    elif self.activation == \"relu\":\n",
        "        return relu(A)\n",
        "    else:\n",
        "      print(\"ERROR\")\n",
        "\n",
        "  def perform_output_function(self,A):\n",
        "\n",
        "    if self.output_function == \"softmax\":\n",
        "      H = softmax(A)\n",
        "    else:\n",
        "      print(\"ERROR\")\n",
        "    return H\n",
        "#--------------------------------------------------END OF ACTIVATION FUNCTION METHODS-----------------------------------------------\n",
        "#--------------------------------------------------------------------------------------------------------------------------------\n",
        "\n",
        "\n",
        "\n",
        "  def update_parameter(self,grad_wrt_weights,grad_wrt_biases,eta,gamma = 0.5,beta1 = 0.9,beta2 = 0.999,eps = 1e-08):\n",
        "    if self.optimizer == \"sgd\":\n",
        "        update_wrt_biases = [eta*gb for gb in grad_wrt_biases]\n",
        "        update_wrt_weights = [eta*gw for gw in grad_wrt_weights]\n",
        "\n",
        "    elif self.optimizer == \"momentum\":\n",
        "        update_wrt_biases = [gamma*ub + eta*gb for ub,gb in zip(self.prev_update_biases,grad_wrt_biases)]\n",
        "        update_wrt_weights = [gamma*uw + eta*gw for uw,gw in zip(self.prev_update_weights,grad_wrt_weights)]\n",
        "\n",
        "        self.prev_update_biases = update_wrt_biases\n",
        "        self.prev_update_weights = update_wrt_weights\n",
        "\n",
        "    elif self.optimizer == \"nesterov\":\n",
        "\n",
        "        update_wrt_biases = [gamma*ub + eta*gb for ub,gb in zip(self.prev_update_biases,grad_wrt_biases)]\n",
        "        update_wrt_weights = [gamma*uw + eta*gw for uw,gw in zip(self.prev_update_weights,grad_wrt_weights)]\n",
        "\n",
        "        self.prev_update_biases = update_wrt_biases\n",
        "        self.prev_update_weights = update_wrt_weights\n",
        "\n",
        "    elif self.optimizer == \"rmsprop\":\n",
        "\n",
        "        self.v_b = [beta2*t + (1-beta2)*(np.square(gb)) for t,gb in zip(self.v_b,grad_wrt_biases)]\n",
        "        self.v_w = [beta2*t + (1-beta2)*(np.square(gw)) for t,gw in zip(self.v_w,grad_wrt_weights)] \n",
        "        \n",
        "\n",
        "        update_wrt_biases = [(eta)*(gb/(np.sqrt(vb)+eps)) for vb,gb in zip(self.v_b,grad_wrt_biases)]\n",
        "        update_wrt_weights = [eta*(gw/(np.sqrt(vw)+eps)) for vw,gw in zip(self.v_w,grad_wrt_weights)]\n",
        "\n",
        "\n",
        "    elif self.optimizer == \"adam\":\n",
        "        i = self.num_of_steps - 1\n",
        "\n",
        "        self.prev_update_biases =  [(beta1*mb + (1-beta1)*gb)for mb,gb in zip(self.prev_update_biases,grad_wrt_biases)] \n",
        "        self.prev_update_weights = [(beta1*mw + (1-beta1)*gw) for mw,gw in zip(self.prev_update_weights,grad_wrt_weights)] \n",
        "\n",
        "        # m_b_hat = [mb*(1-np.power(beta1,i)) for mb in m_b]\n",
        "        # m_w_hat = [mw*(1-np.power(beta1,i)) for mw in m_w]\n",
        "\n",
        "        self.v_w = [(beta2*vw + (1-beta2)*(np.square(gw))) for vw,gw in zip(self.v_w,grad_wrt_weights)] \n",
        "        self.v_b = [(beta2*vb + (1-beta2)*(np.square(gb))) for vb,gb in zip(self.v_b,grad_wrt_biases)]\n",
        "\n",
        "        # v_b_hat = [(vb/np.power(beta2,i)) for vb in self.v_b]\n",
        "        # v_w_hat = [(vw/np.power(beta2,i)) for vw in self.v_w]\n",
        "        eta =  eta*np.sqrt((1-beta2**i)/((1-beta1**i)+eps))\n",
        "        update_wrt_biases = [eta*(mb/(np.power(vb,0.5)+eps)) for vb,mb in zip( self.v_b,self.prev_update_biases)]\n",
        "        update_wrt_weights = [eta*(mw/(np.power(vw,0.5)+eps)) for vw,mw in zip(self.v_w,self.prev_update_weights)]\n",
        "\n",
        "        # self.prev_update_biases = m_b\n",
        "        # self.prev_update_weights = m_w\n",
        "        # print(self.prev_update_biases)\n",
        "\n",
        "    elif self.optimizer == \"nadam\":\n",
        "        i = self.num_of_steps - 1\n",
        "\n",
        "        m_b =  [(beta1*mb + (1-beta1)*gb)for mb,gb in zip(self.prev_update_biases,grad_wrt_biases)] \n",
        "        m_w = [(beta1*mw + (1-beta1)*gw) for mw,gw in zip(self.prev_update_weights,grad_wrt_weights)] \n",
        "\n",
        "        m_b_hat = [mb*(1-np.power(beta1,i)) for mb in m_b]\n",
        "        m_w_hat = [mw*(1-np.power(beta1,i)) for mw in m_w]\n",
        "\n",
        "        self.v_w = [(beta2*vw + (1-beta2)*(np.power(gw,2))) for vw,gw in zip(self.v_w,grad_wrt_weights)] \n",
        "        self.v_b = [(beta2*vb + (1-beta2)*(np.power(gb,2))) for vb,gb in zip(self.v_b,grad_wrt_biases)]\n",
        "\n",
        "        v_b_hat = [(vb/np.power(beta2,i)) for vb in self.v_b]\n",
        "        v_w_hat = [(vw/np.power(beta2,i)) for vw in self.v_w]\n",
        "\n",
        "        update_wrt_biases = [(eta/np.power(vb+eps,0.5))*mb for vb,mb in zip(v_b_hat,m_b_hat)]\n",
        "        update_wrt_weights = [(eta/np.power(vw+eps,0.5))*mw for vw,mw in zip(v_w_hat,m_w_hat)]\n",
        "\n",
        "        self.prev_update_biases = m_b\n",
        "        self.prev_update_weights = m_w\n",
        "        \n",
        "\n",
        "    #updation of the parameters\n",
        "    self.weights = [w - grad_w for w,grad_w in zip(self.weights,update_wrt_weights)]\n",
        "    self.biases = [b - grad_b for b,grad_b in zip(self.biases,update_wrt_biases)]\n",
        "\n",
        "\n",
        "    \n",
        "\n",
        "\n",
        "  def forward_propagation(self,X):\n",
        "    #input vector to the network\n",
        "    A_h = X.T\n",
        "    #array to store pre-activation vectors of the hidden layers and output layer\n",
        "    A = []\n",
        "    #array to store post activation vectors of the input layer,hidden layers and ouput layer\n",
        "    H = [X.T]\n",
        "    for w,b in zip(self.weights[:-1],self.biases[:-1]):\n",
        "      A_h = np.dot(w,A_h)+ b\n",
        "      A.append(A_h)\n",
        "      H_i = self.perform_activation(A_h)\n",
        "      H.append(H_i)\n",
        "\n",
        "    #calculating the pre-activation and post-activation vector in the output layer\n",
        "    w,b = self.weights[-1],self.biases[-1]\n",
        "    A_o = np.dot(w,A[-1]) + b\n",
        "    A.append(A_o)\n",
        "    H_o = self.perform_output_function(A_o)\n",
        "    H.append(H_o)\n",
        "    return A,H,H[-1]\n",
        "\n",
        "\n",
        "  def get_delta_hidden_layer(self,grad_wrt_weight,delta,A):\n",
        "        if self.activation == \"sigmoid\":\n",
        "            return np.dot(grad_wrt_weight.T,delta)*(sigmoid_derivative(A))\n",
        "        elif self.activation == \"tanh\":\n",
        "            return np.dot(grad_wrt_weight.T,delta)*(tanh_derivative(A))\n",
        "        elif self.activation == \"relu\":\n",
        "            return np.dot(grad_wrt_weight.T,delta)*(relu_derivative(A))\n",
        "\n",
        "  def get_delta_last_layer(self,A,H,Y):\n",
        "\n",
        "    if self.loss == \"cross_entropy_loss\":\n",
        "      delta = H - Y.T\n",
        "      return delta\n",
        "    elif self.loss == \"squared-error\":\n",
        "      delta = (H - Y.T)*H*(1-H)\n",
        "      return delta\n",
        "\n",
        "  def backward_propagation(self,X,Y,A,H,l2 = 0.3):\n",
        "\n",
        "    grad_wrt_weights = [np.zeros(w.shape) for w in self.weights]\n",
        "    grad_wrt_biases = [np.zeros(b.shape) for b in self.biases]\n",
        "    N = X.shape[0]\n",
        "    delta = self.get_delta_last_layer(A[-1],H[-1],Y)\n",
        "    grad_wrt_biases[-1] = (1/N)*np.sum(delta,axis = 1,keepdims = True)\n",
        "    grad_wrt_weights[-1] = (1/N)*np.dot(delta,H[-2].T)\n",
        "    for l in range(2,self.num_of_layers):\n",
        "      delta = self.get_delta_hidden_layer(grad_wrt_weights[-l+1],delta,A[-l])\n",
        "      grad_wrt_biases[-l] = (1/N)*np.sum(delta,axis = 1,keepdims = True)\n",
        "      grad_wrt_weights[-l] = (1/N)*np.dot(delta,H[-l-1].T) + ((l2 * self.weights[-l])/N)\n",
        "      \n",
        "    return grad_wrt_weights,grad_wrt_biases\n",
        "\n",
        "  def fit(self,x_train,y_train,x_val,y_val,epochs = 5, eta = 0.001,gamma = 0.5,batch_size = 64,beta1 = 0.9):\n",
        "      \n",
        "    N = x_train.shape[0]\n",
        "    prev_accuracy = 0\n",
        "    max_accuracy = 0\n",
        "    for epoch in range(1,epochs+1):\n",
        "        batch_error = 0\n",
        "        combined_training_data = list(zip(x_train,y_train))\n",
        "        np.random.shuffle(combined_training_data)\n",
        "        x_train[:],y_train[:] = zip(*combined_training_data)\n",
        "        x_train,y_train = np.array(x_train),np.array(y_train)\n",
        "\n",
        "        mini_x_batches = [x_train[i:i+batch_size] for i in range(0,N,batch_size)]\n",
        "        mini_y_batches = [y_train[i:i+batch_size] for i in range(0,N,batch_size)] \n",
        "\n",
        "        for X,Y in zip(mini_x_batches,mini_y_batches):\n",
        "            #only for nestorov accelerated gradient descent\n",
        "            self.num_of_steps += 1\n",
        "            if self.optimizer == \"nesterov\":\n",
        "                self.biases = [b - gamma*ub for b,ub in zip(self.biases,self.prev_update_biases)]\n",
        "                self.weights = [w - gamma*uw  for w,uw in zip(self.weights,self.prev_update_weights)]\n",
        "\n",
        "            if self.optimizer == \"nadam\":\n",
        "                self.biases = [b - beta1*ub*(1-np.power(beta1,self.num_of_steps)) for b,ub in zip(self.biases,self.prev_update_biases)]\n",
        "                self.weights = [w - beta1*uw*(1-np.power(beta1,self.num_of_steps)) for w,uw in zip(self.weights,self.prev_update_weights)]\n",
        "\n",
        "            #forward propagation\n",
        "            A,H,Y_predicted = self.forward_propagation(X)\n",
        "            #backward propagation\n",
        "            grad_wrt_weights,grad_wrt_biases = self.backward_propagation(X,Y,A,H)\n",
        "            #gradient descent variant\n",
        "            self.update_parameter(grad_wrt_weights,grad_wrt_biases,eta,gamma)\n",
        "            batch_error += self.calculate_loss(Y.T,Y_predicted)\n",
        "\n",
        "        loss = batch_error/N\n",
        "        accuracy_val = self.test(x_val,y_val)\n",
        "\n",
        "        if(max_accuracy - accuracy_val) > 4.0:\n",
        "            break\n",
        "\n",
        "        max_accuracy = max(max_accuracy,accuracy_val)\n",
        "        \n",
        "        #for annealing the learning rate just a heuristic\n",
        "        if (prev_accuracy - accuracy_val) > 0.5:\n",
        "            eta = eta/2\n",
        "        prev_accuracy = accuracy_val\n",
        "\n",
        "\n",
        "        print(\"In epoch {} the loss for train set is {}\".format(epoch,loss))\n",
        "        print(\"In epoch {} the accuracy for validation set is {} %\".format(epoch,accuracy_val))\n",
        "        wandb.log({\"epoch\": epoch,\"accuracy\" : accuracy_val,\"training loss\":loss })\n",
        "        print(\"---------------------------------------------------------\\n\")\n",
        "        \n",
        "\n",
        "  def compile(self,optimizer = \"sgd\",loss = \"squared-error\",activation = \"sigmoid\",output_function = \"softmax\",metrics = \"accuracy\"):\n",
        "\n",
        "    self.activation = activation\n",
        "    self.output_function = output_function\n",
        "    self.optimizer = optimizer\n",
        "    self.loss = loss\n",
        "    self.metrics = metrics\n",
        "\n",
        "\n",
        "  def test(self,X,Y):\n",
        "    if self.metrics == \"accuracy\":\n",
        "        A,H,Y_predicted = self.forward_propagation(X)\n",
        "        Y_list = np.argmax(Y.T,axis = 0).reshape(Y.T.shape[1], 1)\n",
        "        Y_list_predicted = np.argmax(Y_predicted,axis = 0).reshape(Y.T.shape[1], 1)\n",
        "        accuracy_matrix = Y_list_predicted == Y_list\n",
        "        accuracy_list = list(accuracy_matrix)\n",
        "        correct = accuracy_list.count([True])\n",
        "        return round(((correct*100)/len(accuracy_list)),2)\n",
        "\n"
      ],
      "execution_count": 32,
      "outputs": []
    },
    {
      "cell_type": "code",
      "metadata": {
        "id": "epypxxybGm_2"
      },
      "source": [
        "x_train_transformed,y_train_transformed = prep_data(x_train,y_train)"
      ],
      "execution_count": 21,
      "outputs": []
    },
    {
      "cell_type": "code",
      "metadata": {
        "id": "t8jy2JtsaxXY"
      },
      "source": [
        "x_val_transformed,y_val_transformed = prep_data(x_validation,y_validation)"
      ],
      "execution_count": 22,
      "outputs": []
    },
    {
      "cell_type": "code",
      "metadata": {
        "id": "NXr0dl1eN67E"
      },
      "source": [
        "x_test_transformed,y_test_transformed = prep_data(x_test,y_test)"
      ],
      "execution_count": 23,
      "outputs": []
    },
    {
      "cell_type": "code",
      "metadata": {
        "id": "fXE6dDvyLgVe"
      },
      "source": [
        "#----------------------------------PREPARE THE TRAINING DATA BEFORE --------------------------------"
      ],
      "execution_count": null,
      "outputs": []
    },
    {
      "cell_type": "code",
      "metadata": {
        "id": "5jlkx5ansvZg",
        "colab": {
          "base_uri": "https://localhost:8080/",
          "height": 408
        },
        "outputId": "66bbd144-fcbc-4048-a2eb-9f6ba296e380"
      },
      "source": [
        "defaults = dict(\n",
        "    num_of_hidden_layers = 3,\n",
        "    size_of_hidden_layer = 128,\n",
        "    optimizer = \"adam\",\n",
        "    loss = \"cross_entropy_loss\",\n",
        "    activation = \"sigmoid\",\n",
        "    output_function = \"softmax\",\n",
        "    metrics = \"accuracy\",\n",
        "    learning_rate = 0.001,\n",
        "    gamma = 0.5,\n",
        "    epochs = 20,\n",
        "    batch_size = 64,\n",
        "    weight_initializer = \"Xavier\"\n",
        ")\n",
        "\n",
        "wandb.init(project=\"CS6910-assignment1\",config = defaults)\n",
        "config = wandb.config"
      ],
      "execution_count": 30,
      "outputs": [
        {
          "output_type": "display_data",
          "data": {
            "text/html": [
              "Finishing last run (ID:1d1ki4w8) before initializing another..."
            ],
            "text/plain": [
              "<IPython.core.display.HTML object>"
            ]
          },
          "metadata": {
            "tags": []
          }
        },
        {
          "output_type": "display_data",
          "data": {
            "text/html": [
              "<br/>Waiting for W&B process to finish, PID 3181<br/>Program ended successfully."
            ],
            "text/plain": [
              "<IPython.core.display.HTML object>"
            ]
          },
          "metadata": {
            "tags": []
          }
        },
        {
          "output_type": "stream",
          "text": [
            "\u001b[34m\u001b[1mwandb\u001b[0m: \u001b[32m\u001b[41mERROR\u001b[0m Problem finishing run\n",
            "Traceback (most recent call last):\n",
            "  File \"/usr/local/lib/python3.7/dist-packages/wandb/sdk/wandb_run.py\", line 1458, in _atexit_cleanup\n",
            "    self._on_finish()\n",
            "  File \"/usr/local/lib/python3.7/dist-packages/wandb/sdk/wandb_run.py\", line 1615, in _on_finish\n",
            "    self._backend.interface.publish_telemetry(self._telemetry_obj)\n",
            "  File \"/usr/local/lib/python3.7/dist-packages/wandb/sdk/interface/interface.py\", line 226, in publish_telemetry\n",
            "    self._publish(rec)\n",
            "  File \"/usr/local/lib/python3.7/dist-packages/wandb/sdk/interface/interface.py\", line 518, in _publish\n",
            "    raise Exception(\"The wandb backend process has shutdown\")\n",
            "Exception: The wandb backend process has shutdown\n"
          ],
          "name": "stderr"
        },
        {
          "output_type": "display_data",
          "data": {
            "text/html": [
              "...Successfully finished last run (ID:1d1ki4w8). Initializing new run:<br/><br/>"
            ],
            "text/plain": [
              "<IPython.core.display.HTML object>"
            ]
          },
          "metadata": {
            "tags": []
          }
        },
        {
          "output_type": "display_data",
          "data": {
            "text/html": [
              "\n",
              "                Tracking run with wandb version 0.10.22<br/>\n",
              "                Syncing run <strong style=\"color:#cdcd00\">cerulean-fire-126</strong> to <a href=\"https://wandb.ai\" target=\"_blank\">Weights & Biases</a> <a href=\"https://docs.wandb.com/integrations/jupyter.html\" target=\"_blank\">(Documentation)</a>.<br/>\n",
              "                Project page: <a href=\"https://wandb.ai/theindianwriter/CS6910-assignment1\" target=\"_blank\">https://wandb.ai/theindianwriter/CS6910-assignment1</a><br/>\n",
              "                Run page: <a href=\"https://wandb.ai/theindianwriter/CS6910-assignment1/runs/2tzedzee\" target=\"_blank\">https://wandb.ai/theindianwriter/CS6910-assignment1/runs/2tzedzee</a><br/>\n",
              "                Run data is saved locally in <code>/content/wandb/run-20210315_212153-2tzedzee</code><br/><br/>\n",
              "            "
            ],
            "text/plain": [
              "<IPython.core.display.HTML object>"
            ]
          },
          "metadata": {
            "tags": []
          }
        }
      ]
    },
    {
      "cell_type": "code",
      "metadata": {
        "colab": {
          "base_uri": "https://localhost:8080/"
        },
        "id": "-J09hAt6unnF",
        "outputId": "966f811b-82fa-4242-81f6-49faebe30f01"
      },
      "source": [
        "layers = [784,10]\n",
        "for i in range(config.num_of_hidden_layers):\n",
        "    layers.insert(1,config.size_of_hidden_layer)\n",
        "\n",
        "\n",
        "net = Network(layers,weight_initilizer=config.weight_initializer)\n",
        "net.compile(optimizer = config.optimizer,loss = config.loss,activation = config.activation,output_function = config.output_function,metrics = config.metrics)\n",
        "\n",
        "net.fit(x_train_transformed,y_train_transformed,x_val_transformed,y_val_transformed,epochs = config.epochs, eta = config.learning_rate,batch_size = config.batch_size,gamma = config.gamma)"
      ],
      "execution_count": 33,
      "outputs": [
        {
          "output_type": "stream",
          "text": [
            "[784, 128, 128, 128, 10]\n",
            "In epoch 1 the loss for train set is 1.7003202887767876\n",
            "In epoch 1 the accuracy for validation set is 26.45 %\n",
            "---------------------------------------------------------\n",
            "\n"
          ],
          "name": "stdout"
        }
      ]
    },
    {
      "cell_type": "code",
      "metadata": {
        "id": "iFOeVG4mLUmS"
      },
      "source": [
        "#-------------STARTS SWEEP CODE FROM HERE Q4------------------------------------------------------------------"
      ],
      "execution_count": null,
      "outputs": []
    },
    {
      "cell_type": "code",
      "metadata": {
        "colab": {
          "background_save": true
        },
        "id": "whoETXqyAa4U"
      },
      "source": [
        "sweep_config = {\n",
        "    'method': 'random', #grid, random\n",
        "    'metric': {\n",
        "      'name': 'accuracy',\n",
        "      'goal': 'maximize'   \n",
        "    },\n",
        "    'parameters': {\n",
        "        'epochs': {\n",
        "            'values': [20, 30, 50]\n",
        "        },\n",
        "        'learning_rate': {\n",
        "            'values': [1e-2, 1e-3,1e-4]\n",
        "        },\n",
        "        'optimizer': {\n",
        "            'values': ['adam', 'nadam', 'sgd', 'rmsprop',\"nesterov\",\"momentum\"]\n",
        "        },\n",
        "        'activation': {\n",
        "            'values': ['tanh', 'sigmoid','relu']\n",
        "        },\n",
        "        'num_of_hidden_layers': {\n",
        "            'values' : [2,3,4,5]\n",
        "        },\n",
        "        'size_of_hidden_layer' : {\n",
        "            'values' : [32,64,128]\n",
        "        },\n",
        "        'output_function':{\n",
        "            'values': [\"softmax\"]\n",
        "        },\n",
        "        'batch_size':{\n",
        "            'values': [16,32,64]\n",
        "        },\n",
        "        'weight_initializer': {\n",
        "            'values': [\"random\",'Xavier']\n",
        "        },\n",
        "        'loss':{\n",
        "            'values' : [\"cross_entropy_loss\",\"squared-error\"]\n",
        "        },\n",
        "        'gamma':{\n",
        "            'values' : [0.5,0.9,0.6]\n",
        "        },\n",
        "\n",
        "    }\n",
        "}"
      ],
      "execution_count": null,
      "outputs": []
    },
    {
      "cell_type": "code",
      "metadata": {
        "id": "JqBkOduE_ZNi"
      },
      "source": [
        "def train():\n",
        "    defaults = dict(\n",
        "    num_of_hidden_layers = 1,\n",
        "    size_of_hidden_layer = 32,\n",
        "    optimizer = \"adam\",\n",
        "    loss = \"cross_entropy_loss\",\n",
        "    activation = \"tanh\",\n",
        "    output_function = \"softmax\",\n",
        "    metrics = \"accuracy\",\n",
        "    learning_rate = 0.001,\n",
        "    gamma = 0.9,\n",
        "    epochs = 20,\n",
        "    batch_size = 64,\n",
        "    weight_initializer = \"Xavier\"\n",
        "    )\n",
        "\n",
        "    wandb.init(project=\"CS6910-assignment1\",config = defaults)\n",
        "    config = wandb.config\n",
        "\n",
        "    layers = [784,10]\n",
        "    for i in range(config.num_of_hidden_layers):\n",
        "        layers.insert(1,config.size_of_hidden_layer)\n",
        "\n",
        "    net = Network(layers,weight_initilizer=config.weight_initializer)\n",
        "    net.compile(optimizer = config.optimizer,loss = config.loss,activation = config.activation,output_function = config.output_function,metrics = config.metrics)\n",
        "\n",
        "    net.fit(x_train_transformed,y_train_transformed,x_val_transformed,y_val_transformed,epochs = config.epochs, eta = config.learning_rate,batch_size = config.batch_size,gamma = config.gamma)\n"
      ],
      "execution_count": null,
      "outputs": []
    },
    {
      "cell_type": "code",
      "metadata": {
        "colab": {
          "base_uri": "https://localhost:8080/"
        },
        "id": "D45PNJflDmbc",
        "outputId": "d1fdc0ce-1331-46f5-d7b6-bfeb7b51b9fc"
      },
      "source": [
        "sweep_id = wandb.sweep(sweep_config, entity=\"theindianwriter\", project=\"CS6910-assignment1\")"
      ],
      "execution_count": null,
      "outputs": [
        {
          "output_type": "stream",
          "text": [
            "Create sweep with ID: rh4blgfc\n",
            "Sweep URL: https://wandb.ai/theindianwriter/CS6910-assignment1/sweeps/rh4blgfc\n"
          ],
          "name": "stdout"
        }
      ]
    },
    {
      "cell_type": "code",
      "metadata": {
        "colab": {
          "background_save": true
        },
        "id": "Tk8twURiD1Vu"
      },
      "source": [
        "wandb.agent(sweep_id, train)"
      ],
      "execution_count": null,
      "outputs": []
    }
  ]
}