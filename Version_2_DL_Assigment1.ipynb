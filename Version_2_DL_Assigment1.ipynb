{
  "nbformat": 4,
  "nbformat_minor": 0,
  "metadata": {
    "colab": {
      "name": "Version 2 DL_Assigment1.ipynb",
      "provenance": [],
      "collapsed_sections": [],
      "authorship_tag": "ABX9TyNMCCkwbUApAXup84Azt8qg",
      "include_colab_link": true
    },
    "kernelspec": {
      "display_name": "Python 3",
      "name": "python3"
    }
  },
  "cells": [
    {
      "cell_type": "markdown",
      "metadata": {
        "id": "view-in-github",
        "colab_type": "text"
      },
      "source": [
        "<a href=\"https://colab.research.google.com/github/theindianwriter/cs6910_assignment1/blob/main/Version_2_DL_Assigment1.ipynb\" target=\"_parent\"><img src=\"https://colab.research.google.com/assets/colab-badge.svg\" alt=\"Open In Colab\"/></a>"
      ]
    },
    {
      "cell_type": "code",
      "metadata": {
        "id": "r3dP-sp72KOC"
      },
      "source": [
        "import numpy as np\n",
        "import pandas as pd\n",
        "import matplotlib.pyplot as plt\n",
        "from tensorflow import keras\n",
        "from scipy.special import expit\n",
        "from sklearn.metrics import log_loss\n",
        "from sklearn.metrics import mean_squared_error"
      ],
      "execution_count": 1,
      "outputs": []
    },
    {
      "cell_type": "code",
      "metadata": {
        "id": "T4hRoteM6Gff"
      },
      "source": [
        "from keras.datasets import fashion_mnist"
      ],
      "execution_count": 2,
      "outputs": []
    },
    {
      "cell_type": "code",
      "metadata": {
        "colab": {
          "base_uri": "https://localhost:8080/",
          "height": 187
        },
        "id": "_7xQF_HDnXs2",
        "outputId": "854c5605-4c32-427b-9633-080df822da69"
      },
      "source": [
        "!pip install wandb -qqq\n",
        "import wandb\n",
        "wandb.login()"
      ],
      "execution_count": 3,
      "outputs": [
        {
          "output_type": "stream",
          "text": [
            "\u001b[K     |████████████████████████████████| 2.0MB 5.4MB/s \n",
            "\u001b[K     |████████████████████████████████| 133kB 23.3MB/s \n",
            "\u001b[K     |████████████████████████████████| 163kB 24.4MB/s \n",
            "\u001b[K     |████████████████████████████████| 102kB 7.1MB/s \n",
            "\u001b[K     |████████████████████████████████| 71kB 5.5MB/s \n",
            "\u001b[?25h  Building wheel for pathtools (setup.py) ... \u001b[?25l\u001b[?25hdone\n",
            "  Building wheel for subprocess32 (setup.py) ... \u001b[?25l\u001b[?25hdone\n"
          ],
          "name": "stdout"
        },
        {
          "output_type": "display_data",
          "data": {
            "application/javascript": [
              "\n",
              "        window._wandbApiKey = new Promise((resolve, reject) => {\n",
              "            function loadScript(url) {\n",
              "            return new Promise(function(resolve, reject) {\n",
              "                let newScript = document.createElement(\"script\");\n",
              "                newScript.onerror = reject;\n",
              "                newScript.onload = resolve;\n",
              "                document.body.appendChild(newScript);\n",
              "                newScript.src = url;\n",
              "            });\n",
              "            }\n",
              "            loadScript(\"https://cdn.jsdelivr.net/npm/postmate/build/postmate.min.js\").then(() => {\n",
              "            const iframe = document.createElement('iframe')\n",
              "            iframe.style.cssText = \"width:0;height:0;border:none\"\n",
              "            document.body.appendChild(iframe)\n",
              "            const handshake = new Postmate({\n",
              "                container: iframe,\n",
              "                url: 'https://wandb.ai/authorize'\n",
              "            });\n",
              "            const timeout = setTimeout(() => reject(\"Couldn't auto authenticate\"), 5000)\n",
              "            handshake.then(function(child) {\n",
              "                child.on('authorize', data => {\n",
              "                    clearTimeout(timeout)\n",
              "                    resolve(data)\n",
              "                });\n",
              "            });\n",
              "            })\n",
              "        });\n",
              "    "
            ],
            "text/plain": [
              "<IPython.core.display.Javascript object>"
            ]
          },
          "metadata": {
            "tags": []
          }
        },
        {
          "output_type": "stream",
          "text": [
            "\u001b[34m\u001b[1mwandb\u001b[0m: Appending key for api.wandb.ai to your netrc file: /root/.netrc\n"
          ],
          "name": "stderr"
        },
        {
          "output_type": "execute_result",
          "data": {
            "text/plain": [
              "True"
            ]
          },
          "metadata": {
            "tags": []
          },
          "execution_count": 3
        }
      ]
    },
    {
      "cell_type": "code",
      "metadata": {
        "id": "XsO8ygJ-5X9f"
      },
      "source": [
        "def data_loader():\n",
        "    \n",
        "  (x_train,y_train),(x_test,y_test) = fashion_mnist.load_data()\n",
        "  num_of_train_data = x_train.shape[0]\n",
        "  combined_training_data = list(zip(x_train,y_train))\n",
        "  np.random.shuffle(combined_training_data)\n",
        "  (x_train,y_train) = zip(*combined_training_data)\n",
        "  x_train,y_train = np.array(x_train),np.array(y_train)\n",
        "  validation_size = int(0.1*num_of_train_data)\n",
        "  x_validation = x_train[:validation_size]\n",
        "  y_validation = y_train[:validation_size]\n",
        "  x_train = x_train[validation_size:]\n",
        "  y_train = y_train[validation_size:]\n",
        "  return x_train,y_train,x_validation,y_validation,x_test,y_test\n"
      ],
      "execution_count": 4,
      "outputs": []
    },
    {
      "cell_type": "code",
      "metadata": {
        "colab": {
          "base_uri": "https://localhost:8080/"
        },
        "id": "2s1_mbH28M6h",
        "outputId": "82c78f10-87a0-4b30-bc19-16735e7d17b8"
      },
      "source": [
        "x_train,y_train,x_validation,y_validation,x_test,y_test = data_loader()\n",
        "print(\"information regarding the training,validation and test dataset\")\n",
        "print(\"the size of training dataset is {},validation set is {},test set is {}\".format(x_train.shape[0],x_validation.shape[0],x_test.shape[0]))"
      ],
      "execution_count": 5,
      "outputs": [
        {
          "output_type": "stream",
          "text": [
            "Downloading data from https://storage.googleapis.com/tensorflow/tf-keras-datasets/train-labels-idx1-ubyte.gz\n",
            "32768/29515 [=================================] - 0s 0us/step\n",
            "Downloading data from https://storage.googleapis.com/tensorflow/tf-keras-datasets/train-images-idx3-ubyte.gz\n",
            "26427392/26421880 [==============================] - 0s 0us/step\n",
            "Downloading data from https://storage.googleapis.com/tensorflow/tf-keras-datasets/t10k-labels-idx1-ubyte.gz\n",
            "8192/5148 [===============================================] - 0s 0us/step\n",
            "Downloading data from https://storage.googleapis.com/tensorflow/tf-keras-datasets/t10k-images-idx3-ubyte.gz\n",
            "4423680/4422102 [==============================] - 0s 0us/step\n",
            "information regarding the training,validation and test dataset\n",
            "the size of training dataset is 54000,validation set is 6000,test set is 10000\n"
          ],
          "name": "stdout"
        }
      ]
    },
    {
      "cell_type": "code",
      "metadata": {
        "id": "sA25XnEtFYjV"
      },
      "source": [
        "def vectorize(Y):\n",
        "  Y_vectorize = np.zeros((Y.shape[0],10))\n",
        "  for i in range(Y.shape[0]):\n",
        "      Y_vectorize[i][Y[i]] = 1.0\n",
        "  return Y_vectorize"
      ],
      "execution_count": 6,
      "outputs": []
    },
    {
      "cell_type": "code",
      "metadata": {
        "id": "XTyzvGeOBCBw"
      },
      "source": [
        "def prep_data(X,Y):\n",
        "    X_vector = np.array([np.reshape(x,(784))for x in X])\n",
        "    # mean = np.mean(X_vector,axis = 0)\n",
        "    # std = np.std(X_vector,axis = 0)\n",
        "    X_norm_vector = (X_vector/255.0)\n",
        "    Y_vectorize = vectorize(Y)\n",
        "    return X_norm_vector,Y_vectorize"
      ],
      "execution_count": 7,
      "outputs": []
    },
    {
      "cell_type": "code",
      "metadata": {
        "id": "pQGgiWTjDh6s"
      },
      "source": [
        "class_label = ['T-shirt/top', \n",
        "           'Trousers', \n",
        "           'Pullover', \n",
        "           'Dress', 'Coat', \n",
        "           'Sandal', \n",
        "           'Shirt', \n",
        "           'Sneaker', \n",
        "           'Bag', \n",
        "           'Ankle boot']"
      ],
      "execution_count": 8,
      "outputs": []
    },
    {
      "cell_type": "code",
      "metadata": {
        "id": "8gG3CFQOFROJ"
      },
      "source": [
        "#Q1 plots one image of each class \n",
        "\n",
        "def plot_each_label(X,Y):\n",
        "  rows = 2\n",
        "  cols = 5\n",
        "  fig = plt.figure()\n",
        "  ax = []\n",
        "  j = 0\n",
        "  for i in range(1,rows*cols + 1):\n",
        "    ax.append(fig.add_subplot(rows,cols,i))\n",
        "    pos = np.where(Y == j)\n",
        "    plt.imshow(X[pos[0][0]])\n",
        "    plt.xticks([])\n",
        "    plt.yticks([])\n",
        "    ax[-1].set_title(class_label[j])\n",
        "    j += 1\n",
        "  plt.show()\n"
      ],
      "execution_count": 9,
      "outputs": []
    },
    {
      "cell_type": "code",
      "metadata": {
        "colab": {
          "base_uri": "https://localhost:8080/",
          "height": 227
        },
        "id": "KF-0eNsd_0oZ",
        "outputId": "478be3e3-b235-45b1-ad4a-25ed4d045532"
      },
      "source": [
        "#Q1 calls and plots image of each class\n",
        "plot_each_label(x_train,y_train)"
      ],
      "execution_count": null,
      "outputs": [
        {
          "output_type": "display_data",
          "data": {
            "image/png": "[encoded data removed]",
            "text/plain": [
              "<Figure size 432x288 with 10 Axes>"
            ]
          },
          "metadata": {
            "tags": []
          }
        }
      ]
    },
    {
      "cell_type": "code",
      "metadata": {
        "id": "Ehw2440wrtQ2"
      },
      "source": [
        "def softmax(X):\n",
        "    output = np.zeros(X.shape)\n",
        "    for col in range(X.shape[1]):\n",
        "        exps = np.exp(X[:,col] - np.max(X[:,col]))\n",
        "        output[:,col] = exps/exps.sum()\n",
        "\n",
        "    return output\n",
        "\n",
        "def sigmoid(X):\n",
        "    return expit(X) #to avoid overflow\n",
        "\n",
        "def sigmoid_derivative(x):\n",
        "  return sigmoid(x)*(1-sigmoid(x))\n",
        "\n",
        "def tanh(X):\n",
        "    return np.tanh(X)\n",
        "\n",
        "def relu(X,alpha = 0):\n",
        "    X = np.array(X,dtype=np.float64)\n",
        "    return np.where(X<0,0.001*X,X)\n",
        "\n",
        "def tanh_derivative(X):\n",
        "    return (1-np.square(tanh(X)))\n",
        "\n",
        "def relu_derivative(X):\n",
        "    X_relu = np.ones_like(X,dtype=np.float64)\n",
        "    X_relu[X < 0] = 0.001\n",
        "    return X_relu\n",
        "\n",
        "\n",
        "  "
      ],
      "execution_count": 10,
      "outputs": []
    },
    {
      "cell_type": "code",
      "metadata": {
        "id": "yPs0JWttc6ly"
      },
      "source": [
        "class Network:\n",
        "\n",
        "# ---------------------------------------START OF NETWORK INITIALIAZATION ---------------------------------------------\n",
        "#----------------------------------------------------------------------------------------------------------------------\n",
        "  #initialization of the network\n",
        "  def __init__(self,layers,weight_initilizer = \"random\"):\n",
        "    print(layers)\n",
        "    self.num_of_layers = len(layers)\n",
        "    self.layers = layers\n",
        "    self.num_of_steps = 0\n",
        "    np.random.seed(1234)\n",
        "\n",
        "    #based on the methods the initilization would be done\n",
        "    if weight_initilizer == 'random':\n",
        "      self.random(layers)\n",
        "    elif weight_initilizer == 'Xavier':\n",
        "      self.Xavier(layers)\n",
        "    else:\n",
        "      print(\"ERROR\")\n",
        "\n",
        "    #used for mpmentum based gradient descent,adam and nadam\n",
        "    self.prev_update_biases = [np.zeros((x,1)) for x in layers[1:]]\n",
        "    self.prev_update_weights = [np.zeros((x,y)) for x,y in zip(layers[1:],layers[:-1])]\n",
        "    #used for adam,rmsprop and nadam\n",
        "    self.v_w = [np.zeros((x,y)) for x,y in zip(layers[1:],layers[:-1])]\n",
        "    self.v_b = [np.zeros((x,1)) for x in layers[1:]]\n",
        "\n",
        "#--------------------------------------END OF INITIALIZATION OF NETWORK------------------------------------------------\n",
        "#----------------------------------------------------------------------------------------------------------------------\n",
        "\n",
        "#-----------------------------------------START OF INITILIZATION OF WEIGHTS AND BIASES METHODS ------------------------------\n",
        "#---------------------------------------------------------------------------------------------------------------------------\n",
        "\n",
        "  def random(self,layers):\n",
        "    self.biases = [np.random.randn(x,1) for x in layers[1:]]\n",
        "    self.weights = [np.random.randn(x,y) for x,y in zip(layers[1:],layers[:-1])]\n",
        "\n",
        "  def Xavier(self,layers):\n",
        "    self.biases = [np.random.randn(x,1) for x in layers[1:]]\n",
        "    self.weights = [np.random.randn(x,y)*2/np.sqrt(y+x) for x,y in zip(layers[1:],layers[:-1])]\n",
        "\n",
        "#-------------------------------------------END OF INITIALIZATION OF WEIGHTS AND BIASES METHOD-------------------------------------\n",
        "#-----------------------------------------------------------------------------------------------------------------------------------\n",
        "\n",
        "\n",
        "#---------------------------------------------START OF CALCULATING LOSS FUNCTIONS ----------------------------------------------------\n",
        "#------------------------------------------------------------------------------------------------------------------------------------\n",
        "\n",
        "  def calculate_loss(self,Y,Y_predicted):\n",
        "    if self.loss == \"cross_entropy_loss\":\n",
        "        error = log_loss(Y,Y_predicted)\n",
        "        return error\n",
        "    elif self.loss == \"squared-error\":\n",
        "        error = mean_squared_error(Y,Y_predicted)\n",
        "        return error\n",
        "#--------------------------------------------------END OF CALCULATING LOSS FUNCTIONS------------------------------------------------\n",
        "#--------------------------------------------------------------------------------------------------------------------------------------\n",
        "\n",
        "#-----------------------------------------------------------START OF ACTIVATION FUNCTION METHODS ----------------------------------------\n",
        "#--------------------------------------------------------------------------------------------------------------------------------------\n",
        "\n",
        "  def perform_activation(self,A):\n",
        " \n",
        "    if self.activation == 'sigmoid':\n",
        "      return sigmoid(A)\n",
        "    elif self.activation == \"tanh\":\n",
        "      return tanh(A)\n",
        "    elif self.activation == \"relu\":\n",
        "        return relu(A)\n",
        "    else:\n",
        "      print(\"ERROR\")\n",
        "\n",
        "  def perform_output_function(self,A):\n",
        "\n",
        "    if self.output_function == \"softmax\":\n",
        "      H = softmax(A)\n",
        "    else:\n",
        "      print(\"ERROR\")\n",
        "    return H\n",
        "#--------------------------------------------------END OF ACTIVATION FUNCTION METHODS-----------------------------------------------\n",
        "#--------------------------------------------------------------------------------------------------------------------------------\n",
        "\n",
        "\n",
        "\n",
        "  def update_parameter(self,grad_wrt_weights,grad_wrt_biases,eta,gamma = 0.5,beta1 = 0.9,beta2 = 0.999,eps = 1e-08):\n",
        "    if self.optimizer == \"sgd\":\n",
        "        update_wrt_biases = [eta*gb for gb in grad_wrt_biases]\n",
        "        update_wrt_weights = [eta*gw for gw in grad_wrt_weights]\n",
        "\n",
        "    elif self.optimizer == \"momentum\":\n",
        "        update_wrt_biases = [gamma*ub + eta*gb for ub,gb in zip(self.prev_update_biases,grad_wrt_biases)]\n",
        "        update_wrt_weights = [gamma*uw + eta*gw for uw,gw in zip(self.prev_update_weights,grad_wrt_weights)]\n",
        "\n",
        "        self.prev_update_biases = update_wrt_biases\n",
        "        self.prev_update_weights = update_wrt_weights\n",
        "\n",
        "    elif self.optimizer == \"nesterov\":\n",
        "\n",
        "        update_wrt_biases = [gamma*ub + eta*gb for ub,gb in zip(self.prev_update_biases,grad_wrt_biases)]\n",
        "        update_wrt_weights = [gamma*uw + eta*gw for uw,gw in zip(self.prev_update_weights,grad_wrt_weights)]\n",
        "\n",
        "        self.prev_update_biases = update_wrt_biases\n",
        "        self.prev_update_weights = update_wrt_weights\n",
        "        \n",
        "    #not able to perform well in rmsprop\n",
        "    elif self.optimizer == \"rmsprop\":\n",
        "\n",
        "        self.v_b = [beta2*t + (1-beta2)*np.square(gb) for t,gb in zip(self.v_b,grad_wrt_biases)]\n",
        "        self.v_w = [beta2*t + (1-beta2)*np.square(gw) for t,gw in zip(self.v_w,grad_wrt_weights)] \n",
        "        \n",
        "        update_wrt_biases = [eta*(gb/(np.sqrt(vb)+eps)) for vb,gb in zip(self.v_b,grad_wrt_biases)]\n",
        "        update_wrt_weights = [eta*(gw/(np.sqrt(vw)+eps)) for vw,gw in zip(self.v_w,grad_wrt_weights)]\n",
        "\n",
        "\n",
        "    elif self.optimizer == \"adam\":\n",
        "        i = self.num_of_steps - 1\n",
        "\n",
        "        self.prev_update_biases =  [(beta1*mb + (1-beta1)*gb)for mb,gb in zip(self.prev_update_biases,grad_wrt_biases)] \n",
        "        self.prev_update_weights = [(beta1*mw + (1-beta1)*gw) for mw,gw in zip(self.prev_update_weights,grad_wrt_weights)] \n",
        "\n",
        "        # m_b_hat = [mb*(1-np.power(beta1,i)) for mb in m_b]\n",
        "        # m_w_hat = [mw*(1-np.power(beta1,i)) for mw in m_w]\n",
        "\n",
        "        self.v_w = [(beta2*vw + (1-beta2)*(np.square(gw))) for vw,gw in zip(self.v_w,grad_wrt_weights)] \n",
        "        self.v_b = [(beta2*vb + (1-beta2)*(np.square(gb))) for vb,gb in zip(self.v_b,grad_wrt_biases)]\n",
        "\n",
        "        # v_b_hat = [(vb/np.power(beta2,i)) for vb in self.v_b]\n",
        "        # v_w_hat = [(vw/np.power(beta2,i)) for vw in self.v_w]\n",
        "        eta =  eta*np.sqrt((1-beta2**i)/((1-beta1**i)+eps))\n",
        "        update_wrt_biases = [eta*(mb/(np.power(vb,0.5)+eps)) for vb,mb in zip( self.v_b,self.prev_update_biases)]\n",
        "        update_wrt_weights = [eta*(mw/(np.power(vw,0.5)+eps)) for vw,mw in zip(self.v_w,self.prev_update_weights)]\n",
        "\n",
        "        # self.prev_update_biases = m_b\n",
        "        # self.prev_update_weights = m_w\n",
        "        # print(self.prev_update_biases)\n",
        "\n",
        "    elif self.optimizer == \"nadam\":\n",
        "        i = self.num_of_steps - 1\n",
        "\n",
        "        m_b =  [(beta1*mb + (1-beta1)*gb)for mb,gb in zip(self.prev_update_biases,grad_wrt_biases)] \n",
        "        m_w = [(beta1*mw + (1-beta1)*gw) for mw,gw in zip(self.prev_update_weights,grad_wrt_weights)] \n",
        "\n",
        "        m_b_hat = [mb*(1-np.power(beta1,i)) for mb in m_b]\n",
        "        m_w_hat = [mw*(1-np.power(beta1,i)) for mw in m_w]\n",
        "\n",
        "        self.v_w = [(beta2*vw + (1-beta2)*(np.power(gw,2))) for vw,gw in zip(self.v_w,grad_wrt_weights)] \n",
        "        self.v_b = [(beta2*vb + (1-beta2)*(np.power(gb,2))) for vb,gb in zip(self.v_b,grad_wrt_biases)]\n",
        "\n",
        "        v_b_hat = [(vb/np.power(beta2,i)) for vb in self.v_b]\n",
        "        v_w_hat = [(vw/np.power(beta2,i)) for vw in self.v_w]\n",
        "\n",
        "        update_wrt_biases = [(eta/np.power(vb+eps,0.5))*mb for vb,mb in zip(v_b_hat,m_b_hat)]\n",
        "        update_wrt_weights = [(eta/np.power(vw+eps,0.5))*mw for vw,mw in zip(v_w_hat,m_w_hat)]\n",
        "\n",
        "        self.prev_update_biases = m_b\n",
        "        self.prev_update_weights = m_w\n",
        "        \n",
        "\n",
        "    #updation of the parameters\n",
        "    self.weights = [w - grad_w for w,grad_w in zip(self.weights,update_wrt_weights)]\n",
        "    self.biases = [b - grad_b for b,grad_b in zip(self.biases,update_wrt_biases)]\n",
        "\n",
        "\n",
        "    \n",
        "\n",
        "\n",
        "  def forward_propagation(self,X):\n",
        "    #input vector to the network\n",
        "    A_h = X.T\n",
        "    #array to store pre-activation vectors of the hidden layers and output layer\n",
        "    A = []\n",
        "    #array to store post activation vectors of the input layer,hidden layers and ouput layer\n",
        "    H = [X.T]\n",
        "    for w,b in zip(self.weights[:-1],self.biases[:-1]):\n",
        "      A_h = np.dot(w,A_h)+ b\n",
        "      A.append(A_h)\n",
        "      H_i = self.perform_activation(A_h)\n",
        "      H.append(H_i)\n",
        "\n",
        "    #calculating the pre-activation and post-activation vector in the output layer\n",
        "    w,b = self.weights[-1],self.biases[-1]\n",
        "    A_o = np.dot(w,A[-1]) + b\n",
        "    A.append(A_o)\n",
        "    H_o = self.perform_output_function(A_o)\n",
        "    H.append(H_o)\n",
        "    return A,H,H[-1]\n",
        "\n",
        "\n",
        "  def get_delta_hidden_layer(self,grad_wrt_weight,delta,A):\n",
        "        if self.activation == \"sigmoid\":\n",
        "            return np.dot(grad_wrt_weight.T,delta)*(sigmoid_derivative(A))\n",
        "        elif self.activation == \"tanh\":\n",
        "            return np.dot(grad_wrt_weight.T,delta)*(tanh_derivative(A))\n",
        "        elif self.activation == \"relu\":\n",
        "            return np.dot(grad_wrt_weight.T,delta)*(relu_derivative(A))\n",
        "\n",
        "  def get_delta_last_layer(self,A,H,Y):\n",
        "\n",
        "    if self.loss == \"cross_entropy_loss\":\n",
        "      delta = H - Y.T\n",
        "      return delta\n",
        "    elif self.loss == \"squared-error\":\n",
        "      delta = (H - Y.T)*H*(1-H)\n",
        "      return delta\n",
        "\n",
        "  def backward_propagation(self,X,Y,A,H,l2 = 0.3):\n",
        "\n",
        "    grad_wrt_weights = [np.zeros(w.shape) for w in self.weights]\n",
        "    grad_wrt_biases = [np.zeros(b.shape) for b in self.biases]\n",
        "    N = X.shape[0]\n",
        "    delta = self.get_delta_last_layer(A[-1],H[-1],Y)\n",
        "    grad_wrt_biases[-1] = (1/N)*np.sum(delta,axis = 1,keepdims = True)\n",
        "    grad_wrt_weights[-1] = (1/N)*np.dot(delta,H[-2].T)\n",
        "    for l in range(2,self.num_of_layers):\n",
        "      delta = self.get_delta_hidden_layer(grad_wrt_weights[-l+1],delta,A[-l])\n",
        "      grad_wrt_biases[-l] = (1/N)*np.sum(delta,axis = 1,keepdims = True)\n",
        "      grad_wrt_weights[-l] = (1/N)*np.dot(delta,H[-l-1].T) + ((l2 * self.weights[-l])/N)\n",
        "      \n",
        "    return grad_wrt_weights,grad_wrt_biases\n",
        "\n",
        "  def fit(self,x_train,y_train,x_val,y_val,epochs = 5, eta = 0.001,gamma = 0.5,batch_size = 64,beta1 = 0.9,l2 = 0):\n",
        "      \n",
        "    N = x_train.shape[0]\n",
        "    prev_accuracy = 0\n",
        "    max_accuracy = 0\n",
        "    for epoch in range(1,epochs+1):\n",
        "        batch_error = 0\n",
        "        combined_training_data = list(zip(x_train,y_train))\n",
        "        np.random.shuffle(combined_training_data)\n",
        "        x_train[:],y_train[:] = zip(*combined_training_data)\n",
        "        x_train,y_train = np.array(x_train),np.array(y_train)\n",
        "\n",
        "        mini_x_batches = [x_train[i:i+batch_size] for i in range(0,N,batch_size)]\n",
        "        mini_y_batches = [y_train[i:i+batch_size] for i in range(0,N,batch_size)] \n",
        "\n",
        "        for X,Y in zip(mini_x_batches,mini_y_batches):\n",
        "            #only for nestorov accelerated gradient descent\n",
        "            self.num_of_steps += 1\n",
        "            if self.optimizer == \"nesterov\":\n",
        "                self.biases = [b - gamma*ub for b,ub in zip(self.biases,self.prev_update_biases)]\n",
        "                self.weights = [w - gamma*uw  for w,uw in zip(self.weights,self.prev_update_weights)]\n",
        "\n",
        "            if self.optimizer == \"nadam\":\n",
        "                self.biases = [b - beta1*ub*(1-np.power(beta1,self.num_of_steps)) for b,ub in zip(self.biases,self.prev_update_biases)]\n",
        "                self.weights = [w - beta1*uw*(1-np.power(beta1,self.num_of_steps)) for w,uw in zip(self.weights,self.prev_update_weights)]\n",
        "\n",
        "            #forward propagation\n",
        "            A,H,Y_predicted = self.forward_propagation(X)\n",
        "            #backward propagation\n",
        "            grad_wrt_weights,grad_wrt_biases = self.backward_propagation(X,Y,A,H,l2)\n",
        "            #gradient descent variant\n",
        "            self.update_parameter(grad_wrt_weights,grad_wrt_biases,eta,gamma)\n",
        "            batch_error += self.calculate_loss(Y.T,Y_predicted)\n",
        "\n",
        "        loss = batch_error/N\n",
        "        accuracy_val = self.test(x_val,y_val)\n",
        "\n",
        "        if(max_accuracy - accuracy_val) > 4.0:\n",
        "            break\n",
        "\n",
        "        max_accuracy = max(max_accuracy,accuracy_val)\n",
        "        \n",
        "        #for annealing the learning rate just a heuristic\n",
        "        if (prev_accuracy - accuracy_val) > 0.5:\n",
        "            eta = eta/2\n",
        "        prev_accuracy = accuracy_val\n",
        "\n",
        "\n",
        "        print(\"In epoch {} the loss for train set is {}\".format(epoch,loss))\n",
        "        print(\"In epoch {} the accuracy for validation set is {} %\".format(epoch,accuracy_val))\n",
        "        wandb.log({\"epoch\": epoch,\"accuracy\" : accuracy_val,\"training loss\":loss })\n",
        "        print(\"---------------------------------------------------------\\n\")\n",
        "        \n",
        "\n",
        "  def compile(self,optimizer = \"sgd\",loss = \"squared-error\",activation = \"sigmoid\",output_function = \"softmax\",metrics = \"accuracy\"):\n",
        "\n",
        "    self.activation = activation\n",
        "    self.output_function = output_function\n",
        "    self.optimizer = optimizer\n",
        "    self.loss = loss\n",
        "    self.metrics = metrics\n",
        "\n",
        "\n",
        "  def test(self,X,Y):\n",
        "    if self.metrics == \"accuracy\":\n",
        "        A,H,Y_predicted = self.forward_propagation(X)\n",
        "        Y_list = np.argmax(Y.T,axis = 0).reshape(Y.T.shape[1], 1)\n",
        "        Y_list_predicted = np.argmax(Y_predicted,axis = 0).reshape(Y.T.shape[1], 1)\n",
        "        accuracy_matrix = Y_list_predicted == Y_list\n",
        "        accuracy_list = list(accuracy_matrix)\n",
        "        correct = accuracy_list.count([True])\n",
        "        return round(((correct*100)/len(accuracy_list)),2)\n",
        "\n"
      ],
      "execution_count": 11,
      "outputs": []
    },
    {
      "cell_type": "code",
      "metadata": {
        "id": "epypxxybGm_2"
      },
      "source": [
        "x_train_transformed,y_train_transformed = prep_data(x_train,y_train)"
      ],
      "execution_count": 12,
      "outputs": []
    },
    {
      "cell_type": "code",
      "metadata": {
        "id": "t8jy2JtsaxXY"
      },
      "source": [
        "x_val_transformed,y_val_transformed = prep_data(x_validation,y_validation)"
      ],
      "execution_count": 13,
      "outputs": []
    },
    {
      "cell_type": "code",
      "metadata": {
        "id": "NXr0dl1eN67E"
      },
      "source": [
        "x_test_transformed,y_test_transformed = prep_data(x_test,y_test)"
      ],
      "execution_count": 14,
      "outputs": []
    },
    {
      "cell_type": "code",
      "metadata": {
        "id": "fXE6dDvyLgVe"
      },
      "source": [
        "#----------------------------------PREPARE THE TRAINING DATA BEFORE --------------------------------"
      ],
      "execution_count": null,
      "outputs": []
    },
    {
      "cell_type": "code",
      "metadata": {
        "colab": {
          "base_uri": "https://localhost:8080/",
          "height": 136
        },
        "id": "5jlkx5ansvZg",
        "outputId": "277139f7-fb1e-4ccb-ee6a-9176959740b3"
      },
      "source": [
        "defaults = dict(\n",
        "    num_of_hidden_layers = 3,\n",
        "    size_of_hidden_layer = 128,\n",
        "    optimizer = \"nesterov\",\n",
        "    loss = \"cross_entropy_loss\",\n",
        "    activation = \"tanh\",\n",
        "    output_function = \"softmax\",\n",
        "    metrics = \"accuracy\",\n",
        "    learning_rate = 0.001,\n",
        "    gamma = 0.5,\n",
        "    epochs = 25,\n",
        "    batch_size = 64,\n",
        "    weight_initializer = \"Xavier\",\n",
        "    l2 = 0.3\n",
        ")\n",
        "\n",
        "wandb.init(project=\"CS6910-assignment1\",config = defaults)\n",
        "config = wandb.config"
      ],
      "execution_count": 15,
      "outputs": [
        {
          "output_type": "stream",
          "text": [
            "\u001b[34m\u001b[1mwandb\u001b[0m: Currently logged in as: \u001b[33mtheindianwriter\u001b[0m (use `wandb login --relogin` to force relogin)\n"
          ],
          "name": "stderr"
        },
        {
          "output_type": "display_data",
          "data": {
            "text/html": [
              "\n",
              "                Tracking run with wandb version 0.10.22<br/>\n",
              "                Syncing run <strong style=\"color:#cdcd00\">dark-puddle-210</strong> to <a href=\"https://wandb.ai\" target=\"_blank\">Weights & Biases</a> <a href=\"https://docs.wandb.com/integrations/jupyter.html\" target=\"_blank\">(Documentation)</a>.<br/>\n",
              "                Project page: <a href=\"https://wandb.ai/theindianwriter/CS6910-assignment1\" target=\"_blank\">https://wandb.ai/theindianwriter/CS6910-assignment1</a><br/>\n",
              "                Run page: <a href=\"https://wandb.ai/theindianwriter/CS6910-assignment1/runs/zz8huotr\" target=\"_blank\">https://wandb.ai/theindianwriter/CS6910-assignment1/runs/zz8huotr</a><br/>\n",
              "                Run data is saved locally in <code>/content/wandb/run-20210316_181618-zz8huotr</code><br/><br/>\n",
              "            "
            ],
            "text/plain": [
              "<IPython.core.display.HTML object>"
            ]
          },
          "metadata": {
            "tags": []
          }
        }
      ]
    },
    {
      "cell_type": "code",
      "metadata": {
        "colab": {
          "base_uri": "https://localhost:8080/"
        },
        "id": "-J09hAt6unnF",
        "outputId": "edf2b038-3bb0-40b6-fc30-2e8a2eebe1a6"
      },
      "source": [
        "layers = [784,10]\n",
        "for i in range(config.num_of_hidden_layers):\n",
        "    layers.insert(1,config.size_of_hidden_layer)\n",
        "\n",
        "\n",
        "net = Network(layers,weight_initilizer=config.weight_initializer)\n",
        "net.compile(optimizer = config.optimizer,loss = config.loss,activation = config.activation,output_function = config.output_function,metrics = config.metrics)\n",
        "\n",
        "net.fit(x_train_transformed,y_train_transformed,x_val_transformed,y_val_transformed,epochs = config.epochs, eta = config.learning_rate,batch_size = config.batch_size,gamma = config.gamma,l2 = config.l2)"
      ],
      "execution_count": 16,
      "outputs": [
        {
          "output_type": "stream",
          "text": [
            "[784, 128, 128, 128, 10]\n",
            "In epoch 1 the loss for train set is 0.427901690166738\n",
            "In epoch 1 the accuracy for validation set is 43.75 %\n",
            "---------------------------------------------------------\n",
            "\n",
            "In epoch 2 the loss for train set is 0.33094625313653386\n",
            "In epoch 2 the accuracy for validation set is 56.45 %\n",
            "---------------------------------------------------------\n",
            "\n",
            "In epoch 3 the loss for train set is 0.3060821974022679\n",
            "In epoch 3 the accuracy for validation set is 61.87 %\n",
            "---------------------------------------------------------\n",
            "\n",
            "In epoch 4 the loss for train set is 0.29352278821175026\n",
            "In epoch 4 the accuracy for validation set is 65.52 %\n",
            "---------------------------------------------------------\n",
            "\n",
            "In epoch 5 the loss for train set is 0.286910512398597\n",
            "In epoch 5 the accuracy for validation set is 67.68 %\n",
            "---------------------------------------------------------\n",
            "\n",
            "In epoch 6 the loss for train set is 0.282149872388278\n",
            "In epoch 6 the accuracy for validation set is 69.13 %\n",
            "---------------------------------------------------------\n",
            "\n",
            "In epoch 7 the loss for train set is 0.27780475099155955\n",
            "In epoch 7 the accuracy for validation set is 69.8 %\n",
            "---------------------------------------------------------\n",
            "\n",
            "In epoch 8 the loss for train set is 0.2755545800783974\n",
            "In epoch 8 the accuracy for validation set is 71.23 %\n",
            "---------------------------------------------------------\n",
            "\n",
            "In epoch 9 the loss for train set is 0.2729519584026101\n",
            "In epoch 9 the accuracy for validation set is 72.02 %\n",
            "---------------------------------------------------------\n",
            "\n",
            "In epoch 10 the loss for train set is 0.27080244567295564\n",
            "In epoch 10 the accuracy for validation set is 72.35 %\n",
            "---------------------------------------------------------\n",
            "\n",
            "In epoch 11 the loss for train set is 0.2691828063471599\n",
            "In epoch 11 the accuracy for validation set is 73.02 %\n",
            "---------------------------------------------------------\n",
            "\n",
            "In epoch 12 the loss for train set is 0.26740191385098827\n",
            "In epoch 12 the accuracy for validation set is 72.95 %\n",
            "---------------------------------------------------------\n",
            "\n",
            "In epoch 13 the loss for train set is 0.26643906586439325\n",
            "In epoch 13 the accuracy for validation set is 73.37 %\n",
            "---------------------------------------------------------\n",
            "\n",
            "In epoch 14 the loss for train set is 0.2662171523524038\n",
            "In epoch 14 the accuracy for validation set is 73.73 %\n",
            "---------------------------------------------------------\n",
            "\n",
            "In epoch 15 the loss for train set is 0.2648375705145889\n",
            "In epoch 15 the accuracy for validation set is 73.78 %\n",
            "---------------------------------------------------------\n",
            "\n",
            "In epoch 16 the loss for train set is 0.26465576148202136\n",
            "In epoch 16 the accuracy for validation set is 74.18 %\n",
            "---------------------------------------------------------\n",
            "\n",
            "In epoch 17 the loss for train set is 0.2638825980243391\n",
            "In epoch 17 the accuracy for validation set is 74.12 %\n",
            "---------------------------------------------------------\n",
            "\n",
            "In epoch 18 the loss for train set is 0.264009139911243\n",
            "In epoch 18 the accuracy for validation set is 74.58 %\n",
            "---------------------------------------------------------\n",
            "\n",
            "In epoch 19 the loss for train set is 0.2636226414675237\n",
            "In epoch 19 the accuracy for validation set is 74.62 %\n",
            "---------------------------------------------------------\n",
            "\n",
            "In epoch 20 the loss for train set is 0.2635035113019859\n",
            "In epoch 20 the accuracy for validation set is 74.8 %\n",
            "---------------------------------------------------------\n",
            "\n",
            "In epoch 21 the loss for train set is 0.2633290345464695\n",
            "In epoch 21 the accuracy for validation set is 74.88 %\n",
            "---------------------------------------------------------\n",
            "\n",
            "In epoch 22 the loss for train set is 0.2631388274035326\n",
            "In epoch 22 the accuracy for validation set is 74.82 %\n",
            "---------------------------------------------------------\n",
            "\n",
            "In epoch 23 the loss for train set is 0.2634563390240117\n",
            "In epoch 23 the accuracy for validation set is 75.2 %\n",
            "---------------------------------------------------------\n",
            "\n",
            "In epoch 24 the loss for train set is 0.26384717771191873\n",
            "In epoch 24 the accuracy for validation set is 75.2 %\n",
            "---------------------------------------------------------\n",
            "\n",
            "In epoch 25 the loss for train set is 0.26390931883115964\n",
            "In epoch 25 the accuracy for validation set is 75.03 %\n",
            "---------------------------------------------------------\n",
            "\n"
          ],
          "name": "stdout"
        }
      ]
    },
    {
      "cell_type": "code",
      "metadata": {
        "id": "iFOeVG4mLUmS"
      },
      "source": [
        "#-------------STARTS SWEEP CODE FROM HERE Q4------------------------------------------------------------------"
      ],
      "execution_count": null,
      "outputs": []
    },
    {
      "cell_type": "code",
      "metadata": {
        "id": "whoETXqyAa4U"
      },
      "source": [
        "sweep_config = {\n",
        "    'method': 'random', #grid, random\n",
        "    'metric': {\n",
        "      'name': 'accuracy',\n",
        "      'goal': 'maximize'   \n",
        "    },\n",
        "    'parameters': {\n",
        "        'epochs': {\n",
        "            'values': [20, 30, 50]\n",
        "        },\n",
        "        'learning_rate': {\n",
        "            'values': [1e-2, 5*1e-3,1e-3]\n",
        "        },\n",
        "        'optimizer': {\n",
        "            'values': ['sgd',\"nesterov\",\"momentum\"]\n",
        "        },\n",
        "        'activation': {\n",
        "            'values': ['tanh', 'sigmoid']\n",
        "        },\n",
        "        'num_of_hidden_layers': {\n",
        "            'values' : [2,3,4,5]\n",
        "        },\n",
        "        'size_of_hidden_layer' : {\n",
        "            'values' : [32,64,128]\n",
        "        },\n",
        "        'output_function':{\n",
        "            'values': [\"softmax\"]\n",
        "        },\n",
        "        'batch_size':{\n",
        "            'values': [16,32,64]\n",
        "        },\n",
        "        'weight_initializer': {\n",
        "            'values': [\"random\",'Xavier']\n",
        "        },\n",
        "        'loss':{\n",
        "            'values' : [\"cross_entropy_loss\"]\n",
        "        },\n",
        "        'gamma':{\n",
        "            'values' : [0.5,0.9,0.6]\n",
        "        },\n",
        "        'l2':{\n",
        "            'values' : [0,0.1,0.2,0.5]\n",
        "        }\n",
        "\n",
        "    }\n",
        "}"
      ],
      "execution_count": null,
      "outputs": []
    },
    {
      "cell_type": "code",
      "metadata": {
        "id": "JqBkOduE_ZNi"
      },
      "source": [
        "def train():\n",
        "    defaults = dict(\n",
        "    num_of_hidden_layers = 1,\n",
        "    size_of_hidden_layer = 32,\n",
        "    optimizer = \"adam\",\n",
        "    loss = \"cross_entropy_loss\",\n",
        "    activation = \"tanh\",\n",
        "    output_function = \"softmax\",\n",
        "    metrics = \"accuracy\",\n",
        "    learning_rate = 0.001,\n",
        "    gamma = 0.9,\n",
        "    epochs = 20,\n",
        "    batch_size = 64,\n",
        "    weight_initializer = \"Xavier\",\n",
        "    l2 = 0.3\n",
        "    )\n",
        "\n",
        "    wandb.init(project=\"CS6910-assignment1\",config = defaults)\n",
        "    config = wandb.config\n",
        "\n",
        "    layers = [784,10]\n",
        "    for i in range(config.num_of_hidden_layers):\n",
        "        layers.insert(1,config.size_of_hidden_layer)\n",
        "\n",
        "    net = Network(layers,weight_initilizer=config.weight_initializer)\n",
        "    net.compile(optimizer = config.optimizer,loss = config.loss,activation = config.activation,output_function = config.output_function,metrics = config.metrics)\n",
        "\n",
        "    net.fit(x_train_transformed,y_train_transformed,x_val_transformed,y_val_transformed,epochs = config.epochs, eta = config.learning_rate,batch_size = config.batch_size,gamma = config.gamma,l2 = config.l2)\n"
      ],
      "execution_count": null,
      "outputs": []
    },
    {
      "cell_type": "code",
      "metadata": {
        "colab": {
          "base_uri": "https://localhost:8080/"
        },
        "id": "D45PNJflDmbc",
        "outputId": "98c003ab-2e37-4016-e9ea-232f5dc0b637"
      },
      "source": [
        "sweep_id = wandb.sweep(sweep_config, entity=\"theindianwriter\", project=\"CS6910-assignment1\")"
      ],
      "execution_count": null,
      "outputs": [
        {
          "output_type": "stream",
          "text": [
            "\u001b[34m\u001b[1mwandb\u001b[0m: \u001b[33mWARNING\u001b[0m Calling wandb.login() after wandb.init() has no effect.\n"
          ],
          "name": "stderr"
        },
        {
          "output_type": "stream",
          "text": [
            "Create sweep with ID: o3g92kvo\n",
            "Sweep URL: https://wandb.ai/theindianwriter/CS6910-assignment1/sweeps/o3g92kvo\n"
          ],
          "name": "stdout"
        }
      ]
    },
    {
      "cell_type": "code",
      "metadata": {
        "id": "Yq5GT7XQUOct"
      },
      "source": [
        "wandb.agent(sweep_id, train)"
      ],
      "execution_count": null,
      "outputs": []
    },
    {
      "cell_type": "code",
      "metadata": {
        "colab": {
          "base_uri": "https://localhost:8080/"
        },
        "id": "8OUbeYhaTsZg",
        "outputId": "635e6e7e-950c-4754-c96d-b6bc1e04e984"
      },
      "source": [
        "net.test(x_test_transformed,y_test_transformed)"
      ],
      "execution_count": 17,
      "outputs": [
        {
          "output_type": "execute_result",
          "data": {
            "text/plain": [
              "74.09"
            ]
          },
          "metadata": {
            "tags": []
          },
          "execution_count": 17
        }
      ]
    },
    {
      "cell_type": "code",
      "metadata": {
        "id": "D2kjP2ueVcjI"
      },
      "source": [
        "from sklearn.metrics import confusion_matrix"
      ],
      "execution_count": 21,
      "outputs": []
    },
    {
      "cell_type": "code",
      "metadata": {
        "colab": {
          "base_uri": "https://localhost:8080/"
        },
        "id": "8nSLgvzAVewx",
        "outputId": "308df81e-bd5b-43ed-d6af-976987301c1e"
      },
      "source": [
        "Y_actual = np.argmax(y_test_transformed.T,axis = 0).reshape(y_test_transformed.T.shape[1], 1)\n",
        "_,_,Y_predicted_vector = net.forward_propagation(x_test_transformed)\n",
        "Y_predicted = np.argmax(Y_predicted_vector,axis = 0).reshape(y_test_transformed.T.shape[1], 1)\n",
        "confusion_matrix(Y_actual, Y_predicted, labels=[0,1,2,3,4,5,6,7,8,9])"
      ],
      "execution_count": 24,
      "outputs": [
        {
          "output_type": "execute_result",
          "data": {
            "text/plain": [
              "array([[759,  11,  17,  94,   7,  21,  70,   2,  19,   0],\n",
              "       [ 10, 893,  10,  70,   5,   2,  10,   0,   0,   0],\n",
              "       [ 25,   1, 636,   5, 193,  16, 107,   1,  15,   1],\n",
              "       [ 61,  41,   7, 770,  49,  14,  48,   0,   8,   2],\n",
              "       [  4,   7, 140,  26, 702,  11,  93,   1,  15,   1],\n",
              "       [  4,   1,   0,   9,   0, 757,   4, 135,  15,  75],\n",
              "       [221,   7, 157,  57, 180,  23, 312,   2,  39,   2],\n",
              "       [  0,   0,   0,   0,   0,  83,   0, 819,   4,  94],\n",
              "       [  8,   0,  20,  25,  12,  40,  32,  29, 832,   2],\n",
              "       [  1,   0,   0,   0,   0,  28,   1,  40,   1, 929]])"
            ]
          },
          "metadata": {
            "tags": []
          },
          "execution_count": 24
        }
      ]
    }
  ]
}