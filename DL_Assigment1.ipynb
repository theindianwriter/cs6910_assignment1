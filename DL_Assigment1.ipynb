{
  "nbformat": 4,
  "nbformat_minor": 0,
  "metadata": {
    "colab": {
      "name": "DL_Assigment1.ipynb",
      "provenance": [],
      "authorship_tag": "ABX9TyNWoLbL18TmHb7yS/bRjdl5",
      "include_colab_link": true
    },
    "kernelspec": {
      "name": "python3",
      "display_name": "Python 3"
    }
  },
  "cells": [
    {
      "cell_type": "markdown",
      "metadata": {
        "id": "view-in-github",
        "colab_type": "text"
      },
      "source": [
        "<a href=\"https://colab.research.google.com/github/theindianwriter/cs6910_assignment1/blob/main/DL_Assigment1.ipynb\" target=\"_parent\"><img src=\"https://colab.research.google.com/assets/colab-badge.svg\" alt=\"Open In Colab\"/></a>"
      ]
    },
    {
      "cell_type": "code",
      "metadata": {
        "id": "r3dP-sp72KOC"
      },
      "source": [
        "import numpy as np\n",
        "import pandas as pd\n",
        "import matplotlib.pyplot as plt\n",
        "from tensorflow import keras\n",
        "from scipy.special import expit\n",
        "from sklearn.metrics import log_loss"
      ],
      "execution_count": 4,
      "outputs": []
    },
    {
      "cell_type": "code",
      "metadata": {
        "id": "T4hRoteM6Gff"
      },
      "source": [
        "from keras.datasets import fashion_mnist"
      ],
      "execution_count": 5,
      "outputs": []
    },
    {
      "cell_type": "code",
      "metadata": {
        "id": "XsO8ygJ-5X9f"
      },
      "source": [
        "def data_loader():\n",
        "  (x_train,y_train),(x_test,y_test) = fashion_mnist.load_data()\n",
        "  num_of_train_data = x_train.shape[0]\n",
        "  combined_training_data = list(zip(x_train,y_train))\n",
        "  np.random.shuffle(combined_training_data)\n",
        "  (x_train,y_train) = zip(*combined_training_data)\n",
        "  x_train,y_train = np.array(x_train),np.array(y_train)\n",
        "  validation_size = int(0.1*num_of_train_data)\n",
        "  x_validation = x_train[:validation_size]\n",
        "  y_validation = y_train[:validation_size]\n",
        "  x_train = x_train[validation_size:]\n",
        "  y_train = y_train[validation_size:]\n",
        "  return x_train,y_train,x_validation,y_validation,x_test,y_test\n"
      ],
      "execution_count": 6,
      "outputs": []
    },
    {
      "cell_type": "code",
      "metadata": {
        "colab": {
          "base_uri": "https://localhost:8080/"
        },
        "id": "2s1_mbH28M6h",
        "outputId": "3faba925-09da-4179-cb55-04bc4f170394"
      },
      "source": [
        "x_train,y_train,x_validation,y_validation,x_test,y_test = data_loader()\n",
        "print(\"information regarding the training,validation and test dataset\")\n",
        "print(\"the size of training dataset is {},validation set is {},test set is {}\".format(x_train.shape[0],x_validation.shape[0],x_test.shape[0]))"
      ],
      "execution_count": 7,
      "outputs": [
        {
          "output_type": "stream",
          "text": [
            "Downloading data from https://storage.googleapis.com/tensorflow/tf-keras-datasets/train-labels-idx1-ubyte.gz\n",
            "32768/29515 [=================================] - 0s 0us/step\n",
            "Downloading data from https://storage.googleapis.com/tensorflow/tf-keras-datasets/train-images-idx3-ubyte.gz\n",
            "26427392/26421880 [==============================] - 1s 0us/step\n",
            "Downloading data from https://storage.googleapis.com/tensorflow/tf-keras-datasets/t10k-labels-idx1-ubyte.gz\n",
            "8192/5148 [===============================================] - 0s 0us/step\n",
            "Downloading data from https://storage.googleapis.com/tensorflow/tf-keras-datasets/t10k-images-idx3-ubyte.gz\n",
            "4423680/4422102 [==============================] - 0s 0us/step\n",
            "information regarding the training,validation and test dataset\n",
            "the size of training dataset is 54000,validation set is 6000,test set is 10000\n"
          ],
          "name": "stdout"
        }
      ]
    },
    {
      "cell_type": "code",
      "metadata": {
        "id": "sA25XnEtFYjV"
      },
      "source": [
        "def vectorize(Y):\n",
        "  Y_vectorize = np.zeros((Y.shape[0],10))\n",
        "  for i in range(Y.shape[0]):\n",
        "      Y_vectorize[i][Y[i]] = 1.0\n",
        "  return Y_vectorize"
      ],
      "execution_count": 8,
      "outputs": []
    },
    {
      "cell_type": "code",
      "metadata": {
        "id": "XTyzvGeOBCBw"
      },
      "source": [
        "def prep_data(X,Y):\n",
        "#   X_norm = X.astype('float32')/255.0\n",
        "#   X_norm_vector = np.array([np.reshape(x,(784,1)) for x in X_norm])\n",
        "#   Y_vectorize = np.array([vectorize(y) for y in Y])\n",
        "    X_vector = np.array([np.reshape(x,(784))for x in X])\n",
        "    mean = np.mean(X_vector,axis = 0)\n",
        "    std = np.std(X_vector,axis = 0)\n",
        "    X_norm_vector = (X_vector - mean)/std\n",
        "    Y_vectorize = vectorize(Y)\n",
        "    return X_norm_vector,Y_vectorize"
      ],
      "execution_count": 9,
      "outputs": []
    },
    {
      "cell_type": "code",
      "metadata": {
        "id": "pQGgiWTjDh6s"
      },
      "source": [
        "class_label = ['T-shirt/top', \n",
        "           'Trousers', \n",
        "           'Pullover', \n",
        "           'Dress', 'Coat', \n",
        "           'Sandal', \n",
        "           'Shirt', \n",
        "           'Sneaker', \n",
        "           'Bag', \n",
        "           'Ankle boot']"
      ],
      "execution_count": 10,
      "outputs": []
    },
    {
      "cell_type": "code",
      "metadata": {
        "id": "8gG3CFQOFROJ"
      },
      "source": [
        "#Q1 plots one image of each class \n",
        "\n",
        "def plot_each_label(X,Y):\n",
        "  rows = 2\n",
        "  cols = 5\n",
        "  fig = plt.figure()\n",
        "  ax = []\n",
        "  j = 0\n",
        "  for i in range(1,rows*cols + 1):\n",
        "    ax.append(fig.add_subplot(rows,cols,i))\n",
        "    pos = np.where(Y == j)\n",
        "    plt.imshow(X[pos[0][0]])\n",
        "    plt.xticks([])\n",
        "    plt.yticks([])\n",
        "    ax[-1].set_title(class_label[j])\n",
        "    j += 1\n",
        "  plt.show()\n"
      ],
      "execution_count": 11,
      "outputs": []
    },
    {
      "cell_type": "code",
      "metadata": {
        "colab": {
          "base_uri": "https://localhost:8080/",
          "height": 227
        },
        "id": "KF-0eNsd_0oZ",
        "outputId": "4872597f-4fc2-4485-bf8a-5ac0e51ab7a6"
      },
      "source": [
        "#Q1 calls and plots image of each class\n",
        "plot_each_label(x_train,y_train)"
      ],
      "execution_count": 12,
      "outputs": [
        {
          "output_type": "display_data",
          "data": {
            "image/png": "[encoded data removed]",
            "text/plain": [
              "<Figure size 432x288 with 10 Axes>"
            ]
          },
          "metadata": {
            "tags": []
          }
        }
      ]
    },
    {
      "cell_type": "code",
      "metadata": {
        "id": "Ehw2440wrtQ2"
      },
      "source": [
        "def sigmoid(X):\n",
        "    # return 1.0/(1.0 + np.exp(-x))\n",
        "\n",
        "    return expit(X) #to avoid overflow\n",
        "\n",
        "def softmax(X):\n",
        "    # e_x = np.exp(x - np.max(x))\n",
        "    # return e_x / e_x.sum()\n",
        "    output = np.zeros(X.shape)\n",
        "    for col in range(X.shape[1]):\n",
        "        exps = np.exp(X[:,col] - np.max(X[:,col]))\n",
        "        output[:,col] = exps/exps.sum()\n",
        "\n",
        "    return output\n",
        "\n",
        "def sigmoid_derivative(x):\n",
        "  return sigmoid(x)*(1-sigmoid(x))\n",
        "\n",
        "  "
      ],
      "execution_count": 13,
      "outputs": []
    },
    {
      "cell_type": "code",
      "metadata": {
        "id": "yPs0JWttc6ly"
      },
      "source": [
        "class Network:\n",
        "  #initialization of the network\n",
        "  def __init__(self,layers,weight_initilizer = \"random\"):\n",
        "    \n",
        "    self.num_of_layers = len(layers)\n",
        "    self.layers = layers\n",
        "\n",
        "    if weight_initilizer == 'random':\n",
        "      self.random(layers)\n",
        "    elif weight_initilizer == 'Xavier':\n",
        "      self.Xavier(layers)\n",
        "    else:\n",
        "      print(\"ERROR\")\n",
        "\n",
        "  def random(self,layers):\n",
        "    self.biases = [np.zeros((x,1)) for x in layers[1:]]\n",
        "    self.weights = [np.random.randn(x,y)*2/np.sqrt(y+x) for x,y in zip(layers[1:],layers[:-1])]\n",
        "\n",
        "  def Xavier(self,layers):\n",
        "    self.biases = []\n",
        "    self.weights = []\n",
        "    print(\"IMPLEMENTATION OF XAVIER\")\n",
        "\n",
        "\n",
        "  def calculate_loss(self,Y,Y_predicted):\n",
        "    if self.loss == \"cross_entropy_loss\":\n",
        "    #   N = X.shape[0]\n",
        "    #   error = 0.0\n",
        "    #   for x,y in zip(X,Y):\n",
        "    #     a,h = self.forward_propagation(x)\n",
        "    #     y_estimated = h[-1]\n",
        "    #     y_class = np.argmax(y)\n",
        "    #     y_estimated[y_class] =  0.0000000001 if int(y_estimated[y_class]) == 0 else y_estimated[y_class]\n",
        "    #     error += -np.log(y_estimated[y_class])\n",
        "        error = log_loss(Y,Y_predicted)\n",
        "        return error\n",
        "\n",
        "\n",
        "  def show_network(self):\n",
        "    print(self.biases)\n",
        "    print(self.weights)\n",
        "\n",
        "  def perform_activation(self,A):\n",
        " \n",
        "    if self.activation == 'sigmoid':\n",
        "      H = sigmoid(A)\n",
        "    else:\n",
        "      print(\"ERROR\")\n",
        "    return H\n",
        "\n",
        "  def perform_output_function(self,A):\n",
        "\n",
        "    if self.output_function == \"softmax\":\n",
        "      H = softmax(A)\n",
        "    else:\n",
        "      print(\"ERROR\")\n",
        "\n",
        "    return H\n",
        "\n",
        "\n",
        "  def update_parameter(self,grad_wrt_weights,grad_wrt_biases,eta):\n",
        "    if self.optimizer == \"sgd\":\n",
        "      self.weights = [w - eta*gw for w,gw in zip(self.weights,grad_wrt_weights)]\n",
        "      self.biases = [b - eta*gb for b,gb in zip(self.biases,grad_wrt_biases)]\n",
        "\n",
        "  def forward_propagation(self,X):\n",
        "    #input vector to the network\n",
        "    A_i = X.T\n",
        "    #array to store pre-activation vectors of the hidden layers and output layer\n",
        "    A = []\n",
        "    #array to store post activation vectors of the input layer,hidden layers and ouput layer\n",
        "    H = [X.T]\n",
        "    w,b = self.weights[0],self.biases[0]\n",
        "    A_i = np.matmul(w,X.T) + b\n",
        "    A.append(A_i)\n",
        "    H.append(A_i)\n",
        "    #calulating the pre-activation and post-activation vectors in the hidden layers\n",
        "    for w,b in zip(self.weights[1:-1],self.biases[1:-1]):\n",
        "      A_h = np.matmul(w,A[-1])+ b\n",
        "      A.append(A_h)\n",
        "      H_i = self.perform_activation(A_h)\n",
        "      H.append(H_i)\n",
        "\n",
        "    #calculating the pre-activation and post-activation vector in the output layer\n",
        "    w,b = self.weights[-1],self.biases[-1]\n",
        "    A_o = np.matmul(w,A[-1]) + b\n",
        "    A.append(A_o)\n",
        "    H_o = self.perform_output_function(A_o)\n",
        "    H.append(H_o)\n",
        "    return A,H,H[-1]\n",
        "\n",
        "\n",
        "  def get_delta_last_layer(self,A,H,Y):\n",
        "\n",
        "    if self.output_function == \"softmax\":\n",
        "      delta = H - Y.T\n",
        "      return delta\n",
        "    else: \n",
        "      print(\"ERROR\")\n",
        "\n",
        "  def backward_propagation(self,X,Y,A,H):\n",
        "    #delta = [0]*(self.num_of_layers-1)\n",
        "    grad_wrt_weights = [np.zeros(w.shape) for w in self.weights]\n",
        "    grad_wrt_biases = [np.zeros(b.shape) for b in self.biases]\n",
        "    N = X.shape[0]\n",
        "    delta = self.get_delta_last_layer(A[-1],H[-1],Y)\n",
        "    grad_wrt_biases[-1] = (1/N)*np.sum(delta,axis = 1,keepdims = True)\n",
        "    grad_wrt_weights[-1] = (1/N)*np.matmul(delta,H[-2].T)\n",
        "    for l in range(2,self.num_of_layers):\n",
        "      delta = np.matmul(grad_wrt_weights[-l+1].T,delta)*(sigmoid_derivative(A[-l]))\n",
        "      grad_wrt_biases[-l] = (1/N)*np.sum(delta,axis = 1,keepdims = True)\n",
        "      grad_wrt_weights[-l] = (1/N)*np.matmul(delta,H[-l-1].T)\n",
        "      \n",
        "    return grad_wrt_weights,grad_wrt_biases\n",
        "\n",
        "  def fit(self,x_train,y_train,epochs = 5, eta = 0.001,batch_size = 64):\n",
        "      \n",
        "    N = x_train.shape[0]\n",
        "    for epoch in range(epochs):\n",
        "\n",
        "        batch_error = 0\n",
        "        combined_training_data = list(zip(x_train,y_train))\n",
        "        np.random.shuffle(combined_training_data)\n",
        "        x_train[:],y_train[:] = zip(*combined_training_data)\n",
        "        x_train,y_train = np.array(x_train),np.array(y_train)\n",
        "\n",
        "        mini_x_batches = [x_train[i:i+batch_size] for i in range(0,N,batch_size)]\n",
        "        mini_y_batches = [y_train[i:i+batch_size] for i in range(0,N,batch_size)] \n",
        "\n",
        "        for X,Y in zip(mini_x_batches,mini_y_batches):\n",
        "            # grad_wrt_weights = [np.zeros(w.shape) for w in self.weights]\n",
        "            # grad_wrt_biases = [np.zeros(b.shape) for b in self.biases]\n",
        "        # for x,y in zip(mini_x_batch,mini_y_batch):\n",
        "        #       #forward propagation\n",
        "        #   a,h = self.forward_propagation(x)\n",
        "        #       #backward_propagation\n",
        "        #   grad_del_wrt_weights,grad_del_wrt_biases = self.backward_propagation(x,y,a,h)\n",
        "\n",
        "        #   grad_wrt_weights = [gw + dgw for gw,dgw in zip(grad_wrt_weights,grad_del_wrt_weights)]\n",
        "        #   grad_wrt_biases = [gb + dgb for gb,dgb in zip(grad_wrt_biases,grad_del_wrt_biases)]\n",
        "\n",
        "            A,H,Y_predicted = self.forward_propagation(X)\n",
        "            grad_wrt_weights,grad_wrt_biases = self.backward_propagation(X,Y,A,H)\n",
        "\n",
        "          #gradient descent variant\n",
        "            self.update_parameter(grad_wrt_weights,grad_wrt_biases,eta)\n",
        "            batch_error += self.calculate_loss(Y.T,Y_predicted)\n",
        "        print(\"In epoch {} the loss is {}\".format(epoch,batch_error))\n",
        "\n",
        "  def compile(self,optimizer = \"sgd\",loss = \"squared-error\",activation = \"sigmoid\",output_function = \"softmax\",metrics = \"accuracy\"):\n",
        "\n",
        "    self.activation = activation\n",
        "    self.output_function = output_function\n",
        "    self.optimizer = optimizer\n",
        "    self.loss = loss\n",
        "    self.metrics = metrics\n",
        "\n",
        "\n",
        "  def test(self,X,Y):\n",
        "    if self.metrics == \"accuracy\":\n",
        "    #   N = x_test.shape[0]\n",
        "    #   count = 0\n",
        "    #   for x,y in zip(x_test,y_test):\n",
        "    #     a,h = self.forward_propagation(x)\n",
        "    #     y_estimated = h[-1]\n",
        "    #     if np.argmax(y_estimated) == np.argmax(y):\n",
        "    #       count += 1\n",
        "    #   print(\"the accuracy is \",(count/N)*100)\n",
        "        A,H,Y_predicted = self.forward_propagation(X)\n",
        "        Y_list = np.argmax(Y.T,axis = 0).reshape(Y.T.shape[1], 1)\n",
        "        Y_list_predicted = np.argmax(Y_predicted,axis = 0).reshape(Y.T.shape[1], 1)\n",
        "        accuracy_matrix = Y_list_predicted == Y_list\n",
        "        accuracy_list = list(accuracy_matrix)\n",
        "        correct = accuracy_list.count([True])\n",
        "        return (correct*100)/len(accuracy_list)\n",
        "\n"
      ],
      "execution_count": 139,
      "outputs": []
    },
    {
      "cell_type": "code",
      "metadata": {
        "id": "epypxxybGm_2"
      },
      "source": [
        "x_train_transformed,y_train_transformed = prep_data(x_train,y_train)"
      ],
      "execution_count": 15,
      "outputs": []
    },
    {
      "cell_type": "code",
      "metadata": {
        "id": "seukU2hGQEuI"
      },
      "source": [
        "net = Network([784,400,10],weight_initilizer=\"random\")\n",
        "net.compile(optimizer = \"sgd\",loss = \"cross_entropy_loss\",activation = \"sigmoid\",output_function = \"softmax\",metrics = \"accuracy\")\n"
      ],
      "execution_count": 151,
      "outputs": []
    },
    {
      "cell_type": "code",
      "metadata": {
        "id": "wi5BbykNKsy1",
        "colab": {
          "base_uri": "https://localhost:8080/"
        },
        "outputId": "77377c31-490e-4f68-8de9-08c8fe4a2f6e"
      },
      "source": [
        "net.fit(x_train_transformed,y_train_transformed,epochs = 10, eta = 0.001,batch_size = 64)"
      ],
      "execution_count": 152,
      "outputs": [
        {
          "output_type": "stream",
          "text": [
            "In epoch 0 the loss is 18245.342444585258\n",
            "In epoch 1 the loss is 14253.49326551966\n",
            "In epoch 2 the loss is 13488.870232819916\n",
            "In epoch 3 the loss is 13079.248061484644\n",
            "In epoch 4 the loss is 12832.91118678425\n",
            "In epoch 5 the loss is 12640.005898542668\n",
            "In epoch 6 the loss is 12474.719760228796\n",
            "In epoch 7 the loss is 12313.776196158484\n",
            "In epoch 8 the loss is 12231.210545766686\n",
            "In epoch 9 the loss is 12148.71147526136\n"
          ],
          "name": "stdout"
        }
      ]
    },
    {
      "cell_type": "code",
      "metadata": {
        "id": "NXr0dl1eN67E"
      },
      "source": [
        "x_test_transformed,y_test_transformed = prep_data(x_test,y_test)"
      ],
      "execution_count": 107,
      "outputs": []
    },
    {
      "cell_type": "code",
      "metadata": {
        "colab": {
          "base_uri": "https://localhost:8080/"
        },
        "id": "F3UTaYupKKer",
        "outputId": "3602bedb-dfd8-40a2-8f16-bf5c3b84d18a"
      },
      "source": [
        "net.test(x_test_transformed,y_test_transformed)"
      ],
      "execution_count": 153,
      "outputs": [
        {
          "output_type": "execute_result",
          "data": {
            "text/plain": [
              "75.75"
            ]
          },
          "metadata": {
            "tags": []
          },
          "execution_count": 153
        }
      ]
    }
  ]
}