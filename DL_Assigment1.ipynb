{
  "nbformat": 4,
  "nbformat_minor": 0,
  "metadata": {
    "colab": {
      "name": "Version 2 DL_Assigment1.ipynb",
      "provenance": [],
      "authorship_tag": "ABX9TyMoC/mFew5HjKmGZkK0jIGR",
      "include_colab_link": true
    },
    "kernelspec": {
      "name": "python3",
      "display_name": "Python 3"
    },
    "widgets": {
      "application/vnd.jupyter.widget-state+json": {
        "c55b19ed463c4555936e6597c4049716": {
          "model_module": "@jupyter-widgets/controls",
          "model_name": "VBoxModel",
          "state": {
            "_view_name": "VBoxView",
            "_dom_classes": [],
            "_model_name": "VBoxModel",
            "_view_module": "@jupyter-widgets/controls",
            "_model_module_version": "1.5.0",
            "_view_count": null,
            "_view_module_version": "1.5.0",
            "box_style": "",
            "layout": "IPY_MODEL_9a53f5b1dce54c969e64a07abaa345c1",
            "_model_module": "@jupyter-widgets/controls",
            "children": [
              "IPY_MODEL_4f883387f1d44fa8847596443f03ba15",
              "IPY_MODEL_5fdcb106da9e41dc8d18e4e502cad246"
            ]
          }
        },
        "9a53f5b1dce54c969e64a07abaa345c1": {
          "model_module": "@jupyter-widgets/base",
          "model_name": "LayoutModel",
          "state": {
            "_view_name": "LayoutView",
            "grid_template_rows": null,
            "right": null,
            "justify_content": null,
            "_view_module": "@jupyter-widgets/base",
            "overflow": null,
            "_model_module_version": "1.2.0",
            "_view_count": null,
            "flex_flow": null,
            "width": null,
            "min_width": null,
            "border": null,
            "align_items": null,
            "bottom": null,
            "_model_module": "@jupyter-widgets/base",
            "top": null,
            "grid_column": null,
            "overflow_y": null,
            "overflow_x": null,
            "grid_auto_flow": null,
            "grid_area": null,
            "grid_template_columns": null,
            "flex": null,
            "_model_name": "LayoutModel",
            "justify_items": null,
            "grid_row": null,
            "max_height": null,
            "align_content": null,
            "visibility": null,
            "align_self": null,
            "height": null,
            "min_height": null,
            "padding": null,
            "grid_auto_rows": null,
            "grid_gap": null,
            "max_width": null,
            "order": null,
            "_view_module_version": "1.2.0",
            "grid_template_areas": null,
            "object_position": null,
            "object_fit": null,
            "grid_auto_columns": null,
            "margin": null,
            "display": null,
            "left": null
          }
        },
        "4f883387f1d44fa8847596443f03ba15": {
          "model_module": "@jupyter-widgets/controls",
          "model_name": "LabelModel",
          "state": {
            "_view_name": "LabelView",
            "style": "IPY_MODEL_1b4042911cbf48ea9d2ffe1e99395856",
            "_dom_classes": [],
            "description": "",
            "_model_name": "LabelModel",
            "placeholder": "​",
            "_view_module": "@jupyter-widgets/controls",
            "_model_module_version": "1.5.0",
            "value": " 0.01MB of 0.01MB uploaded (0.00MB deduped)\r",
            "_view_count": null,
            "_view_module_version": "1.5.0",
            "description_tooltip": null,
            "_model_module": "@jupyter-widgets/controls",
            "layout": "IPY_MODEL_47db931a4de54c668289b44e30bc345d"
          }
        },
        "5fdcb106da9e41dc8d18e4e502cad246": {
          "model_module": "@jupyter-widgets/controls",
          "model_name": "FloatProgressModel",
          "state": {
            "_view_name": "ProgressView",
            "style": "IPY_MODEL_0cb747e08c624009838c15bfd46622f8",
            "_dom_classes": [],
            "description": "",
            "_model_name": "FloatProgressModel",
            "bar_style": "",
            "max": 1,
            "_view_module": "@jupyter-widgets/controls",
            "_model_module_version": "1.5.0",
            "value": 1,
            "_view_count": null,
            "_view_module_version": "1.5.0",
            "orientation": "horizontal",
            "min": 0,
            "description_tooltip": null,
            "_model_module": "@jupyter-widgets/controls",
            "layout": "IPY_MODEL_56ed3e5bbf61439285d71d5ca81a8b80"
          }
        },
        "1b4042911cbf48ea9d2ffe1e99395856": {
          "model_module": "@jupyter-widgets/controls",
          "model_name": "DescriptionStyleModel",
          "state": {
            "_view_name": "StyleView",
            "_model_name": "DescriptionStyleModel",
            "description_width": "",
            "_view_module": "@jupyter-widgets/base",
            "_model_module_version": "1.5.0",
            "_view_count": null,
            "_view_module_version": "1.2.0",
            "_model_module": "@jupyter-widgets/controls"
          }
        },
        "47db931a4de54c668289b44e30bc345d": {
          "model_module": "@jupyter-widgets/base",
          "model_name": "LayoutModel",
          "state": {
            "_view_name": "LayoutView",
            "grid_template_rows": null,
            "right": null,
            "justify_content": null,
            "_view_module": "@jupyter-widgets/base",
            "overflow": null,
            "_model_module_version": "1.2.0",
            "_view_count": null,
            "flex_flow": null,
            "width": null,
            "min_width": null,
            "border": null,
            "align_items": null,
            "bottom": null,
            "_model_module": "@jupyter-widgets/base",
            "top": null,
            "grid_column": null,
            "overflow_y": null,
            "overflow_x": null,
            "grid_auto_flow": null,
            "grid_area": null,
            "grid_template_columns": null,
            "flex": null,
            "_model_name": "LayoutModel",
            "justify_items": null,
            "grid_row": null,
            "max_height": null,
            "align_content": null,
            "visibility": null,
            "align_self": null,
            "height": null,
            "min_height": null,
            "padding": null,
            "grid_auto_rows": null,
            "grid_gap": null,
            "max_width": null,
            "order": null,
            "_view_module_version": "1.2.0",
            "grid_template_areas": null,
            "object_position": null,
            "object_fit": null,
            "grid_auto_columns": null,
            "margin": null,
            "display": null,
            "left": null
          }
        },
        "0cb747e08c624009838c15bfd46622f8": {
          "model_module": "@jupyter-widgets/controls",
          "model_name": "ProgressStyleModel",
          "state": {
            "_view_name": "StyleView",
            "_model_name": "ProgressStyleModel",
            "description_width": "",
            "_view_module": "@jupyter-widgets/base",
            "_model_module_version": "1.5.0",
            "_view_count": null,
            "_view_module_version": "1.2.0",
            "bar_color": null,
            "_model_module": "@jupyter-widgets/controls"
          }
        },
        "56ed3e5bbf61439285d71d5ca81a8b80": {
          "model_module": "@jupyter-widgets/base",
          "model_name": "LayoutModel",
          "state": {
            "_view_name": "LayoutView",
            "grid_template_rows": null,
            "right": null,
            "justify_content": null,
            "_view_module": "@jupyter-widgets/base",
            "overflow": null,
            "_model_module_version": "1.2.0",
            "_view_count": null,
            "flex_flow": null,
            "width": null,
            "min_width": null,
            "border": null,
            "align_items": null,
            "bottom": null,
            "_model_module": "@jupyter-widgets/base",
            "top": null,
            "grid_column": null,
            "overflow_y": null,
            "overflow_x": null,
            "grid_auto_flow": null,
            "grid_area": null,
            "grid_template_columns": null,
            "flex": null,
            "_model_name": "LayoutModel",
            "justify_items": null,
            "grid_row": null,
            "max_height": null,
            "align_content": null,
            "visibility": null,
            "align_self": null,
            "height": null,
            "min_height": null,
            "padding": null,
            "grid_auto_rows": null,
            "grid_gap": null,
            "max_width": null,
            "order": null,
            "_view_module_version": "1.2.0",
            "grid_template_areas": null,
            "object_position": null,
            "object_fit": null,
            "grid_auto_columns": null,
            "margin": null,
            "display": null,
            "left": null
          }
        },
        "4ac36bca57914ac68f8c6fddf1e0c828": {
          "model_module": "@jupyter-widgets/controls",
          "model_name": "VBoxModel",
          "state": {
            "_view_name": "VBoxView",
            "_dom_classes": [],
            "_model_name": "VBoxModel",
            "_view_module": "@jupyter-widgets/controls",
            "_model_module_version": "1.5.0",
            "_view_count": null,
            "_view_module_version": "1.5.0",
            "box_style": "",
            "layout": "IPY_MODEL_e5d4863f89bc4a4393b13b5027546e2a",
            "_model_module": "@jupyter-widgets/controls",
            "children": [
              "IPY_MODEL_c02be848260d47bbbff3d8d27b44f45f",
              "IPY_MODEL_39db52b05df345ba80dbcde12263d34f"
            ]
          }
        },
        "e5d4863f89bc4a4393b13b5027546e2a": {
          "model_module": "@jupyter-widgets/base",
          "model_name": "LayoutModel",
          "state": {
            "_view_name": "LayoutView",
            "grid_template_rows": null,
            "right": null,
            "justify_content": null,
            "_view_module": "@jupyter-widgets/base",
            "overflow": null,
            "_model_module_version": "1.2.0",
            "_view_count": null,
            "flex_flow": null,
            "width": null,
            "min_width": null,
            "border": null,
            "align_items": null,
            "bottom": null,
            "_model_module": "@jupyter-widgets/base",
            "top": null,
            "grid_column": null,
            "overflow_y": null,
            "overflow_x": null,
            "grid_auto_flow": null,
            "grid_area": null,
            "grid_template_columns": null,
            "flex": null,
            "_model_name": "LayoutModel",
            "justify_items": null,
            "grid_row": null,
            "max_height": null,
            "align_content": null,
            "visibility": null,
            "align_self": null,
            "height": null,
            "min_height": null,
            "padding": null,
            "grid_auto_rows": null,
            "grid_gap": null,
            "max_width": null,
            "order": null,
            "_view_module_version": "1.2.0",
            "grid_template_areas": null,
            "object_position": null,
            "object_fit": null,
            "grid_auto_columns": null,
            "margin": null,
            "display": null,
            "left": null
          }
        },
        "c02be848260d47bbbff3d8d27b44f45f": {
          "model_module": "@jupyter-widgets/controls",
          "model_name": "LabelModel",
          "state": {
            "_view_name": "LabelView",
            "style": "IPY_MODEL_266a29d1ad0a43cfb2e2e5b6472b3153",
            "_dom_classes": [],
            "description": "",
            "_model_name": "LabelModel",
            "placeholder": "​",
            "_view_module": "@jupyter-widgets/controls",
            "_model_module_version": "1.5.0",
            "value": " 0.01MB of 0.01MB uploaded (0.00MB deduped)\r",
            "_view_count": null,
            "_view_module_version": "1.5.0",
            "description_tooltip": null,
            "_model_module": "@jupyter-widgets/controls",
            "layout": "IPY_MODEL_cc3edd76b8434dd0960f9c957bc41e16"
          }
        },
        "39db52b05df345ba80dbcde12263d34f": {
          "model_module": "@jupyter-widgets/controls",
          "model_name": "FloatProgressModel",
          "state": {
            "_view_name": "ProgressView",
            "style": "IPY_MODEL_a1e7218cf45045058a78a50cbb6fb72c",
            "_dom_classes": [],
            "description": "",
            "_model_name": "FloatProgressModel",
            "bar_style": "",
            "max": 1,
            "_view_module": "@jupyter-widgets/controls",
            "_model_module_version": "1.5.0",
            "value": 1,
            "_view_count": null,
            "_view_module_version": "1.5.0",
            "orientation": "horizontal",
            "min": 0,
            "description_tooltip": null,
            "_model_module": "@jupyter-widgets/controls",
            "layout": "IPY_MODEL_3665fe866ca4490abfa3bb44a9d6baaf"
          }
        },
        "266a29d1ad0a43cfb2e2e5b6472b3153": {
          "model_module": "@jupyter-widgets/controls",
          "model_name": "DescriptionStyleModel",
          "state": {
            "_view_name": "StyleView",
            "_model_name": "DescriptionStyleModel",
            "description_width": "",
            "_view_module": "@jupyter-widgets/base",
            "_model_module_version": "1.5.0",
            "_view_count": null,
            "_view_module_version": "1.2.0",
            "_model_module": "@jupyter-widgets/controls"
          }
        },
        "cc3edd76b8434dd0960f9c957bc41e16": {
          "model_module": "@jupyter-widgets/base",
          "model_name": "LayoutModel",
          "state": {
            "_view_name": "LayoutView",
            "grid_template_rows": null,
            "right": null,
            "justify_content": null,
            "_view_module": "@jupyter-widgets/base",
            "overflow": null,
            "_model_module_version": "1.2.0",
            "_view_count": null,
            "flex_flow": null,
            "width": null,
            "min_width": null,
            "border": null,
            "align_items": null,
            "bottom": null,
            "_model_module": "@jupyter-widgets/base",
            "top": null,
            "grid_column": null,
            "overflow_y": null,
            "overflow_x": null,
            "grid_auto_flow": null,
            "grid_area": null,
            "grid_template_columns": null,
            "flex": null,
            "_model_name": "LayoutModel",
            "justify_items": null,
            "grid_row": null,
            "max_height": null,
            "align_content": null,
            "visibility": null,
            "align_self": null,
            "height": null,
            "min_height": null,
            "padding": null,
            "grid_auto_rows": null,
            "grid_gap": null,
            "max_width": null,
            "order": null,
            "_view_module_version": "1.2.0",
            "grid_template_areas": null,
            "object_position": null,
            "object_fit": null,
            "grid_auto_columns": null,
            "margin": null,
            "display": null,
            "left": null
          }
        },
        "a1e7218cf45045058a78a50cbb6fb72c": {
          "model_module": "@jupyter-widgets/controls",
          "model_name": "ProgressStyleModel",
          "state": {
            "_view_name": "StyleView",
            "_model_name": "ProgressStyleModel",
            "description_width": "",
            "_view_module": "@jupyter-widgets/base",
            "_model_module_version": "1.5.0",
            "_view_count": null,
            "_view_module_version": "1.2.0",
            "bar_color": null,
            "_model_module": "@jupyter-widgets/controls"
          }
        },
        "3665fe866ca4490abfa3bb44a9d6baaf": {
          "model_module": "@jupyter-widgets/base",
          "model_name": "LayoutModel",
          "state": {
            "_view_name": "LayoutView",
            "grid_template_rows": null,
            "right": null,
            "justify_content": null,
            "_view_module": "@jupyter-widgets/base",
            "overflow": null,
            "_model_module_version": "1.2.0",
            "_view_count": null,
            "flex_flow": null,
            "width": null,
            "min_width": null,
            "border": null,
            "align_items": null,
            "bottom": null,
            "_model_module": "@jupyter-widgets/base",
            "top": null,
            "grid_column": null,
            "overflow_y": null,
            "overflow_x": null,
            "grid_auto_flow": null,
            "grid_area": null,
            "grid_template_columns": null,
            "flex": null,
            "_model_name": "LayoutModel",
            "justify_items": null,
            "grid_row": null,
            "max_height": null,
            "align_content": null,
            "visibility": null,
            "align_self": null,
            "height": null,
            "min_height": null,
            "padding": null,
            "grid_auto_rows": null,
            "grid_gap": null,
            "max_width": null,
            "order": null,
            "_view_module_version": "1.2.0",
            "grid_template_areas": null,
            "object_position": null,
            "object_fit": null,
            "grid_auto_columns": null,
            "margin": null,
            "display": null,
            "left": null
          }
        }
      }
    }
  },
  "cells": [
    {
      "cell_type": "markdown",
      "metadata": {
        "id": "view-in-github",
        "colab_type": "text"
      },
      "source": [
        "<a href=\"https://colab.research.google.com/github/theindianwriter/cs6910_assignment1/blob/main/DL_Assigment1.ipynb\" target=\"_parent\"><img src=\"https://colab.research.google.com/assets/colab-badge.svg\" alt=\"Open In Colab\"/></a>"
      ]
    },
    {
      "cell_type": "code",
      "metadata": {
        "id": "r3dP-sp72KOC"
      },
      "source": [
        "import numpy as np\n",
        "import pandas as pd\n",
        "import matplotlib.pyplot as plt\n",
        "from tensorflow import keras\n",
        "from scipy.special import expit\n",
        "from sklearn.metrics import log_loss\n",
        "from sklearn.metrics import mean_squared_error"
      ],
      "execution_count": 4,
      "outputs": []
    },
    {
      "cell_type": "code",
      "metadata": {
        "id": "T4hRoteM6Gff"
      },
      "source": [
        "from keras.datasets import fashion_mnist"
      ],
      "execution_count": 5,
      "outputs": []
    },
    {
      "cell_type": "code",
      "metadata": {
        "id": "_7xQF_HDnXs2",
        "colab": {
          "base_uri": "https://localhost:8080/"
        },
        "outputId": "1afe8603-4822-4f9c-f477-e6da284c80f7"
      },
      "source": [
        "!pip install wandb -qqq\n",
        "import wandb\n",
        "wandb.login()"
      ],
      "execution_count": 6,
      "outputs": [
        {
          "output_type": "stream",
          "text": [
            "\u001b[34m\u001b[1mwandb\u001b[0m: Currently logged in as: \u001b[33mtheindianwriter\u001b[0m (use `wandb login --relogin` to force relogin)\n"
          ],
          "name": "stderr"
        },
        {
          "output_type": "execute_result",
          "data": {
            "text/plain": [
              "True"
            ]
          },
          "metadata": {
            "tags": []
          },
          "execution_count": 6
        }
      ]
    },
    {
      "cell_type": "code",
      "metadata": {
        "id": "XsO8ygJ-5X9f"
      },
      "source": [
        "def data_loader():\n",
        "  (x_train,y_train),(x_test,y_test) = fashion_mnist.load_data()\n",
        "  num_of_train_data = x_train.shape[0]\n",
        "  combined_training_data = list(zip(x_train,y_train))\n",
        "  np.random.shuffle(combined_training_data)\n",
        "  (x_train,y_train) = zip(*combined_training_data)\n",
        "  x_train,y_train = np.array(x_train),np.array(y_train)\n",
        "  validation_size = int(0.1*num_of_train_data)\n",
        "  x_validation = x_train[:validation_size]\n",
        "  y_validation = y_train[:validation_size]\n",
        "  x_train = x_train[validation_size:]\n",
        "  y_train = y_train[validation_size:]\n",
        "  return x_train,y_train,x_validation,y_validation,x_test,y_test\n"
      ],
      "execution_count": 7,
      "outputs": []
    },
    {
      "cell_type": "code",
      "metadata": {
        "colab": {
          "base_uri": "https://localhost:8080/"
        },
        "id": "2s1_mbH28M6h",
        "outputId": "79ad53cd-284f-43f0-d0a9-14c349490d9d"
      },
      "source": [
        "x_train,y_train,x_validation,y_validation,x_test,y_test = data_loader()\n",
        "print(\"information regarding the training,validation and test dataset\")\n",
        "print(\"the size of training dataset is {},validation set is {},test set is {}\".format(x_train.shape[0],x_validation.shape[0],x_test.shape[0]))"
      ],
      "execution_count": 8,
      "outputs": [
        {
          "output_type": "stream",
          "text": [
            "information regarding the training,validation and test dataset\n",
            "the size of training dataset is 54000,validation set is 6000,test set is 10000\n"
          ],
          "name": "stdout"
        }
      ]
    },
    {
      "cell_type": "code",
      "metadata": {
        "id": "sA25XnEtFYjV"
      },
      "source": [
        "def vectorize(Y):\n",
        "  Y_vectorize = np.zeros((Y.shape[0],10))\n",
        "  for i in range(Y.shape[0]):\n",
        "      Y_vectorize[i][Y[i]] = 1.0\n",
        "  return Y_vectorize"
      ],
      "execution_count": 9,
      "outputs": []
    },
    {
      "cell_type": "code",
      "metadata": {
        "id": "XTyzvGeOBCBw"
      },
      "source": [
        "def prep_data(X,Y):\n",
        "    X_vector = np.array([np.reshape(x,(784))for x in X])\n",
        "    mean = np.mean(X_vector,axis = 0)\n",
        "    std = np.std(X_vector,axis = 0)\n",
        "    X_norm_vector = (X_vector - mean)/(std + 0.0001)\n",
        "    Y_vectorize = vectorize(Y)\n",
        "    return X_norm_vector,Y_vectorize"
      ],
      "execution_count": 10,
      "outputs": []
    },
    {
      "cell_type": "code",
      "metadata": {
        "id": "pQGgiWTjDh6s"
      },
      "source": [
        "class_label = ['T-shirt/top', \n",
        "           'Trousers', \n",
        "           'Pullover', \n",
        "           'Dress', 'Coat', \n",
        "           'Sandal', \n",
        "           'Shirt', \n",
        "           'Sneaker', \n",
        "           'Bag', \n",
        "           'Ankle boot']"
      ],
      "execution_count": 11,
      "outputs": []
    },
    {
      "cell_type": "code",
      "metadata": {
        "id": "8gG3CFQOFROJ"
      },
      "source": [
        "#Q1 plots one image of each class \n",
        "\n",
        "def plot_each_label(X,Y):\n",
        "  rows = 2\n",
        "  cols = 5\n",
        "  fig = plt.figure()\n",
        "  ax = []\n",
        "  j = 0\n",
        "  for i in range(1,rows*cols + 1):\n",
        "    ax.append(fig.add_subplot(rows,cols,i))\n",
        "    pos = np.where(Y == j)\n",
        "    plt.imshow(X[pos[0][0]])\n",
        "    plt.xticks([])\n",
        "    plt.yticks([])\n",
        "    ax[-1].set_title(class_label[j])\n",
        "    j += 1\n",
        "  plt.show()\n"
      ],
      "execution_count": 12,
      "outputs": []
    },
    {
      "cell_type": "code",
      "metadata": {
        "colab": {
          "base_uri": "https://localhost:8080/",
          "height": 227
        },
        "id": "KF-0eNsd_0oZ",
        "outputId": "41052aeb-b04c-4c7c-d9a1-97553961271d"
      },
      "source": [
        "#Q1 calls and plots image of each class\n",
        "plot_each_label(x_train,y_train)"
      ],
      "execution_count": null,
      "outputs": [
        {
          "output_type": "display_data",
          "data": {
            "image/png": "[encoded data removed]",
            "text/plain": [
              "<Figure size 432x288 with 10 Axes>"
            ]
          },
          "metadata": {
            "tags": []
          }
        }
      ]
    },
    {
      "cell_type": "code",
      "metadata": {
        "id": "Ehw2440wrtQ2"
      },
      "source": [
        "def softmax(X):\n",
        "    output = np.zeros(X.shape)\n",
        "    for col in range(X.shape[1]):\n",
        "        exps = np.exp(X[:,col] - np.max(X[:,col]))\n",
        "        output[:,col] = exps/exps.sum()\n",
        "\n",
        "    return output\n",
        "\n",
        "def sigmoid(X):\n",
        "    return expit(X) #to avoid overflow\n",
        "\n",
        "def sigmoid_derivative(x):\n",
        "  return sigmoid(x)*(1-sigmoid(x))\n",
        "\n",
        "def tanh(X):\n",
        "    return np.tanh(X)\n",
        "\n",
        "def relu(X):\n",
        "    return np.maximum(X,0)\n",
        "\n",
        "def tanh_derivative(X):\n",
        "    return (1-np.square(tanh(X)))\n",
        "\n",
        "def relu_derivative(X):\n",
        "    return (X > 0)*(np.ones(np.shape(X))) + (X < 0 )*(0.01*np.ones(np.shape(X)))\n",
        "\n",
        "  "
      ],
      "execution_count": 13,
      "outputs": []
    },
    {
      "cell_type": "code",
      "metadata": {
        "id": "yPs0JWttc6ly"
      },
      "source": [
        "class Network:\n",
        "\n",
        "# ---------------------------------------START OF NETWORK INITIALIAZATION ---------------------------------------------\n",
        "#----------------------------------------------------------------------------------------------------------------------\n",
        "  #initialization of the network\n",
        "  def __init__(self,layers,weight_initilizer = \"random\"):\n",
        "    print(layers)\n",
        "    self.num_of_layers = len(layers)\n",
        "    self.layers = layers\n",
        "    self.num_of_steps = 0\n",
        "\n",
        "    #based on the methods the initilization would be done\n",
        "    if weight_initilizer == 'random':\n",
        "      self.random(layers)\n",
        "    elif weight_initilizer == 'Xavier':\n",
        "      self.Xavier(layers)\n",
        "    else:\n",
        "      print(\"ERROR\")\n",
        "\n",
        "    #used for mpmentum based gradient descent,adam and nadam\n",
        "    self.prev_update_biases = [np.zeros((x,1)) for x in layers[1:]]\n",
        "    self.prev_update_weights = [np.zeros((x,y)) for x,y in zip(layers[1:],layers[:-1])]\n",
        "    #used for adam,rmsprop and nadam\n",
        "    self.v_w = [np.zeros((x,y)) for x,y in zip(layers[1:],layers[:-1])]\n",
        "    self.v_b = [np.zeros((x,1)) for x in layers[1:]]\n",
        "\n",
        "#--------------------------------------END OF INITIALIZATION OF NETWORK------------------------------------------------\n",
        "#----------------------------------------------------------------------------------------------------------------------\n",
        "\n",
        "#-----------------------------------------START OF INITILIZATION OF WEIGHTS AND BIASES METHODS ------------------------------\n",
        "#---------------------------------------------------------------------------------------------------------------------------\n",
        "\n",
        "  def random(self,layers):\n",
        "    self.biases = [np.random.randn(x,1) for x in layers[1:]]\n",
        "    self.weights = [np.random.randn(x,y) for x,y in zip(layers[1:],layers[:-1])]\n",
        "\n",
        "  def Xavier(self,layers):\n",
        "    self.biases = [np.zeros((x,1)) for x in layers[1:]]\n",
        "    self.weights = [np.random.randn(x,y)*2/np.sqrt(y+x) for x,y in zip(layers[1:],layers[:-1])]\n",
        "\n",
        "#-------------------------------------------END OF INITIALIZATION OF WEIGHTS AND BIASES METHOD-------------------------------------\n",
        "#-----------------------------------------------------------------------------------------------------------------------------------\n",
        "\n",
        "\n",
        "#---------------------------------------------START OF CALCULATING LOSS FUNCTIONS ----------------------------------------------------\n",
        "#------------------------------------------------------------------------------------------------------------------------------------\n",
        "\n",
        "  def calculate_loss(self,Y,Y_predicted):\n",
        "    if self.loss == \"cross_entropy_loss\":\n",
        "        error = log_loss(Y,Y_predicted)\n",
        "        return error\n",
        "    elif self.loss == \"squared-error\":\n",
        "        error = mean_squared_error(Y,Y_predicted)\n",
        "        return error\n",
        "#--------------------------------------------------END OF CALCULATING LOSS FUNCTIONS------------------------------------------------\n",
        "#--------------------------------------------------------------------------------------------------------------------------------------\n",
        "\n",
        "#-----------------------------------------------------------START OF ACTIVATION FUNCTION METHODS ----------------------------------------\n",
        "#--------------------------------------------------------------------------------------------------------------------------------------\n",
        "\n",
        "  def perform_activation(self,A):\n",
        " \n",
        "    if self.activation == 'sigmoid':\n",
        "      return sigmoid(A)\n",
        "    elif self.activation == \"tanh\":\n",
        "      return tanh(A)\n",
        "    elif self.activation == \"relu\":\n",
        "        return relu(A)\n",
        "    else:\n",
        "      print(\"ERROR\")\n",
        "\n",
        "  def perform_output_function(self,A):\n",
        "\n",
        "    if self.output_function == \"softmax\":\n",
        "      H = softmax(A)\n",
        "    else:\n",
        "      print(\"ERROR\")\n",
        "    return H\n",
        "#--------------------------------------------------END OF ACTIVATION FUNCTION METHODS-----------------------------------------------\n",
        "#--------------------------------------------------------------------------------------------------------------------------------\n",
        "\n",
        "\n",
        "\n",
        "  def update_parameter(self,grad_wrt_weights,grad_wrt_biases,eta,gamma = 0.5,beta1 = 0.9,beta2 = 0.999,eps = 1e-08):\n",
        "    if self.optimizer == \"sgd\":\n",
        "        update_wrt_biases = [eta*gb for gb in grad_wrt_biases]\n",
        "        update_wrt_weights = [eta*gw for gw in grad_wrt_weights]\n",
        "\n",
        "    elif self.optimizer == \"momentum\":\n",
        "        update_wrt_biases = [gamma*ub + eta*gb for ub,gb in zip(self.prev_update_biases,grad_wrt_biases)]\n",
        "        update_wrt_weights = [gamma*uw + eta*gw for uw,gw in zip(self.prev_update_weights,grad_wrt_weights)]\n",
        "\n",
        "        self.prev_update_biases = update_wrt_biases\n",
        "        self.prev_update_weights = update_wrt_weights\n",
        "\n",
        "    elif self.optimizer == \"nesterov\":\n",
        "\n",
        "        update_wrt_biases = [gamma*ub + eta*gb for ub,gb in zip(self.prev_update_biases,grad_wrt_biases)]\n",
        "        update_wrt_weights = [gamma*uw + eta*gw for uw,gw in zip(self.prev_update_weights,grad_wrt_weights)]\n",
        "\n",
        "        self.prev_update_biases = update_wrt_biases\n",
        "        self.prev_update_weights = update_wrt_weights\n",
        "\n",
        "    elif self.optimizer == \"rmsprop\":\n",
        "\n",
        "        self.v_b = [beta2*t + (1-beta2)*(np.power(gb,2)) for t,gb in zip(self.v_b,grad_wrt_biases)]\n",
        "        self.v_w = [beta2*t + (1-beta2)*(np.power(gw,2)) for t,gw in zip(self.v_w,grad_wrt_weights)] \n",
        "        \n",
        "\n",
        "        update_wrt_biases = [(eta/np.power(vb+eps,0.5))*gb for vb,gb in zip(self.v_b,grad_wrt_biases)]\n",
        "        update_wrt_weights = [(eta/np.power(vw+eps,0.5))*gw for vw,gw in zip(self.v_w,grad_wrt_weights)]\n",
        "\n",
        "\n",
        "    elif self.optimizer == \"adam\":\n",
        "        i = self.num_of_steps\n",
        "\n",
        "        m_b =  [(beta1*mb + (1-beta1)*gb)for mb,gb in zip(self.prev_update_biases,grad_wrt_biases)] \n",
        "        m_w = [(beta1*mw + (1-beta1)*gw) for mw,gw in zip(self.prev_update_weights,grad_wrt_weights)] \n",
        "\n",
        "        m_b_hat = [mb*(1-np.power(beta1,i)) for mb in m_b]\n",
        "        m_w_hat = [mw*(1-np.power(beta1,i)) for mw in m_w]\n",
        "\n",
        "        self.v_w = [(beta2*vw + (1-beta2)*(np.power(gw,2))) for vw,gw in zip(self.v_w,grad_wrt_weights)] \n",
        "        self.v_b = [(beta2*vb + (1-beta2)*(np.power(gb,2))) for vb,gb in zip(self.v_b,grad_wrt_biases)]\n",
        "\n",
        "        v_b_hat = [(vb/np.power(beta2,i)) for vb in self.v_b]\n",
        "        v_w_hat = [(vw/np.power(beta2,i)) for vw in self.v_w]\n",
        "\n",
        "        update_wrt_biases = [(eta/np.power(vb+eps,0.5))*mb for vb,mb in zip(v_b_hat,m_b_hat)]\n",
        "        update_wrt_weights = [(eta/np.power(vw+eps,0.5))*mw for vw,mw in zip(v_w_hat,m_w_hat)]\n",
        "\n",
        "        self.prev_update_biases = m_b\n",
        "        self.prev_update_weights = m_w\n",
        "\n",
        "    elif self.optimizer == \"nadam\":\n",
        "        i = self.num_of_steps\n",
        "\n",
        "        m_b =  [(beta1*mb + (1-beta1)*gb)for mb,gb in zip(self.prev_update_biases,grad_wrt_biases)] \n",
        "        m_w = [(beta1*mw + (1-beta1)*gw) for mw,gw in zip(self.prev_update_weights,grad_wrt_weights)] \n",
        "\n",
        "        m_b_hat = [mb*(1-np.power(beta1,i)) for mb in m_b]\n",
        "        m_w_hat = [mw*(1-np.power(beta1,i)) for mw in m_w]\n",
        "\n",
        "        self.v_w = [(beta2*vw + (1-beta2)*(np.power(gw,2))) for vw,gw in zip(self.v_w,grad_wrt_weights)] \n",
        "        self.v_b = [(beta2*vb + (1-beta2)*(np.power(gb,2))) for vb,gb in zip(self.v_b,grad_wrt_biases)]\n",
        "\n",
        "        v_b_hat = [(vb/np.power(beta2,i)) for vb in self.v_b]\n",
        "        v_w_hat = [(vw/np.power(beta2,i)) for vw in self.v_w]\n",
        "\n",
        "        update_wrt_biases = [(eta/np.power(vb+eps,0.5))*mb for vb,mb in zip(v_b_hat,m_b_hat)]\n",
        "        update_wrt_weights = [(eta/np.power(vw+eps,0.5))*mw for vw,mw in zip(v_w_hat,m_w_hat)]\n",
        "\n",
        "        self.prev_update_biases = m_b\n",
        "        self.prev_update_weights = m_w\n",
        "        \n",
        "\n",
        "    #updation of the parameters\n",
        "    self.weights = [w - grad_w for w,grad_w in zip(self.weights,update_wrt_weights)]\n",
        "    self.biases = [b - grad_b for b,grad_b in zip(self.biases,update_wrt_biases)]\n",
        "\n",
        "\n",
        "    \n",
        "\n",
        "\n",
        "  def forward_propagation(self,X):\n",
        "    #input vector to the network\n",
        "    A_h = X.T\n",
        "    #array to store pre-activation vectors of the hidden layers and output layer\n",
        "    A = []\n",
        "    #array to store post activation vectors of the input layer,hidden layers and ouput layer\n",
        "    H = [X.T]\n",
        "    for w,b in zip(self.weights[:-1],self.biases[:-1]):\n",
        "      A_h = np.matmul(w,A_h)+ b\n",
        "      A.append(A_h)\n",
        "      H_i = self.perform_activation(A_h)\n",
        "      H.append(H_i)\n",
        "\n",
        "    #calculating the pre-activation and post-activation vector in the output layer\n",
        "    w,b = self.weights[-1],self.biases[-1]\n",
        "    A_o = np.matmul(w,A[-1]) + b\n",
        "    A.append(A_o)\n",
        "    H_o = self.perform_output_function(A_o)\n",
        "    H.append(H_o)\n",
        "    return A,H,H[-1]\n",
        "\n",
        "\n",
        "  def get_delta_hidden_layer(self,grad_wrt_weight,delta,A):\n",
        "        if self.activation == \"sigmoid\":\n",
        "            return np.matmul(grad_wrt_weight.T,delta)*(sigmoid_derivative(A))\n",
        "        elif self.activation == \"tanh\":\n",
        "            return np.matmul(grad_wrt_weight.T,delta)*(tanh_derivative(A))\n",
        "        elif self.activation == \"relu\":\n",
        "            return np.matmul(grad_wrt_weight.T,delta)*(relu_derivative(A))\n",
        "\n",
        "  def get_delta_last_layer(self,A,H,Y):\n",
        "\n",
        "    if self.loss == \"cross_entropy_loss\":\n",
        "      delta = H - Y.T\n",
        "      return delta\n",
        "    elif self.loss == \"squared-error\":\n",
        "      delta = (H - Y.T)*H*(1-H)\n",
        "      return delta\n",
        "\n",
        "  def backward_propagation(self,X,Y,A,H):\n",
        "    grad_wrt_weights = [np.zeros(w.shape) for w in self.weights]\n",
        "    grad_wrt_biases = [np.zeros(b.shape) for b in self.biases]\n",
        "    N = X.shape[0]\n",
        "    delta = self.get_delta_last_layer(A[-1],H[-1],Y)\n",
        "    grad_wrt_biases[-1] = (1/N)*np.sum(delta,axis = 1,keepdims = True)\n",
        "    grad_wrt_weights[-1] = (1/N)*np.matmul(delta,H[-2].T)\n",
        "    for l in range(2,self.num_of_layers):\n",
        "      delta = self.get_delta_hidden_layer(grad_wrt_weights[-l+1],delta,A[-l])\n",
        "      grad_wrt_biases[-l] = (1/N)*np.sum(delta,axis = 1,keepdims = True)\n",
        "      grad_wrt_weights[-l] = (1/N)*np.matmul(delta,H[-l-1].T)\n",
        "      \n",
        "    return grad_wrt_weights,grad_wrt_biases\n",
        "\n",
        "  def fit(self,x_train,y_train,x_val,y_val,epochs = 5, eta = 0.001,gamma = 0.5,batch_size = 64,beta1 = 0.9):\n",
        "      \n",
        "    N = x_train.shape[0]\n",
        "    prev_accuracy = 0\n",
        "    max_accuracy = 0\n",
        "    for epoch in range(1,epochs+1):\n",
        "        batch_error = 0\n",
        "        combined_training_data = list(zip(x_train,y_train))\n",
        "        np.random.shuffle(combined_training_data)\n",
        "        x_train[:],y_train[:] = zip(*combined_training_data)\n",
        "        x_train,y_train = np.array(x_train),np.array(y_train)\n",
        "\n",
        "        mini_x_batches = [x_train[i:i+batch_size] for i in range(0,N,batch_size)]\n",
        "        mini_y_batches = [y_train[i:i+batch_size] for i in range(0,N,batch_size)] \n",
        "\n",
        "        for X,Y in zip(mini_x_batches,mini_y_batches):\n",
        "            #only for nestorov accelerated gradient descent\n",
        "            self.num_of_steps += 1\n",
        "            if self.optimizer == \"nesterov\":\n",
        "                self.biases = [b - gamma*ub for b,ub in zip(self.biases,self.prev_update_biases)]\n",
        "                self.weights = [w - gamma*uw  for w,uw in zip(self.weights,self.prev_update_weights)]\n",
        "\n",
        "            if self.optimizer == \"nadam\":\n",
        "                self.biases = [b - beta1*ub*(1-np.power(beta1,self.num_of_steps)) for b,ub in zip(self.biases,self.prev_update_biases)]\n",
        "                self.weights = [w - beta1*uw*(1-np.power(beta1,self.num_of_steps)) for w,uw in zip(self.weights,self.prev_update_weights)]\n",
        "\n",
        "            #forward propagation\n",
        "            A,H,Y_predicted = self.forward_propagation(X)\n",
        "            #backward propagation\n",
        "            grad_wrt_weights,grad_wrt_biases = self.backward_propagation(X,Y,A,H)\n",
        "            #gradient descent variant\n",
        "            self.update_parameter(grad_wrt_weights,grad_wrt_biases,eta,gamma)\n",
        "            batch_error += self.calculate_loss(Y.T,Y_predicted)\n",
        "\n",
        "        loss = batch_error/N\n",
        "        accuracy_val = self.test(x_val,y_val)\n",
        "\n",
        "        if(max_accuracy - accuracy_val) > 4.0:\n",
        "            break\n",
        "\n",
        "        max_accuracy = max(max_accuracy,accuracy_val)\n",
        "        \n",
        "        #for annealing the learning rate just a heuristic\n",
        "        if (prev_accuracy - accuracy_val) > 0.5:\n",
        "            eta = eta/2\n",
        "        prev_accuracy = accuracy_val\n",
        "\n",
        "\n",
        "        print(\"In epoch {} the loss for train set is {}\".format(epoch,loss))\n",
        "        print(\"In epoch {} the accuracy for validation set is {} %\".format(epoch,accuracy_val))\n",
        "        wandb.log({\"epoch\": epoch,\"accuracy\" : accuracy_val,\"training loss\":loss })\n",
        "        print(\"---------------------------------------------------------\\n\")\n",
        "        \n",
        "\n",
        "  def compile(self,optimizer = \"sgd\",loss = \"squared-error\",activation = \"sigmoid\",output_function = \"softmax\",metrics = \"accuracy\"):\n",
        "\n",
        "    self.activation = activation\n",
        "    self.output_function = output_function\n",
        "    self.optimizer = optimizer\n",
        "    self.loss = loss\n",
        "    self.metrics = metrics\n",
        "\n",
        "\n",
        "  def test(self,X,Y):\n",
        "    if self.metrics == \"accuracy\":\n",
        "        A,H,Y_predicted = self.forward_propagation(X)\n",
        "        Y_list = np.argmax(Y.T,axis = 0).reshape(Y.T.shape[1], 1)\n",
        "        Y_list_predicted = np.argmax(Y_predicted,axis = 0).reshape(Y.T.shape[1], 1)\n",
        "        accuracy_matrix = Y_list_predicted == Y_list\n",
        "        accuracy_list = list(accuracy_matrix)\n",
        "        correct = accuracy_list.count([True])\n",
        "        return round(((correct*100)/len(accuracy_list)),2)\n",
        "\n"
      ],
      "execution_count": 14,
      "outputs": []
    },
    {
      "cell_type": "code",
      "metadata": {
        "id": "epypxxybGm_2"
      },
      "source": [
        "x_train_transformed,y_train_transformed = prep_data(x_train,y_train)"
      ],
      "execution_count": 15,
      "outputs": []
    },
    {
      "cell_type": "code",
      "metadata": {
        "id": "t8jy2JtsaxXY"
      },
      "source": [
        "x_val_transformed,y_val_transformed = prep_data(x_validation,y_validation)"
      ],
      "execution_count": 16,
      "outputs": []
    },
    {
      "cell_type": "code",
      "metadata": {
        "id": "NXr0dl1eN67E"
      },
      "source": [
        "x_test_transformed,y_test_transformed = prep_data(x_test,y_test)"
      ],
      "execution_count": 17,
      "outputs": []
    },
    {
      "cell_type": "code",
      "metadata": {
        "id": "5jlkx5ansvZg"
      },
      "source": [
        "defaults = dict(\n",
        "    num_of_hidden_layers = 3,\n",
        "    size_of_hidden_layer = 64,\n",
        "    optimizer = \"momentum\",\n",
        "    loss = \"squared-error\",\n",
        "    activation = \"tanh\",\n",
        "    output_function = \"softmax\",\n",
        "    metrics = \"accuracy\",\n",
        "    learning_rate = 0.001,\n",
        "    gamma = 0.5,\n",
        "    epochs = 20,\n",
        "    batch_size = 64,\n",
        "    weight_initializer = \"Xavier\"\n",
        ")"
      ],
      "execution_count": 286,
      "outputs": []
    },
    {
      "cell_type": "code",
      "metadata": {
        "colab": {
          "base_uri": "https://localhost:8080/",
          "height": 694,
          "referenced_widgets": [
            "c55b19ed463c4555936e6597c4049716",
            "9a53f5b1dce54c969e64a07abaa345c1",
            "4f883387f1d44fa8847596443f03ba15",
            "5fdcb106da9e41dc8d18e4e502cad246",
            "1b4042911cbf48ea9d2ffe1e99395856",
            "47db931a4de54c668289b44e30bc345d",
            "0cb747e08c624009838c15bfd46622f8",
            "56ed3e5bbf61439285d71d5ca81a8b80"
          ]
        },
        "id": "psQ7fBcyn8Bm",
        "outputId": "0cb329cf-7e73-4d51-a1bf-789424a46773"
      },
      "source": [
        "wandb.init(project=\"CS6910-assignment1\",config = defaults)\n",
        "config = wandb.config"
      ],
      "execution_count": 288,
      "outputs": [
        {
          "output_type": "display_data",
          "data": {
            "text/html": [
              "Finishing last run (ID:2s6affhr) before initializing another..."
            ],
            "text/plain": [
              "<IPython.core.display.HTML object>"
            ]
          },
          "metadata": {
            "tags": []
          }
        },
        {
          "output_type": "display_data",
          "data": {
            "text/html": [
              "<br/>Waiting for W&B process to finish, PID 3518<br/>Program ended successfully."
            ],
            "text/plain": [
              "<IPython.core.display.HTML object>"
            ]
          },
          "metadata": {
            "tags": []
          }
        },
        {
          "output_type": "display_data",
          "data": {
            "application/vnd.jupyter.widget-view+json": {
              "model_id": "c55b19ed463c4555936e6597c4049716",
              "version_minor": 0,
              "version_major": 2
            },
            "text/plain": [
              "VBox(children=(Label(value=' 0.00MB of 0.00MB uploaded (0.00MB deduped)\\r'), FloatProgress(value=1.0, max=1.0)…"
            ]
          },
          "metadata": {
            "tags": []
          }
        },
        {
          "output_type": "display_data",
          "data": {
            "text/html": [
              "Find user logs for this run at: <code>/content/wandb/run-20210313_074329-2s6affhr/logs/debug.log</code>"
            ],
            "text/plain": [
              "<IPython.core.display.HTML object>"
            ]
          },
          "metadata": {
            "tags": []
          }
        },
        {
          "output_type": "display_data",
          "data": {
            "text/html": [
              "Find internal logs for this run at: <code>/content/wandb/run-20210313_074329-2s6affhr/logs/debug-internal.log</code>"
            ],
            "text/plain": [
              "<IPython.core.display.HTML object>"
            ]
          },
          "metadata": {
            "tags": []
          }
        },
        {
          "output_type": "display_data",
          "data": {
            "text/html": [
              "<h3>Run summary:</h3><br/><style>\n",
              "    table.wandb td:nth-child(1) { padding: 0 10px; text-align: right }\n",
              "    </style><table class=\"wandb\">\n",
              "<tr><td>epoch</td><td>11</td></tr><tr><td>accuracy</td><td>70.8</td></tr><tr><td>training loss</td><td>0.00049</td></tr><tr><td>_runtime</td><td>252</td></tr><tr><td>_timestamp</td><td>1615621664</td></tr><tr><td>_step</td><td>10</td></tr></table>"
            ],
            "text/plain": [
              "<IPython.core.display.HTML object>"
            ]
          },
          "metadata": {
            "tags": []
          }
        },
        {
          "output_type": "display_data",
          "data": {
            "text/html": [
              "<h3>Run history:</h3><br/><style>\n",
              "    table.wandb td:nth-child(1) { padding: 0 10px; text-align: right }\n",
              "    </style><table class=\"wandb\">\n",
              "<tr><td>epoch</td><td>▁▂▂▃▄▅▅▆▇▇█</td></tr><tr><td>accuracy</td><td>▁▅▇█████▇▇▇</td></tr><tr><td>training loss</td><td>█▃▂▂▁▁▁▁▁▁▁</td></tr><tr><td>_runtime</td><td>▁▂▂▃▄▅▅▆▇▇█</td></tr><tr><td>_timestamp</td><td>▁▂▂▃▄▅▅▆▇▇█</td></tr><tr><td>_step</td><td>▁▂▂▃▄▅▅▆▇▇█</td></tr></table><br/>"
            ],
            "text/plain": [
              "<IPython.core.display.HTML object>"
            ]
          },
          "metadata": {
            "tags": []
          }
        },
        {
          "output_type": "display_data",
          "data": {
            "text/html": [
              "Synced 5 W&B file(s), 0 media file(s), 0 artifact file(s) and 0 other file(s)"
            ],
            "text/plain": [
              "<IPython.core.display.HTML object>"
            ]
          },
          "metadata": {
            "tags": []
          }
        },
        {
          "output_type": "display_data",
          "data": {
            "text/html": [
              "\n",
              "                    <br/>Synced <strong style=\"color:#cdcd00\">eager-serenity-59</strong>: <a href=\"https://wandb.ai/theindianwriter/CS6910-assignment1/runs/2s6affhr\" target=\"_blank\">https://wandb.ai/theindianwriter/CS6910-assignment1/runs/2s6affhr</a><br/>\n",
              "                "
            ],
            "text/plain": [
              "<IPython.core.display.HTML object>"
            ]
          },
          "metadata": {
            "tags": []
          }
        },
        {
          "output_type": "display_data",
          "data": {
            "text/html": [
              "...Successfully finished last run (ID:2s6affhr). Initializing new run:<br/><br/>"
            ],
            "text/plain": [
              "<IPython.core.display.HTML object>"
            ]
          },
          "metadata": {
            "tags": []
          }
        },
        {
          "output_type": "display_data",
          "data": {
            "text/html": [
              "\n",
              "                Tracking run with wandb version 0.10.22<br/>\n",
              "                Syncing run <strong style=\"color:#cdcd00\">glamorous-silence-60</strong> to <a href=\"https://wandb.ai\" target=\"_blank\">Weights & Biases</a> <a href=\"https://docs.wandb.com/integrations/jupyter.html\" target=\"_blank\">(Documentation)</a>.<br/>\n",
              "                Project page: <a href=\"https://wandb.ai/theindianwriter/CS6910-assignment1\" target=\"_blank\">https://wandb.ai/theindianwriter/CS6910-assignment1</a><br/>\n",
              "                Run page: <a href=\"https://wandb.ai/theindianwriter/CS6910-assignment1/runs/bbk57pt6\" target=\"_blank\">https://wandb.ai/theindianwriter/CS6910-assignment1/runs/bbk57pt6</a><br/>\n",
              "                Run data is saved locally in <code>/content/wandb/run-20210313_074810-bbk57pt6</code><br/><br/>\n",
              "            "
            ],
            "text/plain": [
              "<IPython.core.display.HTML object>"
            ]
          },
          "metadata": {
            "tags": []
          }
        }
      ]
    },
    {
      "cell_type": "code",
      "metadata": {
        "id": "TdsNWrVcJkGT"
      },
      "source": [
        "layers = [784,10]\n",
        "for i in range(config.num_of_hidden_layers):\n",
        "    layers.insert(1,config.size_of_hidden_layer)"
      ],
      "execution_count": 289,
      "outputs": []
    },
    {
      "cell_type": "code",
      "metadata": {
        "id": "-J09hAt6unnF",
        "colab": {
          "base_uri": "https://localhost:8080/"
        },
        "outputId": "41aa9cd1-cfac-4c07-b6a1-e68b5d2d73a9"
      },
      "source": [
        "net = Network(layers,weight_initilizer=config.weight_initializer)\n",
        "net.compile(optimizer = config.optimizer,loss = config.loss,activation = config.activation,output_function = config.output_function,metrics = config.metrics)"
      ],
      "execution_count": 290,
      "outputs": [
        {
          "output_type": "stream",
          "text": [
            "[784, 64, 64, 64, 10]\n"
          ],
          "name": "stdout"
        }
      ]
    },
    {
      "cell_type": "code",
      "metadata": {
        "colab": {
          "base_uri": "https://localhost:8080/"
        },
        "id": "QfctkmGhvMf5",
        "outputId": "478297e7-55fc-4c14-d16b-a3e430f72894"
      },
      "source": [
        "net.fit(x_train_transformed,y_train_transformed,x_val_transformed,y_val_transformed,epochs = config.epochs, eta = config.learning_rate,batch_size = config.batch_size,gamma = config.gamma)"
      ],
      "execution_count": 291,
      "outputs": [
        {
          "output_type": "stream",
          "text": [
            "In epoch 1 the loss for train set is 0.0025054688515834668\n",
            "In epoch 1 the accuracy for validation set is 7.5 %\n",
            "---------------------------------------------------------\n",
            "\n",
            "In epoch 2 the loss for train set is 0.002443507667615493\n",
            "In epoch 2 the accuracy for validation set is 8.5 %\n",
            "---------------------------------------------------------\n",
            "\n",
            "In epoch 3 the loss for train set is 0.0023705509779455764\n",
            "In epoch 3 the accuracy for validation set is 9.38 %\n",
            "---------------------------------------------------------\n",
            "\n",
            "In epoch 4 the loss for train set is 0.002299038805301475\n",
            "In epoch 4 the accuracy for validation set is 10.3 %\n",
            "---------------------------------------------------------\n",
            "\n",
            "In epoch 5 the loss for train set is 0.002233979176013358\n",
            "In epoch 5 the accuracy for validation set is 11.73 %\n",
            "---------------------------------------------------------\n",
            "\n",
            "In epoch 6 the loss for train set is 0.0021770750704946168\n",
            "In epoch 6 the accuracy for validation set is 12.85 %\n",
            "---------------------------------------------------------\n",
            "\n",
            "In epoch 7 the loss for train set is 0.0021133268971685556\n",
            "In epoch 7 the accuracy for validation set is 14.08 %\n",
            "---------------------------------------------------------\n",
            "\n",
            "In epoch 8 the loss for train set is 0.0020435567969403117\n",
            "In epoch 8 the accuracy for validation set is 15.68 %\n",
            "---------------------------------------------------------\n",
            "\n",
            "In epoch 9 the loss for train set is 0.0019718377516972055\n",
            "In epoch 9 the accuracy for validation set is 17.9 %\n",
            "---------------------------------------------------------\n",
            "\n",
            "In epoch 10 the loss for train set is 0.0018924205831892004\n",
            "In epoch 10 the accuracy for validation set is 20.38 %\n",
            "---------------------------------------------------------\n",
            "\n",
            "In epoch 11 the loss for train set is 0.0018192179044249073\n",
            "In epoch 11 the accuracy for validation set is 22.95 %\n",
            "---------------------------------------------------------\n",
            "\n",
            "In epoch 12 the loss for train set is 0.0017567054296841798\n",
            "In epoch 12 the accuracy for validation set is 25.33 %\n",
            "---------------------------------------------------------\n",
            "\n",
            "In epoch 13 the loss for train set is 0.001702058550886269\n",
            "In epoch 13 the accuracy for validation set is 27.38 %\n",
            "---------------------------------------------------------\n",
            "\n",
            "In epoch 14 the loss for train set is 0.0016500172875325997\n",
            "In epoch 14 the accuracy for validation set is 29.53 %\n",
            "---------------------------------------------------------\n",
            "\n",
            "In epoch 15 the loss for train set is 0.0016066804476894748\n",
            "In epoch 15 the accuracy for validation set is 31.33 %\n",
            "---------------------------------------------------------\n",
            "\n",
            "In epoch 16 the loss for train set is 0.0015654702779348635\n",
            "In epoch 16 the accuracy for validation set is 32.77 %\n",
            "---------------------------------------------------------\n",
            "\n",
            "In epoch 17 the loss for train set is 0.001514700241825373\n",
            "In epoch 17 the accuracy for validation set is 34.58 %\n",
            "---------------------------------------------------------\n",
            "\n",
            "In epoch 18 the loss for train set is 0.0014701617311836342\n",
            "In epoch 18 the accuracy for validation set is 36.03 %\n",
            "---------------------------------------------------------\n",
            "\n",
            "In epoch 19 the loss for train set is 0.0014323696277254864\n",
            "In epoch 19 the accuracy for validation set is 37.23 %\n",
            "---------------------------------------------------------\n",
            "\n",
            "In epoch 20 the loss for train set is 0.0014068834973989472\n",
            "In epoch 20 the accuracy for validation set is 38.57 %\n",
            "---------------------------------------------------------\n",
            "\n"
          ],
          "name": "stdout"
        }
      ]
    },
    {
      "cell_type": "code",
      "metadata": {
        "id": "whoETXqyAa4U"
      },
      "source": [
        "sweep_config = {\n",
        "    'method': 'random', #grid, random\n",
        "    'metric': {\n",
        "      'name': 'accuracy',\n",
        "      'goal': 'maximize'   \n",
        "    },\n",
        "    'parameters': {\n",
        "        'epochs': {\n",
        "            'values': [5, 10, 20]\n",
        "        },\n",
        "        'learning_rate': {\n",
        "            'values': [1e-2, 1e-3]\n",
        "        },\n",
        "        'optimizer': {\n",
        "            'values': ['adam', 'nadam', 'sgd', 'rmsprop',\"nesterov\",\"momentum\"]\n",
        "        },\n",
        "        'activation': {\n",
        "            'values': ['tanh', 'sigmoid']\n",
        "        },\n",
        "        'num_of_hidden_layers': {\n",
        "            'values' : [1,2]\n",
        "        },\n",
        "        'size_of_hidden_layer' : {\n",
        "            'values' : [128,200]\n",
        "        },\n",
        "        'output_function':{\n",
        "            'values': [\"softmax\"]\n",
        "        },\n",
        "        'batch_size':{\n",
        "            'values': [16,32,64]\n",
        "        },\n",
        "        'weight_initializer': {\n",
        "            'values': [\"random\",'Xavier']\n",
        "        },\n",
        "        'loss':{\n",
        "            'values' : [\"cross_entropy_loss\"]\n",
        "        },\n",
        "        'gamma':{\n",
        "            'values' : [0.5,0.9,0.6]\n",
        "        },\n",
        "\n",
        "    }\n",
        "}"
      ],
      "execution_count": 25,
      "outputs": []
    },
    {
      "cell_type": "code",
      "metadata": {
        "id": "JqBkOduE_ZNi"
      },
      "source": [
        "def train():\n",
        "    defaults = dict(\n",
        "    num_of_hidden_layers = 1,\n",
        "    size_of_hidden_layer = 32,\n",
        "    optimizer = \"adam\",\n",
        "    loss = \"cross_entropy_loss\",\n",
        "    activation = \"tanh\",\n",
        "    output_function = \"softmax\",\n",
        "    metrics = \"accuracy\",\n",
        "    learning_rate = 0.001,\n",
        "    gamma = 0.9,\n",
        "    epochs = 20,\n",
        "    batch_size = 64,\n",
        "    weight_initializer = \"Xavier\"\n",
        "    )\n",
        "\n",
        "    wandb.init(project=\"CS6910-assignment1\",config = defaults)\n",
        "    config = wandb.config\n",
        "\n",
        "    layers = [784,10]\n",
        "    for i in range(config.num_of_hidden_layers):\n",
        "        layers.insert(1,config.size_of_hidden_layer)\n",
        "\n",
        "    net = Network(layers,weight_initilizer=config.weight_initializer)\n",
        "    net.compile(optimizer = config.optimizer,loss = config.loss,activation = config.activation,output_function = config.output_function,metrics = config.metrics)\n",
        "\n",
        "    net.fit(x_train_transformed,y_train_transformed,x_val_transformed,y_val_transformed,epochs = config.epochs, eta = config.learning_rate,batch_size = config.batch_size,gamma = config.gamma)\n"
      ],
      "execution_count": 19,
      "outputs": []
    },
    {
      "cell_type": "code",
      "metadata": {
        "colab": {
          "base_uri": "https://localhost:8080/"
        },
        "id": "D45PNJflDmbc",
        "outputId": "bc9edc34-2b2f-44d9-a456-6ba347950472"
      },
      "source": [
        "sweep_id = wandb.sweep(sweep_config, entity=\"theindianwriter\", project=\"CS6910-assignment1\")"
      ],
      "execution_count": 26,
      "outputs": [
        {
          "output_type": "stream",
          "text": [
            "Create sweep with ID: 8lsys0ks\n",
            "Sweep URL: https://wandb.ai/theindianwriter/CS6910-assignment1/sweeps/8lsys0ks\n"
          ],
          "name": "stdout"
        }
      ]
    },
    {
      "cell_type": "code",
      "metadata": {
        "colab": {
          "base_uri": "https://localhost:8080/",
          "height": 1000,
          "referenced_widgets": [
            "4ac36bca57914ac68f8c6fddf1e0c828",
            "e5d4863f89bc4a4393b13b5027546e2a",
            "c02be848260d47bbbff3d8d27b44f45f",
            "39db52b05df345ba80dbcde12263d34f",
            "266a29d1ad0a43cfb2e2e5b6472b3153",
            "cc3edd76b8434dd0960f9c957bc41e16",
            "a1e7218cf45045058a78a50cbb6fb72c",
            "3665fe866ca4490abfa3bb44a9d6baaf"
          ]
        },
        "id": "Tk8twURiD1Vu",
        "outputId": "593b8dc2-5572-4d51-dea1-0e1ab1c6ea90"
      },
      "source": [
        "wandb.agent(sweep_id, train)"
      ],
      "execution_count": 29,
      "outputs": [
        {
          "output_type": "stream",
          "text": [
            "\u001b[34m\u001b[1mwandb\u001b[0m: Agent Starting Run: inapqlvw with config:\n",
            "\u001b[34m\u001b[1mwandb\u001b[0m: \tactivation: tanh\n",
            "\u001b[34m\u001b[1mwandb\u001b[0m: \tbatch_size: 64\n",
            "\u001b[34m\u001b[1mwandb\u001b[0m: \tepochs: 20\n",
            "\u001b[34m\u001b[1mwandb\u001b[0m: \tgamma: 0.9\n",
            "\u001b[34m\u001b[1mwandb\u001b[0m: \tlearning_rate: 0.01\n",
            "\u001b[34m\u001b[1mwandb\u001b[0m: \tloss: cross_entropy_loss\n",
            "\u001b[34m\u001b[1mwandb\u001b[0m: \tnum_of_hidden_layers: 1\n",
            "\u001b[34m\u001b[1mwandb\u001b[0m: \toptimizer: rmsprop\n",
            "\u001b[34m\u001b[1mwandb\u001b[0m: \toutput_function: softmax\n",
            "\u001b[34m\u001b[1mwandb\u001b[0m: \tsize_of_hidden_layer: 200\n",
            "\u001b[34m\u001b[1mwandb\u001b[0m: \tweight_initializer: Xavier\n",
            "\u001b[34m\u001b[1mwandb\u001b[0m: \u001b[33mWARNING\u001b[0m Ignored wandb.init() arg project when running a sweep\n"
          ],
          "name": "stderr"
        },
        {
          "output_type": "display_data",
          "data": {
            "text/html": [
              "\n",
              "                Tracking run with wandb version 0.10.22<br/>\n",
              "                Syncing run <strong style=\"color:#cdcd00\">laced-sweep-1</strong> to <a href=\"https://wandb.ai\" target=\"_blank\">Weights & Biases</a> <a href=\"https://docs.wandb.com/integrations/jupyter.html\" target=\"_blank\">(Documentation)</a>.<br/>\n",
              "                Project page: <a href=\"https://wandb.ai/theindianwriter/CS6910-assignment1\" target=\"_blank\">https://wandb.ai/theindianwriter/CS6910-assignment1</a><br/>\n",
              "                Sweep page: <a href=\"https://wandb.ai/theindianwriter/CS6910-assignment1/sweeps/8lsys0ks\" target=\"_blank\">https://wandb.ai/theindianwriter/CS6910-assignment1/sweeps/8lsys0ks</a><br/>\n",
              "Run page: <a href=\"https://wandb.ai/theindianwriter/CS6910-assignment1/runs/inapqlvw\" target=\"_blank\">https://wandb.ai/theindianwriter/CS6910-assignment1/runs/inapqlvw</a><br/>\n",
              "                Run data is saved locally in <code>/content/wandb/run-20210313_103845-inapqlvw</code><br/><br/>\n",
              "            "
            ],
            "text/plain": [
              "<IPython.core.display.HTML object>"
            ]
          },
          "metadata": {
            "tags": []
          }
        },
        {
          "output_type": "stream",
          "text": [
            "[784, 200, 10]\n",
            "In epoch 1 the loss for train set is 1.1492124802949835\n",
            "In epoch 1 the accuracy for validation set is 71.4 %\n",
            "---------------------------------------------------------\n",
            "\n",
            "In epoch 2 the loss for train set is 0.9812269328077748\n",
            "In epoch 2 the accuracy for validation set is 73.48 %\n",
            "---------------------------------------------------------\n",
            "\n",
            "In epoch 3 the loss for train set is 0.9551868746973023\n",
            "In epoch 3 the accuracy for validation set is 72.27 %\n",
            "---------------------------------------------------------\n",
            "\n",
            "In epoch 4 the loss for train set is 0.8394056965645427\n",
            "In epoch 4 the accuracy for validation set is 73.9 %\n",
            "---------------------------------------------------------\n",
            "\n",
            "In epoch 5 the loss for train set is 0.8383396641503048\n",
            "In epoch 5 the accuracy for validation set is 72.33 %\n",
            "---------------------------------------------------------\n",
            "\n",
            "In epoch 6 the loss for train set is 0.7950030001015489\n",
            "In epoch 6 the accuracy for validation set is 74.27 %\n",
            "---------------------------------------------------------\n",
            "\n",
            "In epoch 7 the loss for train set is 0.8164699207176117\n",
            "In epoch 7 the accuracy for validation set is 73.58 %\n",
            "---------------------------------------------------------\n",
            "\n",
            "In epoch 8 the loss for train set is 0.8038523096376856\n",
            "In epoch 8 the accuracy for validation set is 72.82 %\n",
            "---------------------------------------------------------\n",
            "\n",
            "In epoch 9 the loss for train set is 0.7653637130831779\n",
            "In epoch 9 the accuracy for validation set is 73.57 %\n",
            "---------------------------------------------------------\n",
            "\n",
            "In epoch 10 the loss for train set is 0.7593851910227178\n",
            "In epoch 10 the accuracy for validation set is 73.63 %\n",
            "---------------------------------------------------------\n",
            "\n",
            "In epoch 11 the loss for train set is 0.7680902693500268\n",
            "In epoch 11 the accuracy for validation set is 73.23 %\n",
            "---------------------------------------------------------\n",
            "\n",
            "In epoch 12 the loss for train set is 0.7641714230854352\n",
            "In epoch 12 the accuracy for validation set is 72.5 %\n",
            "---------------------------------------------------------\n",
            "\n",
            "In epoch 13 the loss for train set is 0.7630303781422083\n",
            "In epoch 13 the accuracy for validation set is 72.78 %\n",
            "---------------------------------------------------------\n",
            "\n",
            "In epoch 14 the loss for train set is 0.7525272072629373\n",
            "In epoch 14 the accuracy for validation set is 72.97 %\n",
            "---------------------------------------------------------\n",
            "\n",
            "In epoch 15 the loss for train set is 0.7448152583663057\n",
            "In epoch 15 the accuracy for validation set is 73.22 %\n",
            "---------------------------------------------------------\n",
            "\n",
            "In epoch 16 the loss for train set is 0.7404006392057934\n",
            "In epoch 16 the accuracy for validation set is 72.6 %\n",
            "---------------------------------------------------------\n",
            "\n",
            "In epoch 17 the loss for train set is 0.7256009600194488\n",
            "In epoch 17 the accuracy for validation set is 72.73 %\n",
            "---------------------------------------------------------\n",
            "\n",
            "In epoch 18 the loss for train set is 0.7253020375115876\n",
            "In epoch 18 the accuracy for validation set is 72.38 %\n",
            "---------------------------------------------------------\n",
            "\n",
            "In epoch 19 the loss for train set is 0.7186453807515158\n",
            "In epoch 19 the accuracy for validation set is 72.37 %\n",
            "---------------------------------------------------------\n",
            "\n",
            "In epoch 20 the loss for train set is 0.7191725878445925\n",
            "In epoch 20 the accuracy for validation set is 72.32 %\n",
            "---------------------------------------------------------\n",
            "\n"
          ],
          "name": "stdout"
        },
        {
          "output_type": "display_data",
          "data": {
            "text/html": [
              "<br/>Waiting for W&B process to finish, PID 6158<br/>Program ended successfully."
            ],
            "text/plain": [
              "<IPython.core.display.HTML object>"
            ]
          },
          "metadata": {
            "tags": []
          }
        },
        {
          "output_type": "display_data",
          "data": {
            "application/vnd.jupyter.widget-view+json": {
              "model_id": "4ac36bca57914ac68f8c6fddf1e0c828",
              "version_minor": 0,
              "version_major": 2
            },
            "text/plain": [
              "VBox(children=(Label(value=' 0.00MB of 0.00MB uploaded (0.00MB deduped)\\r'), FloatProgress(value=1.0, max=1.0)…"
            ]
          },
          "metadata": {
            "tags": []
          }
        },
        {
          "output_type": "display_data",
          "data": {
            "text/html": [
              "Find user logs for this run at: <code>/content/wandb/run-20210313_103845-inapqlvw/logs/debug.log</code>"
            ],
            "text/plain": [
              "<IPython.core.display.HTML object>"
            ]
          },
          "metadata": {
            "tags": []
          }
        },
        {
          "output_type": "display_data",
          "data": {
            "text/html": [
              "Find internal logs for this run at: <code>/content/wandb/run-20210313_103845-inapqlvw/logs/debug-internal.log</code>"
            ],
            "text/plain": [
              "<IPython.core.display.HTML object>"
            ]
          },
          "metadata": {
            "tags": []
          }
        },
        {
          "output_type": "display_data",
          "data": {
            "text/html": [
              "<h3>Run summary:</h3><br/><style>\n",
              "    table.wandb td:nth-child(1) { padding: 0 10px; text-align: right }\n",
              "    </style><table class=\"wandb\">\n",
              "<tr><td>epoch</td><td>20</td></tr><tr><td>accuracy</td><td>72.32</td></tr><tr><td>training loss</td><td>0.71917</td></tr><tr><td>_runtime</td><td>628</td></tr><tr><td>_timestamp</td><td>1615632553</td></tr><tr><td>_step</td><td>19</td></tr></table>"
            ],
            "text/plain": [
              "<IPython.core.display.HTML object>"
            ]
          },
          "metadata": {
            "tags": []
          }
        },
        {
          "output_type": "display_data",
          "data": {
            "text/html": [
              "<h3>Run history:</h3><br/><style>\n",
              "    table.wandb td:nth-child(1) { padding: 0 10px; text-align: right }\n",
              "    </style><table class=\"wandb\">\n",
              "<tr><td>epoch</td><td>▁▁▂▂▂▃▃▄▄▄▅▅▅▆▆▇▇▇██</td></tr><tr><td>accuracy</td><td>▁▆▃▇▃█▆▄▆▆▅▄▄▅▅▄▄▃▃▃</td></tr><tr><td>training loss</td><td>█▅▅▃▃▂▃▂▂▂▂▂▂▂▁▁▁▁▁▁</td></tr><tr><td>_runtime</td><td>▁▁▂▂▂▃▃▄▄▄▅▅▅▆▆▇▇▇██</td></tr><tr><td>_timestamp</td><td>▁▁▂▂▂▃▃▄▄▄▅▅▅▆▆▇▇▇██</td></tr><tr><td>_step</td><td>▁▁▂▂▂▃▃▄▄▄▅▅▅▆▆▇▇▇██</td></tr></table><br/>"
            ],
            "text/plain": [
              "<IPython.core.display.HTML object>"
            ]
          },
          "metadata": {
            "tags": []
          }
        },
        {
          "output_type": "display_data",
          "data": {
            "text/html": [
              "Synced 5 W&B file(s), 0 media file(s), 0 artifact file(s) and 0 other file(s)"
            ],
            "text/plain": [
              "<IPython.core.display.HTML object>"
            ]
          },
          "metadata": {
            "tags": []
          }
        },
        {
          "output_type": "display_data",
          "data": {
            "text/html": [
              "\n",
              "                    <br/>Synced <strong style=\"color:#cdcd00\">laced-sweep-1</strong>: <a href=\"https://wandb.ai/theindianwriter/CS6910-assignment1/runs/inapqlvw\" target=\"_blank\">https://wandb.ai/theindianwriter/CS6910-assignment1/runs/inapqlvw</a><br/>\n",
              "                "
            ],
            "text/plain": [
              "<IPython.core.display.HTML object>"
            ]
          },
          "metadata": {
            "tags": []
          }
        },
        {
          "output_type": "stream",
          "text": [
            "Exception in thread Thread-83:\n",
            "Traceback (most recent call last):\n",
            "  File \"/usr/local/lib/python3.7/dist-packages/wandb/sdk/internal/internal_api.py\", line 1313, in agent_heartbeat\n",
            "    timeout=60,\n",
            "  File \"/usr/local/lib/python3.7/dist-packages/wandb/old/retry.py\", line 96, in __call__\n",
            "    result = self._call_fn(*args, **kwargs)\n",
            "  File \"/usr/local/lib/python3.7/dist-packages/wandb/sdk/internal/internal_api.py\", line 123, in execute\n",
            "    return self.client.execute(*args, **kwargs)\n",
            "  File \"/usr/local/lib/python3.7/dist-packages/wandb/vendor/gql-0.2.0/gql/client.py\", line 52, in execute\n",
            "    result = self._get_result(document, *args, **kwargs)\n",
            "  File \"/usr/local/lib/python3.7/dist-packages/wandb/vendor/gql-0.2.0/gql/client.py\", line 60, in _get_result\n",
            "    return self.transport.execute(document, *args, **kwargs)\n",
            "  File \"/usr/local/lib/python3.7/dist-packages/wandb/vendor/gql-0.2.0/gql/transport/requests.py\", line 38, in execute\n",
            "    request = requests.post(self.url, **post_args)\n",
            "  File \"/usr/local/lib/python3.7/dist-packages/requests/api.py\", line 119, in post\n",
            "    return request('post', url, data=data, json=json, **kwargs)\n",
            "  File \"/usr/local/lib/python3.7/dist-packages/requests/api.py\", line 61, in request\n",
            "    return session.request(method=method, url=url, **kwargs)\n",
            "  File \"/usr/local/lib/python3.7/dist-packages/requests/sessions.py\", line 521, in request\n",
            "    prep.url, proxies, stream, verify, cert\n",
            "  File \"/usr/local/lib/python3.7/dist-packages/requests/sessions.py\", line 697, in merge_environment_settings\n",
            "    env_proxies = get_environ_proxies(url, no_proxy=no_proxy)\n",
            "  File \"/usr/local/lib/python3.7/dist-packages/requests/utils.py\", line 769, in get_environ_proxies\n",
            "    return getproxies()\n",
            "  File \"/usr/lib/python3.7/urllib/request.py\", line 2511, in getproxies_environment\n",
            "    for name, value in os.environ.items():\n",
            "  File \"/usr/lib/python3.7/_collections_abc.py\", line 744, in __iter__\n",
            "    yield (key, self._mapping[key])\n",
            "  File \"/usr/lib/python3.7/os.py\", line 681, in __getitem__\n",
            "    raise KeyError(key) from None\n",
            "KeyError: 'WANDB_SWEEP_ID'\n",
            "\n",
            "During handling of the above exception, another exception occurred:\n",
            "\n",
            "Traceback (most recent call last):\n",
            "  File \"/usr/lib/python3.7/threading.py\", line 926, in _bootstrap_inner\n",
            "    self.run()\n",
            "  File \"/usr/lib/python3.7/threading.py\", line 870, in run\n",
            "    self._target(*self._args, **self._kwargs)\n",
            "  File \"/usr/local/lib/python3.7/dist-packages/wandb/agents/pyagent.py\", line 170, in _heartbeat\n",
            "    commands = self._api.agent_heartbeat(self._agent_id, {}, run_status)\n",
            "  File \"/usr/local/lib/python3.7/dist-packages/wandb/apis/internal.py\", line 95, in agent_heartbeat\n",
            "    return self.api.agent_heartbeat(*args, **kwargs)\n",
            "  File \"/usr/local/lib/python3.7/dist-packages/wandb/sdk/internal/internal_api.py\", line 1317, in agent_heartbeat\n",
            "    message = ast.literal_eval(e.args[0])[\"message\"]\n",
            "  File \"/usr/lib/python3.7/ast.py\", line 91, in literal_eval\n",
            "    return _convert(node_or_string)\n",
            "  File \"/usr/lib/python3.7/ast.py\", line 90, in _convert\n",
            "    return _convert_signed_num(node)\n",
            "  File \"/usr/lib/python3.7/ast.py\", line 63, in _convert_signed_num\n",
            "    return _convert_num(node)\n",
            "  File \"/usr/lib/python3.7/ast.py\", line 55, in _convert_num\n",
            "    raise ValueError('malformed node or string: ' + repr(node))\n",
            "ValueError: malformed node or string: <_ast.Name object at 0x7fb223642a50>\n",
            "\n",
            "\u001b[34m\u001b[1mwandb\u001b[0m: Sweep Agent: Waiting for job.\n",
            "\u001b[34m\u001b[1mwandb\u001b[0m: Ctrl + C detected. Stopping sweep.\n"
          ],
          "name": "stderr"
        }
      ]
    }
  ]
}