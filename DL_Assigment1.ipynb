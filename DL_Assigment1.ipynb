{
  "nbformat": 4,
  "nbformat_minor": 0,
  "metadata": {
    "colab": {
      "name": "DL_Assigment1.ipynb",
      "provenance": [],
      "authorship_tag": "ABX9TyN/YByP8QF1q3z101z9lcI2",
      "include_colab_link": true
    },
    "kernelspec": {
      "name": "python3",
      "display_name": "Python 3"
    }
  },
  "cells": [
    {
      "cell_type": "markdown",
      "metadata": {
        "id": "view-in-github",
        "colab_type": "text"
      },
      "source": [
        "<a href=\"https://colab.research.google.com/github/theindianwriter/cs6910_assignment1/blob/forward_backward_prop/DL_Assigment1.ipynb\" target=\"_parent\"><img src=\"https://colab.research.google.com/assets/colab-badge.svg\" alt=\"Open In Colab\"/></a>"
      ]
    },
    {
      "cell_type": "code",
      "metadata": {
        "id": "r3dP-sp72KOC"
      },
      "source": [
        "import numpy as np\n",
        "import pandas as pd\n",
        "import matplotlib.pyplot as plt\n",
        "from tensorflow import keras"
      ],
      "execution_count": 2,
      "outputs": []
    },
    {
      "cell_type": "code",
      "metadata": {
        "id": "T4hRoteM6Gff"
      },
      "source": [
        "from keras.datasets import fashion_mnist"
      ],
      "execution_count": 3,
      "outputs": []
    },
    {
      "cell_type": "code",
      "metadata": {
        "id": "XsO8ygJ-5X9f"
      },
      "source": [
        "def data_loader():\n",
        "  (x_train,y_train),(x_test,y_test) = fashion_mnist.load_data()\n",
        "  num_of_train_data = x_train.shape[0]\n",
        "  combined_training_data = list(zip(x_train,y_train))\n",
        "  np.random.shuffle(combined_training_data)\n",
        "  (x_train,y_train) = zip(*combined_training_data)\n",
        "  x_train,y_train = np.array(x_train),np.array(y_train)\n",
        "  validation_size = int(0.1*num_of_train_data)\n",
        "  x_validation = x_train[:validation_size]\n",
        "  y_validation = y_train[:validation_size]\n",
        "  x_train = x_train[validation_size:]\n",
        "  y_train = y_train[validation_size:]\n",
        "  return x_train,y_train,x_validation,y_validation,x_test,y_test\n"
      ],
      "execution_count": 19,
      "outputs": []
    },
    {
      "cell_type": "code",
      "metadata": {
        "colab": {
          "base_uri": "https://localhost:8080/"
        },
        "id": "2s1_mbH28M6h",
        "outputId": "ae01ce08-3e61-4a5a-b14e-bdffd7c987ca"
      },
      "source": [
        "x_train,y_train,x_validation,y_validation,x_test,y_test = data_loader()\n",
        "print(\"information regarding the training,validation and test dataset\")\n",
        "print(\"the size of training dataset is {},validation set is {},test set is {}\".format(x_train.shape[0],x_validation.shape[0],x_test.shape[0]))"
      ],
      "execution_count": 20,
      "outputs": [
        {
          "output_type": "stream",
          "text": [
            "information regarding the training,validation and test dataset\n",
            "the size of training dataset is 54000,validation set is 6000,test set is 10000\n"
          ],
          "name": "stdout"
        }
      ]
    },
    {
      "cell_type": "code",
      "metadata": {
        "id": "sA25XnEtFYjV"
      },
      "source": [
        "def vectorize(y):\n",
        "  y_vectorize = np.zeros((10,1))\n",
        "  y_vectorize [y] = 1\n",
        "  return y_vectorize"
      ],
      "execution_count": 23,
      "outputs": []
    },
    {
      "cell_type": "code",
      "metadata": {
        "id": "XTyzvGeOBCBw"
      },
      "source": [
        "def prep_data(X,Y):\n",
        "  X_norm = X.astype('float32')/255.0\n",
        "  X_norm_vector = np.array([np.reshape(x,(784,1)) for x in X_norm])\n",
        "  Y_vectorize = np.array([vectorize(y) for y in Y])\n",
        "  return X_norm_vector,Y_vectorize"
      ],
      "execution_count": 25,
      "outputs": []
    },
    {
      "cell_type": "code",
      "metadata": {
        "id": "pQGgiWTjDh6s"
      },
      "source": [
        "class_label = ['T-shirt/top', \n",
        "           'Trousers', \n",
        "           'Pullover', \n",
        "           'Dress', 'Coat', \n",
        "           'Sandal', \n",
        "           'Shirt', \n",
        "           'Sneaker', \n",
        "           'Bag', \n",
        "           'Ankle boot']"
      ],
      "execution_count": 15,
      "outputs": []
    },
    {
      "cell_type": "code",
      "metadata": {
        "id": "8gG3CFQOFROJ"
      },
      "source": [
        "#Q1 plots one image of each class \n",
        "\n",
        "def plot_each_label(X,Y):\n",
        "  rows = 2\n",
        "  cols = 5\n",
        "  fig = plt.figure()\n",
        "  ax = []\n",
        "  j = 0\n",
        "  for i in range(1,rows*cols + 1):\n",
        "    ax.append(fig.add_subplot(rows,cols,i))\n",
        "    pos = np.where(Y == j)\n",
        "    plt.imshow(X[pos[0][0]])\n",
        "    plt.xticks([])\n",
        "    plt.yticks([])\n",
        "    ax[-1].set_title(class_label[j])\n",
        "    j += 1\n",
        "  plt.show()\n"
      ],
      "execution_count": 22,
      "outputs": []
    },
    {
      "cell_type": "code",
      "metadata": {
        "colab": {
          "base_uri": "https://localhost:8080/",
          "height": 227
        },
        "id": "KF-0eNsd_0oZ",
        "outputId": "fd22f891-0684-4afa-8d25-e9de3674b749"
      },
      "source": [
        "#Q1 calls and plots image of each class\n",
        "plot_each_label(x_train,y_train)"
      ],
      "execution_count": 21,
      "outputs": [
        {
          "output_type": "display_data",
          "data": {
            "image/png": "[encoded data removed]",
            "text/plain": [
              "<Figure size 432x288 with 10 Axes>"
            ]
          },
          "metadata": {
            "tags": []
          }
        }
      ]
    },
    {
      "cell_type": "code",
      "metadata": {
        "id": "Ehw2440wrtQ2"
      },
      "source": [
        "def sigmoid(x):\n",
        "    return 1.0/(1.0 + np.exp(-x))\n",
        "\n",
        "def softmax(x):\n",
        "    e_x = np.exp(x - np.max(x))\n",
        "    return e_x / e_x.sum()\n",
        "\n",
        "\n",
        "def sigmoid_derivative(x):\n",
        "  return sigmoid(x)*(1-sigmoid(x))\n",
        "\n",
        "  "
      ],
      "execution_count": 27,
      "outputs": []
    },
    {
      "cell_type": "code",
      "metadata": {
        "id": "yPs0JWttc6ly"
      },
      "source": [
        "class Network:\n",
        "  #initialization of the network\n",
        "  def __init__(self,layers,weight_initilizer = \"random\"):\n",
        "    \n",
        "    self.num_of_layers = len(layers)\n",
        "\n",
        "    if weight_initilizer == 'random':\n",
        "      self.random(layers)\n",
        "    elif weight_initilizer == 'Xavier':\n",
        "      self.Xavier(layers)\n",
        "    else:\n",
        "      print(\"ERROR\")\n",
        "\n",
        "  def random(self,layers):\n",
        "    self.biases = [np.random.randn(x,1) for x in layers[1:]]\n",
        "    self.weights = [np.random.randn(x,y)/np.sqrt(y) for x,y in zip(layers[1:],layers[:-1])]\n",
        "\n",
        "  def Xavier(self,layers):\n",
        "    self.biases = []\n",
        "    self.weights = []\n",
        "    print(\"IMPLEMENTATION OF XAVIER\")\n",
        "\n",
        "\n",
        "  def calculate_loss(self,X,Y):\n",
        "    if self.loss == \"cross_entropy_loss\":\n",
        "      N = X.shape[0]\n",
        "      error = 0.0\n",
        "      for x,y in zip(X,Y):\n",
        "        a,h = self.forward_propagation(x)\n",
        "        y_estimated = h[-1]\n",
        "        y_class = np.argmax(y)\n",
        "        y_estimated[y_class] =  0.0000000001 if int(y_estimated[y_class]) == 0 else y_estimated[y_class]\n",
        "        error += -np.log(y_estimated[y_class])\n",
        "    return error/N\n",
        "\n",
        "\n",
        "  def show_network(self):\n",
        "    print(self.biases)\n",
        "    print(self.weights)\n",
        "\n",
        "  def perform_activation(self,a):\n",
        " \n",
        "    if self.activation == 'sigmoid':\n",
        "      h = sigmoid(a)\n",
        "    else:\n",
        "      print(\"ERROR\")\n",
        "\n",
        "    return h\n",
        "\n",
        "  def perform_output_function(self,a):\n",
        "\n",
        "    if self.output_function == \"softmax\":\n",
        "      h = softmax(a)\n",
        "    else:\n",
        "      print(\"ERROR\")\n",
        "\n",
        "    return h\n",
        "\n",
        "\n",
        "  def update_parameter(self,grad_wrt_weights,grad_wrt_biases,eta):\n",
        "    if self.optimizer == \"sgd\":\n",
        "      self.weights = [w - eta*gw for w,gw in zip(self.weights,grad_wrt_weights)]\n",
        "      self.biases = [b - eta*gb for b,gb in zip(self.biases,grad_wrt_biases)]\n",
        "\n",
        "  def forward_propagation(self,x):\n",
        "    #input vector to the network\n",
        "    a_i = x\n",
        "    #array to store pre-activation vectors of the hidden layers and output layer\n",
        "    a = []\n",
        "    #array to store post activation vectors of the input layer,hidden layers and ouput layer\n",
        "    h = [x]\n",
        "    #calulating the pre-activation and post-activation vectors in the hidden layers\n",
        "    for w,b in zip(self.weights[:-1],self.biases[:-1]):\n",
        "      a_i = np.dot(w,a_i) + b\n",
        "      a.append(a_i)\n",
        "      h_i = self.perform_activation(a_i)\n",
        "      h.append(h_i)\n",
        "\n",
        "    #calculating the pre-activation and post-activation vector in the output layer\n",
        "    w,b = self.weights[-1],self.biases[-1]\n",
        "    a_o = np.dot(w,a[-1]) + b\n",
        "    a.append(a_o)\n",
        "    h_o = self.perform_output_function(a_o)\n",
        "    h.append(h_o)\n",
        "    return a,h\n",
        "\n",
        "\n",
        "  def get_delta_last_layer(self,a,h,y):\n",
        "\n",
        "    if self.output_function == \"softmax\":\n",
        "      delta = h - y\n",
        "      return delta\n",
        "    else: \n",
        "      print(\"ERROR\")\n",
        "\n",
        "  def backward_propagation(self,x,y,a,h):\n",
        "      \n",
        "    grad_wrt_weights = [np.zeros(w.shape) for w in self.weights]\n",
        "    grad_wrt_biases = [np.zeros(b.shape) for b in self.biases]\n",
        "\n",
        "    delta = self.get_delta_last_layer(a[-1],h[-1],y)\n",
        "    grad_wrt_biases[-1] = delta\n",
        "    grad_wrt_weights[-1] = np.dot(delta,h[-2].T)\n",
        "      \n",
        "    for l in range(2,self.num_of_layers):\n",
        "      delta = np.dot(grad_wrt_weights[-l+1].T,delta)*sigmoid_derivative(a[-l])\n",
        "      grad_wrt_biases[-l] = delta\n",
        "      grad_wrt_weights[-l] = np.dot(delta,h[-l-1].T)\n",
        "    return grad_wrt_weights,grad_wrt_biases\n",
        "\n",
        "  def fit(self,x_train,y_train,epochs = 5, eta = 0.001,batch_size = 64):\n",
        "      \n",
        "    N = x_train.shape[0]\n",
        "    for epoch in range(epochs):\n",
        "\n",
        "      error = self.calculate_loss(x_train,y_train)\n",
        "      print(\"In epoch {} the loss is {}\".format(epoch,error))\n",
        "      combined_training_data = list(zip(x_train,y_train))\n",
        "      np.random.shuffle(combined_training_data)\n",
        "      x_train[:],y_train[:] = zip(*combined_training_data)\n",
        "      x_train,y_train = np.array(x_train),np.array(y_train)\n",
        "\n",
        "      mini_x_batches = [x_train[i:i+batch_size] for i in range(0,N,batch_size)]\n",
        "      mini_y_batches = [y_train[i:i+batch_size] for i in range(0,N,batch_size)] \n",
        "\n",
        "      for mini_x_batch,mini_y_batch in zip(mini_x_batches,mini_y_batches):\n",
        "        grad_wrt_weights = [np.zeros(w.shape) for w in self.weights]\n",
        "        grad_wrt_biases = [np.zeros(b.shape) for b in self.biases]\n",
        "        for x,y in zip(mini_x_batch,mini_y_batch):\n",
        "              #forward propagation\n",
        "          a,h = self.forward_propagation(x)\n",
        "              #backward_propagation\n",
        "          grad_del_wrt_weights,grad_del_wrt_biases = self.backward_propagation(x,y,a,h)\n",
        "\n",
        "          grad_wrt_weights = [gw + dgw for gw,dgw in zip(grad_wrt_weights,grad_del_wrt_weights)]\n",
        "          grad_wrt_biases = [gb + dgb for gb,dgb in zip(grad_wrt_biases,grad_del_wrt_biases)]\n",
        "\n",
        "          #gradient descent variant\n",
        "        self.update_parameter(grad_wrt_weights,grad_wrt_biases,eta/batch_size)\n",
        "      \n",
        "\n",
        "\n",
        "  def compile(self,optimizer = \"sgd\",loss = \"squared-error\",activation = \"sigmoid\",output_function = \"softmax\",metrics = \"accuracy\"):\n",
        "\n",
        "    self.activation = activation\n",
        "    self.output_function = output_function\n",
        "    self.optimizer = optimizer\n",
        "    self.loss = loss\n",
        "    self.metrics = metrics\n",
        "\n",
        "\n",
        "  def test(self,x_test,y_test):\n",
        "    if self.metrics == \"accuracy\":\n",
        "      N = x_test.shape[0]\n",
        "      count = 0\n",
        "      for x,y in zip(x_test,y_test):\n",
        "        a,h = self.forward_propagation(x)\n",
        "        y_estimated = h[-1]\n",
        "        if np.argmax(y_estimated) == np.argmax(y):\n",
        "          count += 1\n",
        "      print(\"the accuracy is \",(count/N)*100)\n",
        "\n",
        "\n"
      ],
      "execution_count": 76,
      "outputs": []
    },
    {
      "cell_type": "code",
      "metadata": {
        "id": "epypxxybGm_2"
      },
      "source": [
        "x_train_transformed,y_train_transformed = prep_data(x_train,y_train)"
      ],
      "execution_count": 28,
      "outputs": []
    },
    {
      "cell_type": "code",
      "metadata": {
        "id": "seukU2hGQEuI"
      },
      "source": [
        "net = Network([784,30,10],weight_initilizer=\"random\")\n",
        "net.compile(optimizer = \"sgd\",loss = \"cross_entropy_loss\",activation = \"sigmoid\",output_function = \"softmax\",metrics = \"accuracy\")\n"
      ],
      "execution_count": 77,
      "outputs": []
    },
    {
      "cell_type": "code",
      "metadata": {
        "id": "wi5BbykNKsy1",
        "colab": {
          "base_uri": "https://localhost:8080/"
        },
        "outputId": "444fe1ed-cba6-4ea4-9a42-63fe0f62bb75"
      },
      "source": [
        "net.fit(x_train_transformed,y_train_transformed,epochs = 30, eta = 3,batch_size = 10)"
      ],
      "execution_count": 80,
      "outputs": [
        {
          "output_type": "stream",
          "text": [
            "In epoch 0 the loss is [23.02585093]\n",
            "In epoch 1 the loss is [23.02116048]\n",
            "In epoch 2 the loss is [23.02201329]\n",
            "In epoch 3 the loss is [23.02073407]\n",
            "In epoch 4 the loss is [23.02585093]\n",
            "In epoch 5 the loss is [23.01945486]\n",
            "In epoch 6 the loss is [23.02585093]\n",
            "In epoch 7 the loss is [23.02585093]\n",
            "In epoch 8 the loss is [23.01689643]\n",
            "In epoch 9 the loss is [23.02585093]\n",
            "In epoch 10 the loss is [23.02585093]\n",
            "In epoch 11 the loss is [23.01647003]\n",
            "In epoch 12 the loss is [23.02585093]\n",
            "In epoch 13 the loss is [23.02585093]\n",
            "In epoch 14 the loss is [23.02585093]\n",
            "In epoch 15 the loss is [23.0139116]\n",
            "In epoch 16 the loss is [23.02585093]\n",
            "In epoch 17 the loss is [23.02585093]\n",
            "In epoch 18 the loss is [23.02585093]\n",
            "In epoch 19 the loss is [23.02585093]\n",
            "In epoch 20 the loss is [23.02585093]\n",
            "In epoch 21 the loss is [23.02585093]\n",
            "In epoch 22 the loss is [23.02585093]\n",
            "In epoch 23 the loss is [23.02585093]\n",
            "In epoch 24 the loss is [23.02585093]\n",
            "In epoch 25 the loss is [23.02585093]\n",
            "In epoch 26 the loss is [23.02585093]\n",
            "In epoch 27 the loss is [23.02585093]\n",
            "In epoch 28 the loss is [23.02585093]\n",
            "In epoch 29 the loss is [23.02585093]\n"
          ],
          "name": "stdout"
        }
      ]
    },
    {
      "cell_type": "code",
      "metadata": {
        "id": "NXr0dl1eN67E"
      },
      "source": [
        "x_test_transformed,y_test_transformed = prep_data(x_test,y_test)"
      ],
      "execution_count": 61,
      "outputs": []
    },
    {
      "cell_type": "code",
      "metadata": {
        "colab": {
          "base_uri": "https://localhost:8080/"
        },
        "id": "F3UTaYupKKer",
        "outputId": "75dc6a32-4f0e-47ab-806e-5b0d39c576df"
      },
      "source": [
        "net.test(x_test_transformed,y_test_transformed)"
      ],
      "execution_count": 79,
      "outputs": [
        {
          "output_type": "stream",
          "text": [
            "the accuracy is  19.950000000000003\n"
          ],
          "name": "stdout"
        }
      ]
    }
  ]
}