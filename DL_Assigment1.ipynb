{
  "nbformat": 4,
  "nbformat_minor": 0,
  "metadata": {
    "colab": {
      "name": "Version 2 DL_Assigment1.ipynb",
      "provenance": [],
      "authorship_tag": "ABX9TyMz2zt96hE3UfN/3Apd2slq",
      "include_colab_link": true
    },
    "kernelspec": {
      "name": "python3",
      "display_name": "Python 3"
    }
  },
  "cells": [
    {
      "cell_type": "markdown",
      "metadata": {
        "id": "view-in-github",
        "colab_type": "text"
      },
      "source": [
        "<a href=\"https://colab.research.google.com/github/theindianwriter/cs6910_assignment1/blob/main/DL_Assigment1.ipynb\" target=\"_parent\"><img src=\"https://colab.research.google.com/assets/colab-badge.svg\" alt=\"Open In Colab\"/></a>"
      ]
    },
    {
      "cell_type": "code",
      "metadata": {
        "id": "r3dP-sp72KOC"
      },
      "source": [
        "import numpy as np\n",
        "import pandas as pd\n",
        "import matplotlib.pyplot as plt\n",
        "from tensorflow import keras\n",
        "from scipy.special import expit\n",
        "from sklearn.metrics import log_loss"
      ],
      "execution_count": 8,
      "outputs": []
    },
    {
      "cell_type": "code",
      "metadata": {
        "id": "T4hRoteM6Gff"
      },
      "source": [
        "from keras.datasets import fashion_mnist"
      ],
      "execution_count": 9,
      "outputs": []
    },
    {
      "cell_type": "code",
      "metadata": {
        "id": "_7xQF_HDnXs2",
        "colab": {
          "base_uri": "https://localhost:8080/"
        },
        "outputId": "1e87cf67-a8b3-48b6-806a-df4a37e8bff1"
      },
      "source": [
        "!pip install wandb -qqq\n"
      ],
      "execution_count": 3,
      "outputs": [
        {
          "output_type": "stream",
          "text": [
            "\u001b[K     |████████████████████████████████| 2.0MB 5.4MB/s \n",
            "\u001b[K     |████████████████████████████████| 163kB 43.8MB/s \n",
            "\u001b[K     |████████████████████████████████| 102kB 8.5MB/s \n",
            "\u001b[K     |████████████████████████████████| 133kB 42.1MB/s \n",
            "\u001b[K     |████████████████████████████████| 71kB 5.8MB/s \n",
            "\u001b[?25h  Building wheel for pathtools (setup.py) ... \u001b[?25l\u001b[?25hdone\n",
            "  Building wheel for subprocess32 (setup.py) ... \u001b[?25l\u001b[?25hdone\n"
          ],
          "name": "stdout"
        }
      ]
    },
    {
      "cell_type": "code",
      "metadata": {
        "id": "jJwls9VE0vTB",
        "colab": {
          "base_uri": "https://localhost:8080/",
          "height": 68
        },
        "outputId": "f1674fc1-e9ee-4b9c-a003-eb52521cd4ee"
      },
      "source": [
        "import wandb\n",
        "wandb.login()"
      ],
      "execution_count": 4,
      "outputs": [
        {
          "output_type": "display_data",
          "data": {
            "application/javascript": [
              "\n",
              "        window._wandbApiKey = new Promise((resolve, reject) => {\n",
              "            function loadScript(url) {\n",
              "            return new Promise(function(resolve, reject) {\n",
              "                let newScript = document.createElement(\"script\");\n",
              "                newScript.onerror = reject;\n",
              "                newScript.onload = resolve;\n",
              "                document.body.appendChild(newScript);\n",
              "                newScript.src = url;\n",
              "            });\n",
              "            }\n",
              "            loadScript(\"https://cdn.jsdelivr.net/npm/postmate/build/postmate.min.js\").then(() => {\n",
              "            const iframe = document.createElement('iframe')\n",
              "            iframe.style.cssText = \"width:0;height:0;border:none\"\n",
              "            document.body.appendChild(iframe)\n",
              "            const handshake = new Postmate({\n",
              "                container: iframe,\n",
              "                url: 'https://wandb.ai/authorize'\n",
              "            });\n",
              "            const timeout = setTimeout(() => reject(\"Couldn't auto authenticate\"), 5000)\n",
              "            handshake.then(function(child) {\n",
              "                child.on('authorize', data => {\n",
              "                    clearTimeout(timeout)\n",
              "                    resolve(data)\n",
              "                });\n",
              "            });\n",
              "            })\n",
              "        });\n",
              "    "
            ],
            "text/plain": [
              "<IPython.core.display.Javascript object>"
            ]
          },
          "metadata": {
            "tags": []
          }
        },
        {
          "output_type": "stream",
          "text": [
            "\u001b[34m\u001b[1mwandb\u001b[0m: Appending key for api.wandb.ai to your netrc file: /root/.netrc\n"
          ],
          "name": "stderr"
        },
        {
          "output_type": "execute_result",
          "data": {
            "text/plain": [
              "True"
            ]
          },
          "metadata": {
            "tags": []
          },
          "execution_count": 4
        }
      ]
    },
    {
      "cell_type": "code",
      "metadata": {
        "id": "XsO8ygJ-5X9f"
      },
      "source": [
        "def data_loader():\n",
        "  (x_train,y_train),(x_test,y_test) = fashion_mnist.load_data()\n",
        "  num_of_train_data = x_train.shape[0]\n",
        "  combined_training_data = list(zip(x_train,y_train))\n",
        "  np.random.shuffle(combined_training_data)\n",
        "  (x_train,y_train) = zip(*combined_training_data)\n",
        "  x_train,y_train = np.array(x_train),np.array(y_train)\n",
        "  validation_size = int(0.1*num_of_train_data)\n",
        "  x_validation = x_train[:validation_size]\n",
        "  y_validation = y_train[:validation_size]\n",
        "  x_train = x_train[validation_size:]\n",
        "  y_train = y_train[validation_size:]\n",
        "  return x_train,y_train,x_validation,y_validation,x_test,y_test\n"
      ],
      "execution_count": 10,
      "outputs": []
    },
    {
      "cell_type": "code",
      "metadata": {
        "colab": {
          "base_uri": "https://localhost:8080/"
        },
        "id": "2s1_mbH28M6h",
        "outputId": "4e9f8a05-5c6b-452f-9553-f2fb1d736a8c"
      },
      "source": [
        "x_train,y_train,x_validation,y_validation,x_test,y_test = data_loader()\n",
        "print(\"information regarding the training,validation and test dataset\")\n",
        "print(\"the size of training dataset is {},validation set is {},test set is {}\".format(x_train.shape[0],x_validation.shape[0],x_test.shape[0]))"
      ],
      "execution_count": 11,
      "outputs": [
        {
          "output_type": "stream",
          "text": [
            "Downloading data from https://storage.googleapis.com/tensorflow/tf-keras-datasets/train-labels-idx1-ubyte.gz\n",
            "32768/29515 [=================================] - 0s 0us/step\n",
            "Downloading data from https://storage.googleapis.com/tensorflow/tf-keras-datasets/train-images-idx3-ubyte.gz\n",
            "26427392/26421880 [==============================] - 0s 0us/step\n",
            "Downloading data from https://storage.googleapis.com/tensorflow/tf-keras-datasets/t10k-labels-idx1-ubyte.gz\n",
            "8192/5148 [===============================================] - 0s 0us/step\n",
            "Downloading data from https://storage.googleapis.com/tensorflow/tf-keras-datasets/t10k-images-idx3-ubyte.gz\n",
            "4423680/4422102 [==============================] - 0s 0us/step\n",
            "information regarding the training,validation and test dataset\n",
            "the size of training dataset is 54000,validation set is 6000,test set is 10000\n"
          ],
          "name": "stdout"
        }
      ]
    },
    {
      "cell_type": "code",
      "metadata": {
        "id": "sA25XnEtFYjV"
      },
      "source": [
        "def vectorize(Y):\n",
        "  Y_vectorize = np.zeros((Y.shape[0],10))\n",
        "  for i in range(Y.shape[0]):\n",
        "      Y_vectorize[i][Y[i]] = 1.0\n",
        "  return Y_vectorize"
      ],
      "execution_count": 12,
      "outputs": []
    },
    {
      "cell_type": "code",
      "metadata": {
        "id": "XTyzvGeOBCBw"
      },
      "source": [
        "def prep_data(X,Y):\n",
        "#   X_norm = X.astype('float32')/255.0\n",
        "#   X_norm_vector = np.array([np.reshape(x,(784,1)) for x in X_norm])\n",
        "#   Y_vectorize = np.array([vectorize(y) for y in Y])\n",
        "    X_vector = np.array([np.reshape(x,(784))for x in X])\n",
        "    mean = np.mean(X_vector,axis = 0)\n",
        "    std = np.std(X_vector,axis = 0)\n",
        "    X_norm_vector = (X_vector - mean)/std\n",
        "    Y_vectorize = vectorize(Y)\n",
        "    return X_norm_vector,Y_vectorize"
      ],
      "execution_count": 13,
      "outputs": []
    },
    {
      "cell_type": "code",
      "metadata": {
        "id": "pQGgiWTjDh6s"
      },
      "source": [
        "class_label = ['T-shirt/top', \n",
        "           'Trousers', \n",
        "           'Pullover', \n",
        "           'Dress', 'Coat', \n",
        "           'Sandal', \n",
        "           'Shirt', \n",
        "           'Sneaker', \n",
        "           'Bag', \n",
        "           'Ankle boot']"
      ],
      "execution_count": 14,
      "outputs": []
    },
    {
      "cell_type": "code",
      "metadata": {
        "id": "8gG3CFQOFROJ"
      },
      "source": [
        "#Q1 plots one image of each class \n",
        "\n",
        "def plot_each_label(X,Y):\n",
        "  rows = 2\n",
        "  cols = 5\n",
        "  fig = plt.figure()\n",
        "  ax = []\n",
        "  j = 0\n",
        "  for i in range(1,rows*cols + 1):\n",
        "    ax.append(fig.add_subplot(rows,cols,i))\n",
        "    pos = np.where(Y == j)\n",
        "    plt.imshow(X[pos[0][0]])\n",
        "    plt.xticks([])\n",
        "    plt.yticks([])\n",
        "    ax[-1].set_title(class_label[j])\n",
        "    j += 1\n",
        "  plt.show()\n"
      ],
      "execution_count": 15,
      "outputs": []
    },
    {
      "cell_type": "code",
      "metadata": {
        "colab": {
          "base_uri": "https://localhost:8080/",
          "height": 227
        },
        "id": "KF-0eNsd_0oZ",
        "outputId": "651dc512-d0e5-4f21-b904-157d11445260"
      },
      "source": [
        "#Q1 calls and plots image of each class\n",
        "plot_each_label(x_train,y_train)"
      ],
      "execution_count": 16,
      "outputs": [
        {
          "output_type": "display_data",
          "data": {
            "image/png": "[encoded data removed]",
            "text/plain": [
              "<Figure size 432x288 with 10 Axes>"
            ]
          },
          "metadata": {
            "tags": []
          }
        }
      ]
    },
    {
      "cell_type": "code",
      "metadata": {
        "id": "Ehw2440wrtQ2"
      },
      "source": [
        "def softmax(X):\n",
        "    output = np.zeros(X.shape)\n",
        "    for col in range(X.shape[1]):\n",
        "        exps = np.exp(X[:,col] - np.max(X[:,col]))\n",
        "        output[:,col] = exps/exps.sum()\n",
        "\n",
        "    return output\n",
        "\n",
        "def sigmoid(X):\n",
        "    return expit(X) #to avoid overflow\n",
        "\n",
        "def sigmoid_derivative(x):\n",
        "  return sigmoid(x)*(1-sigmoid(x))\n",
        "\n",
        "def tanh(X):\n",
        "    return np.tanh(X)\n",
        "\n",
        "def relu(X):\n",
        "    return np.maximum(X,0)\n",
        "\n",
        "def tanh_derivative(X):\n",
        "    return (1-np.square(tanh(X)))\n",
        "\n",
        "def relu_derivative(X):\n",
        "    return (X > 0)*(np.ones(np.shape(X))) + (X < 0 )*(0.01*np.ones(np.shape(X)))\n",
        "\n",
        "  "
      ],
      "execution_count": 17,
      "outputs": []
    },
    {
      "cell_type": "code",
      "metadata": {
        "id": "yPs0JWttc6ly"
      },
      "source": [
        "class Network:\n",
        "\n",
        "# ---------------------------------------START OF NETWORK INITIALIAZATION ---------------------------------------------\n",
        "#----------------------------------------------------------------------------------------------------------------------\n",
        "  #initialization of the network\n",
        "  def __init__(self,layers,weight_initilizer = \"random\"):\n",
        "    \n",
        "    self.num_of_layers = len(layers)\n",
        "    self.layers = layers\n",
        "    self.num_of_epochs_completed = 0\n",
        "\n",
        "    #based on the methods the initilization would be done\n",
        "    if weight_initilizer == 'random':\n",
        "      self.random(layers)\n",
        "    elif weight_initilizer == 'Xavier':\n",
        "      self.Xavier(layers)\n",
        "    else:\n",
        "      print(\"ERROR\")\n",
        "\n",
        "    #used for mpmentum based gradient descent,adam and nadam\n",
        "    self.prev_update_biases = [np.zeros((x,1)) for x in layers[1:]]\n",
        "    self.prev_update_weights = [np.zeros((x,y)) for x,y in zip(layers[1:],layers[:-1])]\n",
        "    #used for adam,rmsprop and nadam\n",
        "    self.v_w = [np.zeros((x,y)) for x,y in zip(layers[1:],layers[:-1])]\n",
        "    self.v_b = [np.zeros((x,1)) for x in layers[1:]]\n",
        "\n",
        "#--------------------------------------END OF INITIALIZATION OF NETWORK------------------------------------------------\n",
        "#----------------------------------------------------------------------------------------------------------------------\n",
        "\n",
        "#-----------------------------------------START OF INITILIZATION OF WEIGHTS AND BIASES METHODS ------------------------------\n",
        "#---------------------------------------------------------------------------------------------------------------------------\n",
        "\n",
        "  def random(self,layers):\n",
        "    self.biases = [np.random.randn((x,1)) for x in layers[1:]]\n",
        "    self.weights = [np.random.randn(x,y) for x,y in zip(layers[1:],layers[:-1])]\n",
        "\n",
        "  def Xavier(self,layers):\n",
        "    self.biases = [np.zeros((x,1)) for x in layers[1:]]\n",
        "    self.weights = [np.random.randn(x,y)*2/np.sqrt(y+x) for x,y in zip(layers[1:],layers[:-1])]\n",
        "\n",
        "#-------------------------------------------END OF INITIALIZATION OF WEIGHTS AND BIASES METHOD-------------------------------------\n",
        "#-----------------------------------------------------------------------------------------------------------------------------------\n",
        "\n",
        "\n",
        "#---------------------------------------------START OF CALCULATING LOSS FUNCTIONS ----------------------------------------------------\n",
        "#------------------------------------------------------------------------------------------------------------------------------------\n",
        "\n",
        "  def calculate_loss(self,Y,Y_predicted):\n",
        "    if self.loss == \"cross_entropy_loss\":\n",
        "        error = log_loss(Y,Y_predicted)\n",
        "        return error\n",
        "#--------------------------------------------------END OF CALCULATING LOSS FUNCTIONS------------------------------------------------\n",
        "#--------------------------------------------------------------------------------------------------------------------------------------\n",
        "\n",
        "#-----------------------------------------------------------START OF ACTIVATION FUNCTION METHODS ----------------------------------------\n",
        "#--------------------------------------------------------------------------------------------------------------------------------------\n",
        "\n",
        "  def perform_activation(self,A):\n",
        " \n",
        "    if self.activation == 'sigmoid':\n",
        "      return sigmoid(A)\n",
        "    elif self.activation == \"tanh\":\n",
        "      return tanh(A)\n",
        "    elif self.activation == \"relu\":\n",
        "        return relu(A)\n",
        "    else:\n",
        "      print(\"ERROR\")\n",
        "\n",
        "  def perform_output_function(self,A):\n",
        "\n",
        "    if self.output_function == \"softmax\":\n",
        "      H = softmax(A)\n",
        "    else:\n",
        "      print(\"ERROR\")\n",
        "    return H\n",
        "#--------------------------------------------------END OF ACTIVATION FUNCTION METHODS-----------------------------------------------\n",
        "#--------------------------------------------------------------------------------------------------------------------------------\n",
        "\n",
        "\n",
        "\n",
        "  def update_parameter(self,grad_wrt_weights,grad_wrt_biases,eta,gamma = 0.009,beta1 = 0.0001,beta2 = 0.999):\n",
        "    if self.optimizer == \"sgd\":\n",
        "        update_wrt_biases = [eta*gb for gb in grad_wrt_biases]\n",
        "        update_wrt_weights = [eta*gw for gw in grad_wrt_weights]\n",
        "\n",
        "    elif self.optimizer == \"momentum\":\n",
        "        update_wrt_biases = [gamma*ub + eta*gb for ub,gb in zip(self.prev_update_biases,grad_wrt_biases)]\n",
        "        update_wrt_weights = [gamma*uw + eta*gw for uw,gw in zip(self.prev_update_weights,grad_wrt_weights)]\n",
        "\n",
        "        self.prev_update_biases = update_wrt_biases\n",
        "        self.prev_update_weights = update_wrt_weights\n",
        "\n",
        "    elif self.optimizer == \"nesterov\":\n",
        "        update_wrt_biases = [gamma*ub + eta*gb for ub,gb in zip(self.prev_update_biases,grad_wrt_biases)]\n",
        "        update_wrt_weights = [gamma*uw + eta*gw for uw,gw in zip(self.prev_update_weights,grad_wrt_weights)]\n",
        "\n",
        "        self.prev_update_biases = update_wrt_biases\n",
        "        self.prev_update_weights = update_wrt_weights\n",
        "\n",
        "    elif self.optimizer == \"rmsprop\":\n",
        "        eps = 1e-8\n",
        "        self.v_w = [beta2*t + (1-beta2)*(np.power(gw,2)) for t,gw in zip(self.v_w,grad_wrt_weights)] \n",
        "        self.v_b = [beta2*t + (1-beta2)*(np.power(gb,2)) for t,gb in zip(self.v_b,grad_wrt_biases)]\n",
        "\n",
        "        self.v_w = [(1/np.power(t + eps,0.5)) for t in self.v_b]\n",
        "        self.v_b = [(1/np.power(t + eps,0.5))for t in self.v_w]\n",
        "\n",
        "\n",
        "        update_wrt_biases = [eta*t*gb for t,gb in zip(self.v_b,grad_wrt_biases)]\n",
        "        update_wrt_weights = [eta*t*gw for t,gw in zip(self.v_w,grad_wrt_weights)]\n",
        "\n",
        "\n",
        "    elif self.optimizer == \"adam\":\n",
        "        eps = 1e-8\n",
        "        i = self.num_of_epochs_completed\n",
        "\n",
        "        momentum_update_biases =  [(beta1*m + (1-beta1)*gb)/(1-np.power(beta1,i)) for m,gb in zip(self.prev_update_biases,grad_wrt_biases)] \n",
        "        momentum_update_weights = [(beta1*m + (1-beta1)*gw)/(1-np.power(beta1,i)) for m,gw in zip(self.prev_update_weights,grad_wrt_weights)] \n",
        "\n",
        "        self.v_w = [(beta2*t + (1-beta2)*(np.power(gw,2)))/(1-np.power(beta2,i)) for t,gw in zip(self.v_w,grad_wrt_weights)] \n",
        "        self.v_b = [beta2*t + (1-beta2)*(np.power(gb,2))/(1-np.power(beta2,i)) for t,gb in zip(self.v_b,grad_wrt_biases)]\n",
        "\n",
        "        self.v_w = [(1/np.power(t + eps,0.5)) for t in self.v_b]\n",
        "        self.v_b = [(1/np.power(t + eps,0.5))for t in self.v_w]\n",
        "\n",
        "        update_wrt_biases = [eta*t*mb for t,mb in zip(self.v_b,momentum_update_biases)]\n",
        "        update_wrt_weights = [eta*t*mw for t,mw in zip(self.v_w,momentum_update_weights)]\n",
        "\n",
        "        self.prev_update_biases = momentum_update_biases\n",
        "        self.prev_update_weights = momentum_update_weights\n",
        "\n",
        "    elif self.optimizer == \"nadam\":\n",
        "\n",
        "        eps = 1e-8\n",
        "        i = self.num_of_epochs_completed\n",
        "\n",
        "        momentum_update_biases =  [(beta1*m + (1-beta1)*gb)/(1-np.power(beta1,i)) for m,gb in zip(self.prev_update_biases,grad_wrt_biases)] \n",
        "        momentum_update_weights = [(beta1*m + (1-beta1)*gw)/(1-np.power(beta1,i)) for m,gw in zip(self.prev_update_weights,grad_wrt_weights)] \n",
        "\n",
        "        self.v_w = [(beta2*t + (1-beta2)*(np.power(gw,2)))/(1-np.power(beta2,i)) for t,gw in zip(self.v_w,grad_wrt_weights)] \n",
        "        self.v_b = [beta2*t + (1-beta2)*(np.power(gb,2))/(1-np.power(beta2,i)) for t,gb in zip(self.v_b,grad_wrt_biases)]\n",
        "\n",
        "        self.v_w = [(1/np.power(t + eps,0.5)) for t in self.v_b]\n",
        "        self.v_b = [(1/np.power(t + eps,0.5))for t in self.v_w]\n",
        "\n",
        "        update_wrt_biases = [eta*t*mb for t,mb in zip(self.v_b,momentum_update_biases)]\n",
        "        update_wrt_weights = [eta*t*mw for t,mw in zip(self.v_w,momentum_update_weights)]\n",
        "\n",
        "        self.prev_update_biases = momentum_update_biases\n",
        "        self.prev_update_weights = momentum_update_weights\n",
        "        \n",
        "\n",
        "    self.weights = [w - grad_w for w,grad_w in zip(self.weights,update_wrt_weights)]\n",
        "    self.biases = [b - grad_b for b,grad_b in zip(self.biases,update_wrt_biases)]\n",
        "\n",
        "\n",
        "    \n",
        "\n",
        "\n",
        "  def forward_propagation(self,X):\n",
        "    #input vector to the network\n",
        "    A_h = X.T\n",
        "    #array to store pre-activation vectors of the hidden layers and output layer\n",
        "    A = []\n",
        "    #array to store post activation vectors of the input layer,hidden layers and ouput layer\n",
        "    H = [X.T]\n",
        "    for w,b in zip(self.weights[:-1],self.biases[:-1]):\n",
        "      A_h = np.matmul(w,A_h)+ b\n",
        "      A.append(A_h)\n",
        "      H_i = self.perform_activation(A_h)\n",
        "      H.append(H_i)\n",
        "\n",
        "    #calculating the pre-activation and post-activation vector in the output layer\n",
        "    w,b = self.weights[-1],self.biases[-1]\n",
        "    A_o = np.matmul(w,A[-1]) + b\n",
        "    A.append(A_o)\n",
        "    H_o = self.perform_output_function(A_o)\n",
        "    H.append(H_o)\n",
        "    return A,H,H[-1]\n",
        "\n",
        "\n",
        "  def get_delta_hidden_layer(self,grad_wrt_weight,delta,A):\n",
        "        if self.activation == \"sigmoid\":\n",
        "            return np.matmul(grad_wrt_weight.T,delta)*(sigmoid_derivative(A))\n",
        "        elif self.activation == \"tanh\":\n",
        "            return np.matmul(grad_wrt_weight.T,delta)*(tanh_derivative(A))\n",
        "        elif self.activation == \"relu\":\n",
        "            return np.matmul(grad_wrt_weight.T,delta)*(relu_derivative(A))\n",
        "\n",
        "  def get_delta_last_layer(self,A,H,Y):\n",
        "\n",
        "    if self.output_function == \"softmax\":\n",
        "      delta = H - Y.T\n",
        "      return delta\n",
        "    else: \n",
        "      print(\"ERROR\")\n",
        "\n",
        "  def backward_propagation(self,X,Y,A,H):\n",
        "    grad_wrt_weights = [np.zeros(w.shape) for w in self.weights]\n",
        "    grad_wrt_biases = [np.zeros(b.shape) for b in self.biases]\n",
        "    N = X.shape[0]\n",
        "    delta = self.get_delta_last_layer(A[-1],H[-1],Y)\n",
        "    grad_wrt_biases[-1] = (1/N)*np.sum(delta,axis = 1,keepdims = True)\n",
        "    grad_wrt_weights[-1] = (1/N)*np.matmul(delta,H[-2].T)\n",
        "    for l in range(2,self.num_of_layers):\n",
        "      delta = self.get_delta_hidden_layer(grad_wrt_weights[-l+1],delta,A[-l])\n",
        "      grad_wrt_biases[-l] = (1/N)*np.sum(delta,axis = 1,keepdims = True)\n",
        "      grad_wrt_weights[-l] = (1/N)*np.matmul(delta,H[-l-1].T)\n",
        "      \n",
        "    return grad_wrt_weights,grad_wrt_biases\n",
        "\n",
        "  def fit(self,x_train,y_train,x_val,y_val,epochs = 5, eta = 0.001,gamma = 0.01,batch_size = 64):\n",
        "      \n",
        "    N = x_train.shape[0]\n",
        "    for epoch in range(1,epochs+1):\n",
        "        self.num_of_epochs_completed = epoch\n",
        "        batch_error = 0\n",
        "        combined_training_data = list(zip(x_train,y_train))\n",
        "        np.random.shuffle(combined_training_data)\n",
        "        x_train[:],y_train[:] = zip(*combined_training_data)\n",
        "        x_train,y_train = np.array(x_train),np.array(y_train)\n",
        "\n",
        "        mini_x_batches = [x_train[i:i+batch_size] for i in range(0,N,batch_size)]\n",
        "        mini_y_batches = [y_train[i:i+batch_size] for i in range(0,N,batch_size)] \n",
        "\n",
        "        for X,Y in zip(mini_x_batches,mini_y_batches):\n",
        "            #only for nestorov accelerated gradient descent\n",
        "            if self.optimizer == \"nesterov\" or self.optimizer == \"nadam\":\n",
        "                self.biases = [b - gamma*ub for b,ub in zip(self.biases,self.prev_update_biases)]\n",
        "                self.weights = [w - gamma*uw  for w,uw in zip(self.weights,self.prev_update_weights)]\n",
        "\n",
        "            #forward propagation\n",
        "            A,H,Y_predicted = self.forward_propagation(X)\n",
        "            #backward propagation\n",
        "            grad_wrt_weights,grad_wrt_biases = self.backward_propagation(X,Y,A,H)\n",
        "            #gradient descent variant\n",
        "            self.update_parameter(grad_wrt_weights,grad_wrt_biases,eta,gamma)\n",
        "            batch_error += self.calculate_loss(Y.T,Y_predicted)\n",
        "        loss = batch_error/N\n",
        "        accuracy_val = self.test(x_val,y_val)\n",
        "        print(\"In epoch {} the loss for train set is {}\".format(epoch,loss))\n",
        "        print(\"In epoch {} the accuracy for validation set is {} %\".format(epoch,accuracy_val))\n",
        "        wandb.log({\"epoch\": loss,\"validation accuracy\" : accuracy_val })\n",
        "        print()\n",
        "        print()\n",
        "        \n",
        "\n",
        "  def compile(self,optimizer = \"sgd\",loss = \"squared-error\",activation = \"sigmoid\",output_function = \"softmax\",metrics = \"accuracy\"):\n",
        "\n",
        "    self.activation = activation\n",
        "    self.output_function = output_function\n",
        "    self.optimizer = optimizer\n",
        "    self.loss = loss\n",
        "    self.metrics = metrics\n",
        "\n",
        "\n",
        "  def test(self,X,Y):\n",
        "    if self.metrics == \"accuracy\":\n",
        "        A,H,Y_predicted = self.forward_propagation(X)\n",
        "        Y_list = np.argmax(Y.T,axis = 0).reshape(Y.T.shape[1], 1)\n",
        "        Y_list_predicted = np.argmax(Y_predicted,axis = 0).reshape(Y.T.shape[1], 1)\n",
        "        accuracy_matrix = Y_list_predicted == Y_list\n",
        "        accuracy_list = list(accuracy_matrix)\n",
        "        correct = accuracy_list.count([True])\n",
        "        return round(((correct*100)/len(accuracy_list)),2)\n",
        "\n"
      ],
      "execution_count": 18,
      "outputs": []
    },
    {
      "cell_type": "code",
      "metadata": {
        "id": "epypxxybGm_2"
      },
      "source": [
        "x_train_transformed,y_train_transformed = prep_data(x_train,y_train)"
      ],
      "execution_count": 19,
      "outputs": []
    },
    {
      "cell_type": "code",
      "metadata": {
        "id": "t8jy2JtsaxXY"
      },
      "source": [
        "x_val_transformed,y_val_transformed = prep_data(x_validation,y_validation)"
      ],
      "execution_count": 20,
      "outputs": []
    },
    {
      "cell_type": "code",
      "metadata": {
        "id": "NXr0dl1eN67E"
      },
      "source": [
        "x_test_transformed,y_test_transformed = prep_data(x_test,y_test)"
      ],
      "execution_count": 21,
      "outputs": []
    },
    {
      "cell_type": "code",
      "metadata": {
        "id": "5jlkx5ansvZg"
      },
      "source": [
        "defaults = dict(\n",
        "    layer = [784,32,32,10],\n",
        "    optimizer = \"adam\",\n",
        "    loss = \"cross_entropy_loss\",\n",
        "    activation = \"tanh\",\n",
        "    output_function = \"softmax\",\n",
        "    metrics = \"accuracy\",\n",
        "    learning_rate = 0.001,\n",
        "    gamma = 0.0009,\n",
        "    epochs = 10,\n",
        "    batch_size = 64,\n",
        "    weight_initializer = \"Xavier\"\n",
        ")"
      ],
      "execution_count": 5,
      "outputs": []
    },
    {
      "cell_type": "code",
      "metadata": {
        "colab": {
          "base_uri": "https://localhost:8080/",
          "height": 136
        },
        "id": "psQ7fBcyn8Bm",
        "outputId": "fd67dea6-3859-418d-e0d5-25b0449f7af0"
      },
      "source": [
        "wandb.init(project=\"CS6910-assignment1\",config = defaults)\n",
        "config = wandb.config"
      ],
      "execution_count": 6,
      "outputs": [
        {
          "output_type": "stream",
          "text": [
            "\u001b[34m\u001b[1mwandb\u001b[0m: Currently logged in as: \u001b[33mtheindianwriter\u001b[0m (use `wandb login --relogin` to force relogin)\n"
          ],
          "name": "stderr"
        },
        {
          "output_type": "display_data",
          "data": {
            "text/html": [
              "\n",
              "                Tracking run with wandb version 0.10.22<br/>\n",
              "                Syncing run <strong style=\"color:#cdcd00\">fanciful-moon-1</strong> to <a href=\"https://wandb.ai\" target=\"_blank\">Weights & Biases</a> <a href=\"https://docs.wandb.com/integrations/jupyter.html\" target=\"_blank\">(Documentation)</a>.<br/>\n",
              "                Project page: <a href=\"https://wandb.ai/theindianwriter/CS6910-assignment1\" target=\"_blank\">https://wandb.ai/theindianwriter/CS6910-assignment1</a><br/>\n",
              "                Run page: <a href=\"https://wandb.ai/theindianwriter/CS6910-assignment1/runs/2kkjhr3c\" target=\"_blank\">https://wandb.ai/theindianwriter/CS6910-assignment1/runs/2kkjhr3c</a><br/>\n",
              "                Run data is saved locally in <code>/content/wandb/run-20210312_191233-2kkjhr3c</code><br/><br/>\n",
              "            "
            ],
            "text/plain": [
              "<IPython.core.display.HTML object>"
            ]
          },
          "metadata": {
            "tags": []
          }
        }
      ]
    },
    {
      "cell_type": "code",
      "metadata": {
        "id": "-J09hAt6unnF"
      },
      "source": [
        "net = Network(config.layer,weight_initilizer=config.weight_initializer)\n",
        "net.compile(optimizer = config.optimizer,loss = config.loss,activation = config.activation,output_function = config.output_function,metrics = config.metrics)"
      ],
      "execution_count": 23,
      "outputs": []
    },
    {
      "cell_type": "code",
      "metadata": {
        "colab": {
          "base_uri": "https://localhost:8080/"
        },
        "id": "QfctkmGhvMf5",
        "outputId": "18bb607b-0f18-44ec-b532-a8fd0305e206"
      },
      "source": [
        "net.fit(x_train_transformed,y_train_transformed,x_val_transformed,y_val_transformed,epochs = config.epochs, eta = config.learning_rate,batch_size = config.batch_size,gamma = config.gamma)"
      ],
      "execution_count": 24,
      "outputs": [
        {
          "output_type": "stream",
          "text": [
            "In epoch 1 the loss for train set is 0.7206268006773099\n",
            "In epoch 1 the accuracy for validation set is 22.22 %\n",
            "\n",
            "\n",
            "In epoch 2 the loss for train set is 0.5880802557316872\n",
            "In epoch 2 the accuracy for validation set is 27.8 %\n",
            "\n",
            "\n",
            "In epoch 3 the loss for train set is 0.5051762917702685\n",
            "In epoch 3 the accuracy for validation set is 33.02 %\n",
            "\n",
            "\n",
            "In epoch 4 the loss for train set is 0.45138681101045314\n",
            "In epoch 4 the accuracy for validation set is 37.5 %\n",
            "\n",
            "\n",
            "In epoch 5 the loss for train set is 0.41638326798380065\n",
            "In epoch 5 the accuracy for validation set is 41.83 %\n",
            "\n",
            "\n",
            "In epoch 6 the loss for train set is 0.39204060381399014\n",
            "In epoch 6 the accuracy for validation set is 45.33 %\n",
            "\n",
            "\n",
            "In epoch 7 the loss for train set is 0.375697167071585\n",
            "In epoch 7 the accuracy for validation set is 48.18 %\n",
            "\n",
            "\n",
            "In epoch 8 the loss for train set is 0.3615345323366303\n",
            "In epoch 8 the accuracy for validation set is 50.37 %\n",
            "\n",
            "\n",
            "In epoch 9 the loss for train set is 0.3508168034741181\n",
            "In epoch 9 the accuracy for validation set is 52.2 %\n",
            "\n",
            "\n",
            "In epoch 10 the loss for train set is 0.3425025247500772\n",
            "In epoch 10 the accuracy for validation set is 53.73 %\n",
            "\n",
            "\n"
          ],
          "name": "stdout"
        }
      ]
    },
    {
      "cell_type": "code",
      "metadata": {
        "colab": {
          "base_uri": "https://localhost:8080/"
        },
        "id": "8dLHh3brwjWY",
        "outputId": "031491ee-7fe6-4b12-97a6-bfa0b0466263"
      },
      "source": [
        "wandb.save('test model')"
      ],
      "execution_count": null,
      "outputs": [
        {
          "output_type": "execute_result",
          "data": {
            "text/plain": [
              "[]"
            ]
          },
          "metadata": {
            "tags": []
          },
          "execution_count": 146
        }
      ]
    }
  ]
}