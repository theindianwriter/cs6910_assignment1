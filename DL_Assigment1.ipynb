{
  "nbformat": 4,
  "nbformat_minor": 0,
  "metadata": {
    "colab": {
      "name": "DL_Assigment1.ipynb",
      "provenance": [],
      "authorship_tag": "ABX9TyNQ/730Ey4/qKtFx+z0Z0iv",
      "include_colab_link": true
    },
    "kernelspec": {
      "name": "python3",
      "display_name": "Python 3"
    }
  },
  "cells": [
    {
      "cell_type": "markdown",
      "metadata": {
        "id": "view-in-github",
        "colab_type": "text"
      },
      "source": [
        "<a href=\"https://colab.research.google.com/github/theindianwriter/cs6910_assignment1/blob/main/DL_Assigment1.ipynb\" target=\"_parent\"><img src=\"https://colab.research.google.com/assets/colab-badge.svg\" alt=\"Open In Colab\"/></a>"
      ]
    },
    {
      "cell_type": "code",
      "metadata": {
        "id": "r3dP-sp72KOC"
      },
      "source": [
        "import numpy as np\n",
        "import pandas as pd\n",
        "import matplotlib.pyplot as plt\n",
        "from tensorflow import keras\n",
        "from scipy.special import expit\n",
        "from sklearn.metrics import log_loss"
      ],
      "execution_count": 1,
      "outputs": []
    },
    {
      "cell_type": "code",
      "metadata": {
        "id": "T4hRoteM6Gff"
      },
      "source": [
        "from keras.datasets import fashion_mnist"
      ],
      "execution_count": 2,
      "outputs": []
    },
    {
      "cell_type": "code",
      "metadata": {
        "id": "XsO8ygJ-5X9f"
      },
      "source": [
        "def data_loader():\n",
        "  (x_train,y_train),(x_test,y_test) = fashion_mnist.load_data()\n",
        "  num_of_train_data = x_train.shape[0]\n",
        "  combined_training_data = list(zip(x_train,y_train))\n",
        "  np.random.shuffle(combined_training_data)\n",
        "  (x_train,y_train) = zip(*combined_training_data)\n",
        "  x_train,y_train = np.array(x_train),np.array(y_train)\n",
        "  validation_size = int(0.1*num_of_train_data)\n",
        "  x_validation = x_train[:validation_size]\n",
        "  y_validation = y_train[:validation_size]\n",
        "  x_train = x_train[validation_size:]\n",
        "  y_train = y_train[validation_size:]\n",
        "  return x_train,y_train,x_validation,y_validation,x_test,y_test\n"
      ],
      "execution_count": 3,
      "outputs": []
    },
    {
      "cell_type": "code",
      "metadata": {
        "colab": {
          "base_uri": "https://localhost:8080/"
        },
        "id": "2s1_mbH28M6h",
        "outputId": "abde7e54-cd2d-4d0c-9dc4-cea6d3723947"
      },
      "source": [
        "x_train,y_train,x_validation,y_validation,x_test,y_test = data_loader()\n",
        "print(\"information regarding the training,validation and test dataset\")\n",
        "print(\"the size of training dataset is {},validation set is {},test set is {}\".format(x_train.shape[0],x_validation.shape[0],x_test.shape[0]))"
      ],
      "execution_count": 4,
      "outputs": [
        {
          "output_type": "stream",
          "text": [
            "Downloading data from https://storage.googleapis.com/tensorflow/tf-keras-datasets/train-labels-idx1-ubyte.gz\n",
            "32768/29515 [=================================] - 0s 0us/step\n",
            "Downloading data from https://storage.googleapis.com/tensorflow/tf-keras-datasets/train-images-idx3-ubyte.gz\n",
            "26427392/26421880 [==============================] - 0s 0us/step\n",
            "Downloading data from https://storage.googleapis.com/tensorflow/tf-keras-datasets/t10k-labels-idx1-ubyte.gz\n",
            "8192/5148 [===============================================] - 0s 0us/step\n",
            "Downloading data from https://storage.googleapis.com/tensorflow/tf-keras-datasets/t10k-images-idx3-ubyte.gz\n",
            "4423680/4422102 [==============================] - 0s 0us/step\n",
            "information regarding the training,validation and test dataset\n",
            "the size of training dataset is 54000,validation set is 6000,test set is 10000\n"
          ],
          "name": "stdout"
        }
      ]
    },
    {
      "cell_type": "code",
      "metadata": {
        "id": "sA25XnEtFYjV"
      },
      "source": [
        "def vectorize(Y):\n",
        "  Y_vectorize = np.zeros((Y.shape[0],10))\n",
        "  for i in range(Y.shape[0]):\n",
        "      Y_vectorize[i][Y[i]] = 1.0\n",
        "  return Y_vectorize"
      ],
      "execution_count": 5,
      "outputs": []
    },
    {
      "cell_type": "code",
      "metadata": {
        "id": "XTyzvGeOBCBw"
      },
      "source": [
        "def prep_data(X,Y):\n",
        "#   X_norm = X.astype('float32')/255.0\n",
        "#   X_norm_vector = np.array([np.reshape(x,(784,1)) for x in X_norm])\n",
        "#   Y_vectorize = np.array([vectorize(y) for y in Y])\n",
        "    X_vector = np.array([np.reshape(x,(784))for x in X])\n",
        "    mean = np.mean(X_vector,axis = 0)\n",
        "    std = np.std(X_vector,axis = 0)\n",
        "    X_norm_vector = (X_vector - mean)/std\n",
        "    Y_vectorize = vectorize(Y)\n",
        "    return X_norm_vector,Y_vectorize"
      ],
      "execution_count": 6,
      "outputs": []
    },
    {
      "cell_type": "code",
      "metadata": {
        "id": "pQGgiWTjDh6s"
      },
      "source": [
        "class_label = ['T-shirt/top', \n",
        "           'Trousers', \n",
        "           'Pullover', \n",
        "           'Dress', 'Coat', \n",
        "           'Sandal', \n",
        "           'Shirt', \n",
        "           'Sneaker', \n",
        "           'Bag', \n",
        "           'Ankle boot']"
      ],
      "execution_count": 7,
      "outputs": []
    },
    {
      "cell_type": "code",
      "metadata": {
        "id": "8gG3CFQOFROJ"
      },
      "source": [
        "#Q1 plots one image of each class \n",
        "\n",
        "def plot_each_label(X,Y):\n",
        "  rows = 2\n",
        "  cols = 5\n",
        "  fig = plt.figure()\n",
        "  ax = []\n",
        "  j = 0\n",
        "  for i in range(1,rows*cols + 1):\n",
        "    ax.append(fig.add_subplot(rows,cols,i))\n",
        "    pos = np.where(Y == j)\n",
        "    plt.imshow(X[pos[0][0]])\n",
        "    plt.xticks([])\n",
        "    plt.yticks([])\n",
        "    ax[-1].set_title(class_label[j])\n",
        "    j += 1\n",
        "  plt.show()\n"
      ],
      "execution_count": 8,
      "outputs": []
    },
    {
      "cell_type": "code",
      "metadata": {
        "colab": {
          "base_uri": "https://localhost:8080/",
          "height": 227
        },
        "id": "KF-0eNsd_0oZ",
        "outputId": "585e6b39-ba81-42e6-8edc-ce88b32ff220"
      },
      "source": [
        "#Q1 calls and plots image of each class\n",
        "plot_each_label(x_train,y_train)"
      ],
      "execution_count": 9,
      "outputs": [
        {
          "output_type": "display_data",
          "data": {
            "image/png": "[encoded data removed]",
            "text/plain": [
              "<Figure size 432x288 with 10 Axes>"
            ]
          },
          "metadata": {
            "tags": []
          }
        }
      ]
    },
    {
      "cell_type": "code",
      "metadata": {
        "id": "Ehw2440wrtQ2"
      },
      "source": [
        "def softmax(X):\n",
        "    output = np.zeros(X.shape)\n",
        "    for col in range(X.shape[1]):\n",
        "        exps = np.exp(X[:,col] - np.max(X[:,col]))\n",
        "        output[:,col] = exps/exps.sum()\n",
        "\n",
        "    return output\n",
        "\n",
        "def sigmoid(X):\n",
        "    return expit(X) #to avoid overflow\n",
        "\n",
        "def sigmoid_derivative(x):\n",
        "  return sigmoid(x)*(1-sigmoid(x))\n",
        "\n",
        "def tanh(X):\n",
        "    return np.tanh(X)\n",
        "#change the code\n",
        "def relu(X):\n",
        "    np.maximum(0,X)\n",
        "\n",
        "def tanh_derivative(X):\n",
        "    return (1-np.square(tanh(X)))\n",
        "\n",
        "def relu_derivative(X):\n",
        "    return np.greater(X,0).astype('float32')\n",
        "\n",
        "  "
      ],
      "execution_count": 11,
      "outputs": []
    },
    {
      "cell_type": "code",
      "metadata": {
        "id": "yPs0JWttc6ly"
      },
      "source": [
        "class Network:\n",
        "  #initialization of the network\n",
        "  def __init__(self,layers,weight_initilizer = \"random\"):\n",
        "    \n",
        "    self.num_of_layers = len(layers)\n",
        "    self.layers = layers\n",
        "\n",
        "    if weight_initilizer == 'random':\n",
        "      self.random(layers)\n",
        "    elif weight_initilizer == 'Xavier':\n",
        "      self.Xavier(layers)\n",
        "    else:\n",
        "      print(\"ERROR\")\n",
        "\n",
        "\n",
        "    self.prev_update_biases = [np.zeros((x,1)) for x in layers[1:]]\n",
        "    self.prev_update_weights = [np.zeros((x,y)) for x,y in zip(layers[1:],layers[:-1])]\n",
        "\n",
        "    self.v_w = [np.zeros((x,y)) for x,y in zip(layers[1:],layers[:-1])]\n",
        "    self.v_b = [np.zeros((x,1)) for x in layers[1:]]\n",
        "\n",
        "\n",
        "  def random(self,layers):\n",
        "    self.biases = [np.zeros((x,1)) for x in layers[1:]]\n",
        "    self.weights = [np.random.randn(x,y)*2/np.sqrt(y+x) for x,y in zip(layers[1:],layers[:-1])]\n",
        "\n",
        "  def Xavier(self,layers):\n",
        "    self.biases = []\n",
        "    self.weights = []\n",
        "    print(\"IMPLEMENTATION OF XAVIER\")\n",
        "\n",
        "\n",
        "  def calculate_loss(self,Y,Y_predicted):\n",
        "    if self.loss == \"cross_entropy_loss\":\n",
        "        error = log_loss(Y,Y_predicted)\n",
        "        return error\n",
        "\n",
        "\n",
        "  def show_network(self):\n",
        "    print(self.biases)\n",
        "    print(self.weights)\n",
        "\n",
        "  def perform_activation(self,A):\n",
        " \n",
        "    if self.activation == 'sigmoid':\n",
        "      return sigmoid(A)\n",
        "    elif self.activation == \"tanh\":\n",
        "      return tanh(A)\n",
        "    elif self.activation == \"relu\":\n",
        "        return relu(A)\n",
        "    else:\n",
        "      print(\"ERROR\")\n",
        "\n",
        "  def perform_output_function(self,A):\n",
        "\n",
        "    if self.output_function == \"softmax\":\n",
        "      H = softmax(A)\n",
        "    else:\n",
        "      print(\"ERROR\")\n",
        "\n",
        "    return H\n",
        "\n",
        "\n",
        "  def update_parameter(self,grad_wrt_weights,grad_wrt_biases,eta,gamma = 0.009,beta1 = 0.0001,beta2 = 0.999):\n",
        "    if self.optimizer == \"sgd\":\n",
        "        update_wrt_biases = [eta*gb for gb in grad_wrt_biases]\n",
        "        update_wrt_weights = [eta*gw for gw in grad_wrt_weights]\n",
        "\n",
        "    elif self.optimizer == \"momentum\":\n",
        "        update_wrt_biases = [gamma*ub + eta*gb for ub,gb in zip(self.prev_update_biases,grad_wrt_biases)]\n",
        "        update_wrt_weights = [gamma*uw + eta*gw for uw,gw in zip(self.prev_update_weights,grad_wrt_weights)]\n",
        "\n",
        "        self.prev_update_biases = update_wrt_biases\n",
        "        self.prev_update_weights = update_wrt_weights\n",
        "\n",
        "    elif self.optimizer == \"nesterov\":\n",
        "        update_wrt_biases = [gamma*ub + eta*gb for ub,gb in zip(self.prev_update_biases,grad_wrt_biases)]\n",
        "        update_wrt_weights = [gamma*uw + eta*gw for uw,gw in zip(self.prev_update_weights,grad_wrt_weights)]\n",
        "\n",
        "        self.prev_update_biases = update_wrt_biases\n",
        "        self.prev_update_weights = update_wrt_weights\n",
        "\n",
        "    elif self.optimizer == \"rmsprop\":\n",
        "        eps = 1e-8\n",
        "        self.v_w = [beta2*t + (1-beta2)*(np.power(gw,2)) for t,gw in zip(self.v_w,grad_wrt_weights)] \n",
        "        self.v_b = [beta2*t + (1-beta2)*(np.power(gb,2)) for t,gb in zip(self.v_b,grad_wrt_biases)]\n",
        "\n",
        "        self.v_w = [(1/np.power(t + eps,0.5)) for t in self.v_b]\n",
        "        self.v_b = [(1/np.power(t + eps,0.5))for t in self.v_w]\n",
        "\n",
        "\n",
        "        update_wrt_biases = [eta*t*gb for t,gb in zip(self.v_b,grad_wrt_biases)]\n",
        "        update_wrt_weights = [eta*t*gw for t,gw in zip(self.v_w,grad_wrt_weights)]\n",
        "\n",
        "\n",
        "    elif self.optimizer == \"adam\":\n",
        "\n",
        "        momentum_update_biases =  [beta1*m + (1-beta1)*gb for m,gb in zip(self.prev_update_biases,grad_wrt_biases)] \n",
        "        momentum_update_weights = [beta1*m + (1-beta1)*gw for m,gw in zip(self.prev_update_weights,grad_wrt_weights)] \n",
        "\n",
        "        self.v_w = [beta2*t + (1-beta2)*(np.power(gw,2)) for t,gw in zip(self.v_w,grad_wrt_weights)] \n",
        "        self.v_b = [beta2*t + (1-beta2)*(np.power(gb,2)) for t,gb in zip(self.v_b,grad_wrt_biases)]\n",
        "\n",
        "        self.v_w = [(1/np.power(t + eps,0.5)) for t in self.v_b]\n",
        "        self.v_b = [(1/np.power(t + eps,0.5))for t in self.v_w]\n",
        "\n",
        "        update_wrt_biases = [eta*t*gb for t,mb in zip(self.v_b,momentum_update_biases)]\n",
        "        update_wrt_weights = [eta*t*gw for t,mw in zip(self.v_w,momentum_update_weights)]\n",
        "\n",
        "        self.prev_update_biases = momentum_update_biases\n",
        "        self.prev_update_weights = momentum_update_weights\n",
        "\n",
        "\n",
        "        \n",
        "\n",
        "    self.weights = [w - grad_w for w,grad_w in zip(self.weights,update_wrt_weights)]\n",
        "    self.biases = [b - grad_b for b,grad_b in zip(self.biases,update_wrt_biases)]\n",
        "\n",
        "\n",
        "    \n",
        "\n",
        "\n",
        "  def forward_propagation(self,X):\n",
        "    #input vector to the network\n",
        "    A_h = X.T\n",
        "    #array to store pre-activation vectors of the hidden layers and output layer\n",
        "    A = []\n",
        "    #array to store post activation vectors of the input layer,hidden layers and ouput layer\n",
        "    H = [X.T]\n",
        "    for w,b in zip(self.weights[:-1],self.biases[:-1]):\n",
        "      A_h = np.matmul(w,A_h)+ b\n",
        "      A.append(A_h)\n",
        "      H_i = self.perform_activation(A_h)\n",
        "      H.append(H_i)\n",
        "\n",
        "    #calculating the pre-activation and post-activation vector in the output layer\n",
        "    w,b = self.weights[-1],self.biases[-1]\n",
        "    A_o = np.matmul(w,A[-1]) + b\n",
        "    A.append(A_o)\n",
        "    H_o = self.perform_output_function(A_o)\n",
        "    H.append(H_o)\n",
        "    return A,H,H[-1]\n",
        "\n",
        "\n",
        "  def get_delta_hidden_layer(self,grad_wrt_weight,delta,A):\n",
        "        if self.activation == \"sigmoid\":\n",
        "            return np.matmul(grad_wrt_weight.T,delta)*(sigmoid_derivative(A))\n",
        "        elif self.activation == \"tanh\":\n",
        "            return np.matmul(grad_wrt_weight.T,delta)*(tanh_derivative(A))\n",
        "        elif self.activation == \"relu\":\n",
        "            return np.matmul(grad_wrt_weight.T,delta)*(relu_derivative(A))\n",
        "\n",
        "  def get_delta_last_layer(self,A,H,Y):\n",
        "\n",
        "    if self.output_function == \"softmax\":\n",
        "      delta = H - Y.T\n",
        "      return delta\n",
        "    else: \n",
        "      print(\"ERROR\")\n",
        "\n",
        "  def backward_propagation(self,X,Y,A,H):\n",
        "    grad_wrt_weights = [np.zeros(w.shape) for w in self.weights]\n",
        "    grad_wrt_biases = [np.zeros(b.shape) for b in self.biases]\n",
        "    N = X.shape[0]\n",
        "    delta = self.get_delta_last_layer(A[-1],H[-1],Y)\n",
        "    grad_wrt_biases[-1] = (1/N)*np.sum(delta,axis = 1,keepdims = True)\n",
        "    grad_wrt_weights[-1] = (1/N)*np.matmul(delta,H[-2].T)\n",
        "    for l in range(2,self.num_of_layers):\n",
        "      delta = self.get_delta_hidden_layer(grad_wrt_weights[-l+1],delta,A[-l])\n",
        "      grad_wrt_biases[-l] = (1/N)*np.sum(delta,axis = 1,keepdims = True)\n",
        "      grad_wrt_weights[-l] = (1/N)*np.matmul(delta,H[-l-1].T)\n",
        "      \n",
        "    return grad_wrt_weights,grad_wrt_biases\n",
        "\n",
        "  def fit(self,x_train,y_train,x_val,y_val,epochs = 5, eta = 0.001,gamma = 0.01,batch_size = 64):\n",
        "      \n",
        "    N = x_train.shape[0]\n",
        "    for epoch in range(1,epochs+1):\n",
        "\n",
        "        batch_error = 0\n",
        "        combined_training_data = list(zip(x_train,y_train))\n",
        "        np.random.shuffle(combined_training_data)\n",
        "        x_train[:],y_train[:] = zip(*combined_training_data)\n",
        "        x_train,y_train = np.array(x_train),np.array(y_train)\n",
        "\n",
        "        mini_x_batches = [x_train[i:i+batch_size] for i in range(0,N,batch_size)]\n",
        "        mini_y_batches = [y_train[i:i+batch_size] for i in range(0,N,batch_size)] \n",
        "\n",
        "        for X,Y in zip(mini_x_batches,mini_y_batches):\n",
        "            #only for nestorov accelerated gradient descent\n",
        "            if self.optimizer == \"nesterov\":\n",
        "                self.biases = [b - gamma*ub for b,ub in zip(self.biases,self.prev_update_biases)]\n",
        "                self.weights = [w - gamma*uw  for w,uw in zip(self.weights,self.prev_update_weights)]\n",
        "\n",
        "            #forward propagation\n",
        "            A,H,Y_predicted = self.forward_propagation(X)\n",
        "            #backward propagation\n",
        "            grad_wrt_weights,grad_wrt_biases = self.backward_propagation(X,Y,A,H)\n",
        "            #gradient descent variant\n",
        "            self.update_parameter(grad_wrt_weights,grad_wrt_biases,eta,gamma)\n",
        "            batch_error += self.calculate_loss(Y.T,Y_predicted)\n",
        "        loss = batch_error/N\n",
        "        accuracy_val = self.test(x_val,y_val)\n",
        "        print(\"In epoch {} the loss for train set is {}\".format(epoch,loss))\n",
        "        print(\"In epoch {} the accuracy for validation set is {} %\".format(epoch,accuracy_val))\n",
        "        print()\n",
        "        print()\n",
        "        \n",
        "\n",
        "  def compile(self,optimizer = \"sgd\",loss = \"squared-error\",activation = \"sigmoid\",output_function = \"softmax\",metrics = \"accuracy\"):\n",
        "\n",
        "    self.activation = activation\n",
        "    self.output_function = output_function\n",
        "    self.optimizer = optimizer\n",
        "    self.loss = loss\n",
        "    self.metrics = metrics\n",
        "\n",
        "\n",
        "  def test(self,X,Y):\n",
        "    if self.metrics == \"accuracy\":\n",
        "        A,H,Y_predicted = self.forward_propagation(X)\n",
        "        Y_list = np.argmax(Y.T,axis = 0).reshape(Y.T.shape[1], 1)\n",
        "        Y_list_predicted = np.argmax(Y_predicted,axis = 0).reshape(Y.T.shape[1], 1)\n",
        "        accuracy_matrix = Y_list_predicted == Y_list\n",
        "        accuracy_list = list(accuracy_matrix)\n",
        "        correct = accuracy_list.count([True])\n",
        "        return round(((correct*100)/len(accuracy_list)),2)\n",
        "\n"
      ],
      "execution_count": 133,
      "outputs": []
    },
    {
      "cell_type": "code",
      "metadata": {
        "id": "epypxxybGm_2"
      },
      "source": [
        "x_train_transformed,y_train_transformed = prep_data(x_train,y_train)"
      ],
      "execution_count": 13,
      "outputs": []
    },
    {
      "cell_type": "code",
      "metadata": {
        "id": "t8jy2JtsaxXY"
      },
      "source": [
        "x_val_transformed,y_val_transformed = prep_data(x_validation,y_validation)"
      ],
      "execution_count": 14,
      "outputs": []
    },
    {
      "cell_type": "code",
      "metadata": {
        "id": "seukU2hGQEuI"
      },
      "source": [
        "net = Network([784,200,200,10],weight_initilizer=\"random\")\n",
        "net.compile(optimizer = \"nesterov\",loss = \"cross_entropy_loss\",activation = \"tanh\",output_function = \"softmax\",metrics = \"accuracy\")"
      ],
      "execution_count": 134,
      "outputs": []
    },
    {
      "cell_type": "code",
      "metadata": {
        "id": "wi5BbykNKsy1",
        "colab": {
          "base_uri": "https://localhost:8080/"
        },
        "outputId": "de835710-678f-422d-bac5-7f08cc792602"
      },
      "source": [
        "net.fit(x_train_transformed,y_train_transformed,x_val_transformed,y_val_transformed,epochs = 50, eta = 0.001,batch_size = 64)"
      ],
      "execution_count": 135,
      "outputs": [
        {
          "output_type": "stream",
          "text": [
            "In epoch 1 the loss for train set is 0.5654345304221985\n",
            "In epoch 1 the accuracy for validation set is 44.03 %\n",
            "\n",
            "\n",
            "In epoch 2 the loss for train set is 0.37141673168404815\n",
            "In epoch 2 the accuracy for validation set is 54.97 %\n",
            "\n",
            "\n",
            "In epoch 3 the loss for train set is 0.3308681863674443\n",
            "In epoch 3 the accuracy for validation set is 60.3 %\n",
            "\n",
            "\n",
            "In epoch 4 the loss for train set is 0.309330864046137\n",
            "In epoch 4 the accuracy for validation set is 63.85 %\n",
            "\n",
            "\n",
            "In epoch 5 the loss for train set is 0.29536274949567193\n",
            "In epoch 5 the accuracy for validation set is 65.7 %\n",
            "\n",
            "\n",
            "In epoch 6 the loss for train set is 0.28552605194428043\n",
            "In epoch 6 the accuracy for validation set is 67.42 %\n",
            "\n",
            "\n",
            "In epoch 7 the loss for train set is 0.27740760498014416\n",
            "In epoch 7 the accuracy for validation set is 68.78 %\n",
            "\n",
            "\n",
            "In epoch 8 the loss for train set is 0.27185994529184143\n",
            "In epoch 8 the accuracy for validation set is 69.9 %\n",
            "\n",
            "\n",
            "In epoch 9 the loss for train set is 0.267266662651517\n",
            "In epoch 9 the accuracy for validation set is 70.68 %\n",
            "\n",
            "\n",
            "In epoch 10 the loss for train set is 0.2637724205285491\n",
            "In epoch 10 the accuracy for validation set is 71.52 %\n",
            "\n",
            "\n",
            "In epoch 11 the loss for train set is 0.2585049154201722\n",
            "In epoch 11 the accuracy for validation set is 72.12 %\n",
            "\n",
            "\n",
            "In epoch 12 the loss for train set is 0.2544958521719321\n",
            "In epoch 12 the accuracy for validation set is 72.58 %\n",
            "\n",
            "\n",
            "In epoch 13 the loss for train set is 0.2513794618313241\n",
            "In epoch 13 the accuracy for validation set is 73.23 %\n",
            "\n",
            "\n",
            "In epoch 14 the loss for train set is 0.2480637625755647\n",
            "In epoch 14 the accuracy for validation set is 73.53 %\n",
            "\n",
            "\n",
            "In epoch 15 the loss for train set is 0.2454516188977108\n",
            "In epoch 15 the accuracy for validation set is 73.95 %\n",
            "\n",
            "\n",
            "In epoch 16 the loss for train set is 0.24245080973737532\n",
            "In epoch 16 the accuracy for validation set is 73.93 %\n",
            "\n",
            "\n",
            "In epoch 17 the loss for train set is 0.2411939066232013\n",
            "In epoch 17 the accuracy for validation set is 74.22 %\n",
            "\n",
            "\n",
            "In epoch 18 the loss for train set is 0.2396123148405793\n",
            "In epoch 18 the accuracy for validation set is 74.45 %\n",
            "\n",
            "\n",
            "In epoch 19 the loss for train set is 0.2384504212060362\n",
            "In epoch 19 the accuracy for validation set is 74.73 %\n",
            "\n",
            "\n",
            "In epoch 20 the loss for train set is 0.23631963795333225\n",
            "In epoch 20 the accuracy for validation set is 74.7 %\n",
            "\n",
            "\n",
            "In epoch 21 the loss for train set is 0.23434559837169872\n",
            "In epoch 21 the accuracy for validation set is 74.9 %\n",
            "\n",
            "\n",
            "In epoch 22 the loss for train set is 0.2338427112902808\n",
            "In epoch 22 the accuracy for validation set is 74.98 %\n",
            "\n",
            "\n",
            "In epoch 23 the loss for train set is 0.2324516656628884\n",
            "In epoch 23 the accuracy for validation set is 74.85 %\n",
            "\n",
            "\n",
            "In epoch 24 the loss for train set is 0.23108932386918946\n",
            "In epoch 24 the accuracy for validation set is 74.92 %\n",
            "\n",
            "\n",
            "In epoch 25 the loss for train set is 0.23018091608060032\n",
            "In epoch 25 the accuracy for validation set is 75.15 %\n",
            "\n",
            "\n",
            "In epoch 26 the loss for train set is 0.2293245874760582\n",
            "In epoch 26 the accuracy for validation set is 75.3 %\n",
            "\n",
            "\n",
            "In epoch 27 the loss for train set is 0.22844907573358234\n",
            "In epoch 27 the accuracy for validation set is 75.42 %\n",
            "\n",
            "\n",
            "In epoch 28 the loss for train set is 0.2273105412977556\n",
            "In epoch 28 the accuracy for validation set is 75.47 %\n",
            "\n",
            "\n",
            "In epoch 29 the loss for train set is 0.22600574902055595\n",
            "In epoch 29 the accuracy for validation set is 75.52 %\n",
            "\n",
            "\n",
            "In epoch 30 the loss for train set is 0.2252858633885468\n",
            "In epoch 30 the accuracy for validation set is 75.57 %\n",
            "\n",
            "\n",
            "In epoch 31 the loss for train set is 0.22439254849087625\n",
            "In epoch 31 the accuracy for validation set is 75.52 %\n",
            "\n",
            "\n",
            "In epoch 32 the loss for train set is 0.22390838584322403\n",
            "In epoch 32 the accuracy for validation set is 75.5 %\n",
            "\n",
            "\n",
            "In epoch 33 the loss for train set is 0.22333728819001342\n",
            "In epoch 33 the accuracy for validation set is 75.48 %\n",
            "\n",
            "\n",
            "In epoch 34 the loss for train set is 0.22230165894661194\n",
            "In epoch 34 the accuracy for validation set is 75.4 %\n",
            "\n",
            "\n",
            "In epoch 35 the loss for train set is 0.22158773278770502\n",
            "In epoch 35 the accuracy for validation set is 75.42 %\n",
            "\n",
            "\n",
            "In epoch 36 the loss for train set is 0.22134156109437528\n",
            "In epoch 36 the accuracy for validation set is 75.53 %\n",
            "\n",
            "\n",
            "In epoch 37 the loss for train set is 0.22088683472545229\n",
            "In epoch 37 the accuracy for validation set is 75.6 %\n",
            "\n",
            "\n",
            "In epoch 38 the loss for train set is 0.22012865004835722\n",
            "In epoch 38 the accuracy for validation set is 75.65 %\n",
            "\n",
            "\n",
            "In epoch 39 the loss for train set is 0.2199360035016218\n",
            "In epoch 39 the accuracy for validation set is 75.55 %\n",
            "\n",
            "\n",
            "In epoch 40 the loss for train set is 0.2193627846946527\n",
            "In epoch 40 the accuracy for validation set is 75.52 %\n",
            "\n",
            "\n",
            "In epoch 41 the loss for train set is 0.2189309682951273\n",
            "In epoch 41 the accuracy for validation set is 75.52 %\n",
            "\n",
            "\n",
            "In epoch 42 the loss for train set is 0.21746551062421712\n",
            "In epoch 42 the accuracy for validation set is 75.4 %\n",
            "\n",
            "\n",
            "In epoch 43 the loss for train set is 0.21698369898972475\n",
            "In epoch 43 the accuracy for validation set is 75.47 %\n",
            "\n",
            "\n",
            "In epoch 44 the loss for train set is 0.21705859005557834\n",
            "In epoch 44 the accuracy for validation set is 75.42 %\n",
            "\n",
            "\n",
            "In epoch 45 the loss for train set is 0.2164679845504271\n",
            "In epoch 45 the accuracy for validation set is 75.52 %\n",
            "\n",
            "\n",
            "In epoch 46 the loss for train set is 0.21564450100700092\n",
            "In epoch 46 the accuracy for validation set is 75.43 %\n",
            "\n",
            "\n",
            "In epoch 47 the loss for train set is 0.21564540841288493\n",
            "In epoch 47 the accuracy for validation set is 75.52 %\n",
            "\n",
            "\n",
            "In epoch 48 the loss for train set is 0.21568412183536237\n",
            "In epoch 48 the accuracy for validation set is 75.5 %\n",
            "\n",
            "\n",
            "In epoch 49 the loss for train set is 0.21526909038656036\n",
            "In epoch 49 the accuracy for validation set is 75.37 %\n",
            "\n",
            "\n",
            "In epoch 50 the loss for train set is 0.21476264254113617\n",
            "In epoch 50 the accuracy for validation set is 75.52 %\n",
            "\n",
            "\n"
          ],
          "name": "stdout"
        }
      ]
    },
    {
      "cell_type": "code",
      "metadata": {
        "id": "NXr0dl1eN67E"
      },
      "source": [
        "x_test_transformed,y_test_transformed = prep_data(x_test,y_test)"
      ],
      "execution_count": 26,
      "outputs": []
    },
    {
      "cell_type": "code",
      "metadata": {
        "colab": {
          "base_uri": "https://localhost:8080/"
        },
        "id": "F3UTaYupKKer",
        "outputId": "ae61009b-42b0-4885-e5b7-41e3b5347ece"
      },
      "source": [
        "net.test(x_test_transformed,y_test_transformed)"
      ],
      "execution_count": 136,
      "outputs": [
        {
          "output_type": "execute_result",
          "data": {
            "text/plain": [
              "73.58"
            ]
          },
          "metadata": {
            "tags": []
          },
          "execution_count": 136
        }
      ]
    }
  ]
}